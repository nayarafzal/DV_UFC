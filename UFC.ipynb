{
 "cells": [
  {
   "cell_type": "code",
   "execution_count": 1,
   "metadata": {},
   "outputs": [],
   "source": [
    "import pandas as pd"
   ]
  },
  {
   "cell_type": "code",
   "execution_count": 2,
   "metadata": {},
   "outputs": [],
   "source": [
    "df = pd.read_excel('data/fights.xlsx')"
   ]
  },
  {
   "cell_type": "code",
   "execution_count": 3,
   "metadata": {},
   "outputs": [],
   "source": [
    "import plotly.graph_objs as go"
   ]
  },
  {
   "cell_type": "code",
   "execution_count": 4,
   "metadata": {},
   "outputs": [],
   "source": [
    "year_options = [dict(label=year, value=year) for year in df['Year'].unique()]"
   ]
  },
  {
   "cell_type": "code",
   "execution_count": 5,
   "metadata": {},
   "outputs": [],
   "source": [
    "category_options = [dict(label=category, value=category) for category in df['Weight Class'].unique()]"
   ]
  },
  {
   "cell_type": "code",
   "execution_count": 6,
   "metadata": {},
   "outputs": [],
   "source": [
    "a=df['Colour_Winner'].value_counts()"
   ]
  },
  {
   "cell_type": "code",
   "execution_count": 7,
   "metadata": {},
   "outputs": [],
   "source": [
    "b=df['Colour_Winner'].unique()"
   ]
  },
  {
   "cell_type": "code",
   "execution_count": 8,
   "metadata": {},
   "outputs": [
    {
     "data": {
      "text/plain": [
       "array(['Red', 'Blue', 'Draw'], dtype=object)"
      ]
     },
     "execution_count": 8,
     "metadata": {},
     "output_type": "execute_result"
    }
   ],
   "source": [
    "b"
   ]
  },
  {
   "cell_type": "code",
   "execution_count": 47,
   "metadata": {},
   "outputs": [
    {
     "data": {
      "application/vnd.plotly.v1+json": {
       "config": {
        "plotlyServerURL": "https://plot.ly"
       },
       "data": [
        {
         "marker": {
          "color": [
           "red",
           "blue",
           "white"
          ]
         },
         "type": "bar",
         "x": [
          "Red",
          "Blue",
          "Draw"
         ],
         "y": [
          3470,
          1591,
          83
         ]
        }
       ],
       "layout": {
        "font": {
         "color": "rgb(255,255,255)"
        },
        "plot_bgcolor": "rgb(64, 64, 64)",
        "template": {
         "data": {
          "bar": [
           {
            "error_x": {
             "color": "#2a3f5f"
            },
            "error_y": {
             "color": "#2a3f5f"
            },
            "marker": {
             "line": {
              "color": "#E5ECF6",
              "width": 0.5
             }
            },
            "type": "bar"
           }
          ],
          "barpolar": [
           {
            "marker": {
             "line": {
              "color": "#E5ECF6",
              "width": 0.5
             }
            },
            "type": "barpolar"
           }
          ],
          "carpet": [
           {
            "aaxis": {
             "endlinecolor": "#2a3f5f",
             "gridcolor": "white",
             "linecolor": "white",
             "minorgridcolor": "white",
             "startlinecolor": "#2a3f5f"
            },
            "baxis": {
             "endlinecolor": "#2a3f5f",
             "gridcolor": "white",
             "linecolor": "white",
             "minorgridcolor": "white",
             "startlinecolor": "#2a3f5f"
            },
            "type": "carpet"
           }
          ],
          "choropleth": [
           {
            "colorbar": {
             "outlinewidth": 0,
             "ticks": ""
            },
            "type": "choropleth"
           }
          ],
          "contour": [
           {
            "colorbar": {
             "outlinewidth": 0,
             "ticks": ""
            },
            "colorscale": [
             [
              0,
              "#0d0887"
             ],
             [
              0.1111111111111111,
              "#46039f"
             ],
             [
              0.2222222222222222,
              "#7201a8"
             ],
             [
              0.3333333333333333,
              "#9c179e"
             ],
             [
              0.4444444444444444,
              "#bd3786"
             ],
             [
              0.5555555555555556,
              "#d8576b"
             ],
             [
              0.6666666666666666,
              "#ed7953"
             ],
             [
              0.7777777777777778,
              "#fb9f3a"
             ],
             [
              0.8888888888888888,
              "#fdca26"
             ],
             [
              1,
              "#f0f921"
             ]
            ],
            "type": "contour"
           }
          ],
          "contourcarpet": [
           {
            "colorbar": {
             "outlinewidth": 0,
             "ticks": ""
            },
            "type": "contourcarpet"
           }
          ],
          "heatmap": [
           {
            "colorbar": {
             "outlinewidth": 0,
             "ticks": ""
            },
            "colorscale": [
             [
              0,
              "#0d0887"
             ],
             [
              0.1111111111111111,
              "#46039f"
             ],
             [
              0.2222222222222222,
              "#7201a8"
             ],
             [
              0.3333333333333333,
              "#9c179e"
             ],
             [
              0.4444444444444444,
              "#bd3786"
             ],
             [
              0.5555555555555556,
              "#d8576b"
             ],
             [
              0.6666666666666666,
              "#ed7953"
             ],
             [
              0.7777777777777778,
              "#fb9f3a"
             ],
             [
              0.8888888888888888,
              "#fdca26"
             ],
             [
              1,
              "#f0f921"
             ]
            ],
            "type": "heatmap"
           }
          ],
          "heatmapgl": [
           {
            "colorbar": {
             "outlinewidth": 0,
             "ticks": ""
            },
            "colorscale": [
             [
              0,
              "#0d0887"
             ],
             [
              0.1111111111111111,
              "#46039f"
             ],
             [
              0.2222222222222222,
              "#7201a8"
             ],
             [
              0.3333333333333333,
              "#9c179e"
             ],
             [
              0.4444444444444444,
              "#bd3786"
             ],
             [
              0.5555555555555556,
              "#d8576b"
             ],
             [
              0.6666666666666666,
              "#ed7953"
             ],
             [
              0.7777777777777778,
              "#fb9f3a"
             ],
             [
              0.8888888888888888,
              "#fdca26"
             ],
             [
              1,
              "#f0f921"
             ]
            ],
            "type": "heatmapgl"
           }
          ],
          "histogram": [
           {
            "marker": {
             "colorbar": {
              "outlinewidth": 0,
              "ticks": ""
             }
            },
            "type": "histogram"
           }
          ],
          "histogram2d": [
           {
            "colorbar": {
             "outlinewidth": 0,
             "ticks": ""
            },
            "colorscale": [
             [
              0,
              "#0d0887"
             ],
             [
              0.1111111111111111,
              "#46039f"
             ],
             [
              0.2222222222222222,
              "#7201a8"
             ],
             [
              0.3333333333333333,
              "#9c179e"
             ],
             [
              0.4444444444444444,
              "#bd3786"
             ],
             [
              0.5555555555555556,
              "#d8576b"
             ],
             [
              0.6666666666666666,
              "#ed7953"
             ],
             [
              0.7777777777777778,
              "#fb9f3a"
             ],
             [
              0.8888888888888888,
              "#fdca26"
             ],
             [
              1,
              "#f0f921"
             ]
            ],
            "type": "histogram2d"
           }
          ],
          "histogram2dcontour": [
           {
            "colorbar": {
             "outlinewidth": 0,
             "ticks": ""
            },
            "colorscale": [
             [
              0,
              "#0d0887"
             ],
             [
              0.1111111111111111,
              "#46039f"
             ],
             [
              0.2222222222222222,
              "#7201a8"
             ],
             [
              0.3333333333333333,
              "#9c179e"
             ],
             [
              0.4444444444444444,
              "#bd3786"
             ],
             [
              0.5555555555555556,
              "#d8576b"
             ],
             [
              0.6666666666666666,
              "#ed7953"
             ],
             [
              0.7777777777777778,
              "#fb9f3a"
             ],
             [
              0.8888888888888888,
              "#fdca26"
             ],
             [
              1,
              "#f0f921"
             ]
            ],
            "type": "histogram2dcontour"
           }
          ],
          "mesh3d": [
           {
            "colorbar": {
             "outlinewidth": 0,
             "ticks": ""
            },
            "type": "mesh3d"
           }
          ],
          "parcoords": [
           {
            "line": {
             "colorbar": {
              "outlinewidth": 0,
              "ticks": ""
             }
            },
            "type": "parcoords"
           }
          ],
          "pie": [
           {
            "automargin": true,
            "type": "pie"
           }
          ],
          "scatter": [
           {
            "marker": {
             "colorbar": {
              "outlinewidth": 0,
              "ticks": ""
             }
            },
            "type": "scatter"
           }
          ],
          "scatter3d": [
           {
            "line": {
             "colorbar": {
              "outlinewidth": 0,
              "ticks": ""
             }
            },
            "marker": {
             "colorbar": {
              "outlinewidth": 0,
              "ticks": ""
             }
            },
            "type": "scatter3d"
           }
          ],
          "scattercarpet": [
           {
            "marker": {
             "colorbar": {
              "outlinewidth": 0,
              "ticks": ""
             }
            },
            "type": "scattercarpet"
           }
          ],
          "scattergeo": [
           {
            "marker": {
             "colorbar": {
              "outlinewidth": 0,
              "ticks": ""
             }
            },
            "type": "scattergeo"
           }
          ],
          "scattergl": [
           {
            "marker": {
             "colorbar": {
              "outlinewidth": 0,
              "ticks": ""
             }
            },
            "type": "scattergl"
           }
          ],
          "scattermapbox": [
           {
            "marker": {
             "colorbar": {
              "outlinewidth": 0,
              "ticks": ""
             }
            },
            "type": "scattermapbox"
           }
          ],
          "scatterpolar": [
           {
            "marker": {
             "colorbar": {
              "outlinewidth": 0,
              "ticks": ""
             }
            },
            "type": "scatterpolar"
           }
          ],
          "scatterpolargl": [
           {
            "marker": {
             "colorbar": {
              "outlinewidth": 0,
              "ticks": ""
             }
            },
            "type": "scatterpolargl"
           }
          ],
          "scatterternary": [
           {
            "marker": {
             "colorbar": {
              "outlinewidth": 0,
              "ticks": ""
             }
            },
            "type": "scatterternary"
           }
          ],
          "surface": [
           {
            "colorbar": {
             "outlinewidth": 0,
             "ticks": ""
            },
            "colorscale": [
             [
              0,
              "#0d0887"
             ],
             [
              0.1111111111111111,
              "#46039f"
             ],
             [
              0.2222222222222222,
              "#7201a8"
             ],
             [
              0.3333333333333333,
              "#9c179e"
             ],
             [
              0.4444444444444444,
              "#bd3786"
             ],
             [
              0.5555555555555556,
              "#d8576b"
             ],
             [
              0.6666666666666666,
              "#ed7953"
             ],
             [
              0.7777777777777778,
              "#fb9f3a"
             ],
             [
              0.8888888888888888,
              "#fdca26"
             ],
             [
              1,
              "#f0f921"
             ]
            ],
            "type": "surface"
           }
          ],
          "table": [
           {
            "cells": {
             "fill": {
              "color": "#EBF0F8"
             },
             "line": {
              "color": "white"
             }
            },
            "header": {
             "fill": {
              "color": "#C8D4E3"
             },
             "line": {
              "color": "white"
             }
            },
            "type": "table"
           }
          ]
         },
         "layout": {
          "annotationdefaults": {
           "arrowcolor": "#2a3f5f",
           "arrowhead": 0,
           "arrowwidth": 1
          },
          "coloraxis": {
           "colorbar": {
            "outlinewidth": 0,
            "ticks": ""
           }
          },
          "colorscale": {
           "diverging": [
            [
             0,
             "#8e0152"
            ],
            [
             0.1,
             "#c51b7d"
            ],
            [
             0.2,
             "#de77ae"
            ],
            [
             0.3,
             "#f1b6da"
            ],
            [
             0.4,
             "#fde0ef"
            ],
            [
             0.5,
             "#f7f7f7"
            ],
            [
             0.6,
             "#e6f5d0"
            ],
            [
             0.7,
             "#b8e186"
            ],
            [
             0.8,
             "#7fbc41"
            ],
            [
             0.9,
             "#4d9221"
            ],
            [
             1,
             "#276419"
            ]
           ],
           "sequential": [
            [
             0,
             "#0d0887"
            ],
            [
             0.1111111111111111,
             "#46039f"
            ],
            [
             0.2222222222222222,
             "#7201a8"
            ],
            [
             0.3333333333333333,
             "#9c179e"
            ],
            [
             0.4444444444444444,
             "#bd3786"
            ],
            [
             0.5555555555555556,
             "#d8576b"
            ],
            [
             0.6666666666666666,
             "#ed7953"
            ],
            [
             0.7777777777777778,
             "#fb9f3a"
            ],
            [
             0.8888888888888888,
             "#fdca26"
            ],
            [
             1,
             "#f0f921"
            ]
           ],
           "sequentialminus": [
            [
             0,
             "#0d0887"
            ],
            [
             0.1111111111111111,
             "#46039f"
            ],
            [
             0.2222222222222222,
             "#7201a8"
            ],
            [
             0.3333333333333333,
             "#9c179e"
            ],
            [
             0.4444444444444444,
             "#bd3786"
            ],
            [
             0.5555555555555556,
             "#d8576b"
            ],
            [
             0.6666666666666666,
             "#ed7953"
            ],
            [
             0.7777777777777778,
             "#fb9f3a"
            ],
            [
             0.8888888888888888,
             "#fdca26"
            ],
            [
             1,
             "#f0f921"
            ]
           ]
          },
          "colorway": [
           "#636efa",
           "#EF553B",
           "#00cc96",
           "#ab63fa",
           "#FFA15A",
           "#19d3f3",
           "#FF6692",
           "#B6E880",
           "#FF97FF",
           "#FECB52"
          ],
          "font": {
           "color": "#2a3f5f"
          },
          "geo": {
           "bgcolor": "white",
           "lakecolor": "white",
           "landcolor": "#E5ECF6",
           "showlakes": true,
           "showland": true,
           "subunitcolor": "white"
          },
          "hoverlabel": {
           "align": "left"
          },
          "hovermode": "closest",
          "mapbox": {
           "style": "light"
          },
          "paper_bgcolor": "white",
          "plot_bgcolor": "#E5ECF6",
          "polar": {
           "angularaxis": {
            "gridcolor": "white",
            "linecolor": "white",
            "ticks": ""
           },
           "bgcolor": "#E5ECF6",
           "radialaxis": {
            "gridcolor": "white",
            "linecolor": "white",
            "ticks": ""
           }
          },
          "scene": {
           "xaxis": {
            "backgroundcolor": "#E5ECF6",
            "gridcolor": "white",
            "gridwidth": 2,
            "linecolor": "white",
            "showbackground": true,
            "ticks": "",
            "zerolinecolor": "white"
           },
           "yaxis": {
            "backgroundcolor": "#E5ECF6",
            "gridcolor": "white",
            "gridwidth": 2,
            "linecolor": "white",
            "showbackground": true,
            "ticks": "",
            "zerolinecolor": "white"
           },
           "zaxis": {
            "backgroundcolor": "#E5ECF6",
            "gridcolor": "white",
            "gridwidth": 2,
            "linecolor": "white",
            "showbackground": true,
            "ticks": "",
            "zerolinecolor": "white"
           }
          },
          "shapedefaults": {
           "line": {
            "color": "#2a3f5f"
           }
          },
          "ternary": {
           "aaxis": {
            "gridcolor": "white",
            "linecolor": "white",
            "ticks": ""
           },
           "baxis": {
            "gridcolor": "white",
            "linecolor": "white",
            "ticks": ""
           },
           "bgcolor": "#E5ECF6",
           "caxis": {
            "gridcolor": "white",
            "linecolor": "white",
            "ticks": ""
           }
          },
          "title": {
           "x": 0.05
          },
          "xaxis": {
           "automargin": true,
           "gridcolor": "white",
           "linecolor": "white",
           "ticks": "",
           "title": {
            "standoff": 15
           },
           "zerolinecolor": "white",
           "zerolinewidth": 2
          },
          "yaxis": {
           "automargin": true,
           "gridcolor": "white",
           "linecolor": "white",
           "ticks": "",
           "title": {
            "standoff": 15
           },
           "zerolinecolor": "white",
           "zerolinewidth": 2
          }
         }
        },
        "title": {
         "text": "Total Fights by Winner"
        },
        "xaxis": {
         "showgrid": false,
         "tickfont": {
          "color": "white"
         }
        },
        "yaxis": {
         "showgrid": false,
         "tickfont": {
          "color": "white"
         }
        }
       }
      },
      "text/html": [
       "<div>\n",
       "        \n",
       "        \n",
       "            <div id=\"44761903-29c0-4132-9f7b-9f171447ae2f\" class=\"plotly-graph-div\" style=\"height:525px; width:100%;\"></div>\n",
       "            <script type=\"text/javascript\">\n",
       "                require([\"plotly\"], function(Plotly) {\n",
       "                    window.PLOTLYENV=window.PLOTLYENV || {};\n",
       "                    \n",
       "                if (document.getElementById(\"44761903-29c0-4132-9f7b-9f171447ae2f\")) {\n",
       "                    Plotly.newPlot(\n",
       "                        '44761903-29c0-4132-9f7b-9f171447ae2f',\n",
       "                        [{\"marker\": {\"color\": [\"red\", \"blue\", \"white\"]}, \"type\": \"bar\", \"x\": [\"Red\", \"Blue\", \"Draw\"], \"y\": [3470, 1591, 83]}],\n",
       "                        {\"font\": {\"color\": \"rgb(255,255,255)\"}, \"plot_bgcolor\": \"rgb(64, 64, 64)\", \"template\": {\"data\": {\"bar\": [{\"error_x\": {\"color\": \"#2a3f5f\"}, \"error_y\": {\"color\": \"#2a3f5f\"}, \"marker\": {\"line\": {\"color\": \"#E5ECF6\", \"width\": 0.5}}, \"type\": \"bar\"}], \"barpolar\": [{\"marker\": {\"line\": {\"color\": \"#E5ECF6\", \"width\": 0.5}}, \"type\": \"barpolar\"}], \"carpet\": [{\"aaxis\": {\"endlinecolor\": \"#2a3f5f\", \"gridcolor\": \"white\", \"linecolor\": \"white\", \"minorgridcolor\": \"white\", \"startlinecolor\": \"#2a3f5f\"}, \"baxis\": {\"endlinecolor\": \"#2a3f5f\", \"gridcolor\": \"white\", \"linecolor\": \"white\", \"minorgridcolor\": \"white\", \"startlinecolor\": \"#2a3f5f\"}, \"type\": \"carpet\"}], \"choropleth\": [{\"colorbar\": {\"outlinewidth\": 0, \"ticks\": \"\"}, \"type\": \"choropleth\"}], \"contour\": [{\"colorbar\": {\"outlinewidth\": 0, \"ticks\": \"\"}, \"colorscale\": [[0.0, \"#0d0887\"], [0.1111111111111111, \"#46039f\"], [0.2222222222222222, \"#7201a8\"], [0.3333333333333333, \"#9c179e\"], [0.4444444444444444, \"#bd3786\"], [0.5555555555555556, \"#d8576b\"], [0.6666666666666666, \"#ed7953\"], [0.7777777777777778, \"#fb9f3a\"], [0.8888888888888888, \"#fdca26\"], [1.0, \"#f0f921\"]], \"type\": \"contour\"}], \"contourcarpet\": [{\"colorbar\": {\"outlinewidth\": 0, \"ticks\": \"\"}, \"type\": \"contourcarpet\"}], \"heatmap\": [{\"colorbar\": {\"outlinewidth\": 0, \"ticks\": \"\"}, \"colorscale\": [[0.0, \"#0d0887\"], [0.1111111111111111, \"#46039f\"], [0.2222222222222222, \"#7201a8\"], [0.3333333333333333, \"#9c179e\"], [0.4444444444444444, \"#bd3786\"], [0.5555555555555556, \"#d8576b\"], [0.6666666666666666, \"#ed7953\"], [0.7777777777777778, \"#fb9f3a\"], [0.8888888888888888, \"#fdca26\"], [1.0, \"#f0f921\"]], \"type\": \"heatmap\"}], \"heatmapgl\": [{\"colorbar\": {\"outlinewidth\": 0, \"ticks\": \"\"}, \"colorscale\": [[0.0, \"#0d0887\"], [0.1111111111111111, \"#46039f\"], [0.2222222222222222, \"#7201a8\"], [0.3333333333333333, \"#9c179e\"], [0.4444444444444444, \"#bd3786\"], [0.5555555555555556, \"#d8576b\"], [0.6666666666666666, \"#ed7953\"], [0.7777777777777778, \"#fb9f3a\"], [0.8888888888888888, \"#fdca26\"], [1.0, \"#f0f921\"]], \"type\": \"heatmapgl\"}], \"histogram\": [{\"marker\": {\"colorbar\": {\"outlinewidth\": 0, \"ticks\": \"\"}}, \"type\": \"histogram\"}], \"histogram2d\": [{\"colorbar\": {\"outlinewidth\": 0, \"ticks\": \"\"}, \"colorscale\": [[0.0, \"#0d0887\"], [0.1111111111111111, \"#46039f\"], [0.2222222222222222, \"#7201a8\"], [0.3333333333333333, \"#9c179e\"], [0.4444444444444444, \"#bd3786\"], [0.5555555555555556, \"#d8576b\"], [0.6666666666666666, \"#ed7953\"], [0.7777777777777778, \"#fb9f3a\"], [0.8888888888888888, \"#fdca26\"], [1.0, \"#f0f921\"]], \"type\": \"histogram2d\"}], \"histogram2dcontour\": [{\"colorbar\": {\"outlinewidth\": 0, \"ticks\": \"\"}, \"colorscale\": [[0.0, \"#0d0887\"], [0.1111111111111111, \"#46039f\"], [0.2222222222222222, \"#7201a8\"], [0.3333333333333333, \"#9c179e\"], [0.4444444444444444, \"#bd3786\"], [0.5555555555555556, \"#d8576b\"], [0.6666666666666666, \"#ed7953\"], [0.7777777777777778, \"#fb9f3a\"], [0.8888888888888888, \"#fdca26\"], [1.0, \"#f0f921\"]], \"type\": \"histogram2dcontour\"}], \"mesh3d\": [{\"colorbar\": {\"outlinewidth\": 0, \"ticks\": \"\"}, \"type\": \"mesh3d\"}], \"parcoords\": [{\"line\": {\"colorbar\": {\"outlinewidth\": 0, \"ticks\": \"\"}}, \"type\": \"parcoords\"}], \"pie\": [{\"automargin\": true, \"type\": \"pie\"}], \"scatter\": [{\"marker\": {\"colorbar\": {\"outlinewidth\": 0, \"ticks\": \"\"}}, \"type\": \"scatter\"}], \"scatter3d\": [{\"line\": {\"colorbar\": {\"outlinewidth\": 0, \"ticks\": \"\"}}, \"marker\": {\"colorbar\": {\"outlinewidth\": 0, \"ticks\": \"\"}}, \"type\": \"scatter3d\"}], \"scattercarpet\": [{\"marker\": {\"colorbar\": {\"outlinewidth\": 0, \"ticks\": \"\"}}, \"type\": \"scattercarpet\"}], \"scattergeo\": [{\"marker\": {\"colorbar\": {\"outlinewidth\": 0, \"ticks\": \"\"}}, \"type\": \"scattergeo\"}], \"scattergl\": [{\"marker\": {\"colorbar\": {\"outlinewidth\": 0, \"ticks\": \"\"}}, \"type\": \"scattergl\"}], \"scattermapbox\": [{\"marker\": {\"colorbar\": {\"outlinewidth\": 0, \"ticks\": \"\"}}, \"type\": \"scattermapbox\"}], \"scatterpolar\": [{\"marker\": {\"colorbar\": {\"outlinewidth\": 0, \"ticks\": \"\"}}, \"type\": \"scatterpolar\"}], \"scatterpolargl\": [{\"marker\": {\"colorbar\": {\"outlinewidth\": 0, \"ticks\": \"\"}}, \"type\": \"scatterpolargl\"}], \"scatterternary\": [{\"marker\": {\"colorbar\": {\"outlinewidth\": 0, \"ticks\": \"\"}}, \"type\": \"scatterternary\"}], \"surface\": [{\"colorbar\": {\"outlinewidth\": 0, \"ticks\": \"\"}, \"colorscale\": [[0.0, \"#0d0887\"], [0.1111111111111111, \"#46039f\"], [0.2222222222222222, \"#7201a8\"], [0.3333333333333333, \"#9c179e\"], [0.4444444444444444, \"#bd3786\"], [0.5555555555555556, \"#d8576b\"], [0.6666666666666666, \"#ed7953\"], [0.7777777777777778, \"#fb9f3a\"], [0.8888888888888888, \"#fdca26\"], [1.0, \"#f0f921\"]], \"type\": \"surface\"}], \"table\": [{\"cells\": {\"fill\": {\"color\": \"#EBF0F8\"}, \"line\": {\"color\": \"white\"}}, \"header\": {\"fill\": {\"color\": \"#C8D4E3\"}, \"line\": {\"color\": \"white\"}}, \"type\": \"table\"}]}, \"layout\": {\"annotationdefaults\": {\"arrowcolor\": \"#2a3f5f\", \"arrowhead\": 0, \"arrowwidth\": 1}, \"coloraxis\": {\"colorbar\": {\"outlinewidth\": 0, \"ticks\": \"\"}}, \"colorscale\": {\"diverging\": [[0, \"#8e0152\"], [0.1, \"#c51b7d\"], [0.2, \"#de77ae\"], [0.3, \"#f1b6da\"], [0.4, \"#fde0ef\"], [0.5, \"#f7f7f7\"], [0.6, \"#e6f5d0\"], [0.7, \"#b8e186\"], [0.8, \"#7fbc41\"], [0.9, \"#4d9221\"], [1, \"#276419\"]], \"sequential\": [[0.0, \"#0d0887\"], [0.1111111111111111, \"#46039f\"], [0.2222222222222222, \"#7201a8\"], [0.3333333333333333, \"#9c179e\"], [0.4444444444444444, \"#bd3786\"], [0.5555555555555556, \"#d8576b\"], [0.6666666666666666, \"#ed7953\"], [0.7777777777777778, \"#fb9f3a\"], [0.8888888888888888, \"#fdca26\"], [1.0, \"#f0f921\"]], \"sequentialminus\": [[0.0, \"#0d0887\"], [0.1111111111111111, \"#46039f\"], [0.2222222222222222, \"#7201a8\"], [0.3333333333333333, \"#9c179e\"], [0.4444444444444444, \"#bd3786\"], [0.5555555555555556, \"#d8576b\"], [0.6666666666666666, \"#ed7953\"], [0.7777777777777778, \"#fb9f3a\"], [0.8888888888888888, \"#fdca26\"], [1.0, \"#f0f921\"]]}, \"colorway\": [\"#636efa\", \"#EF553B\", \"#00cc96\", \"#ab63fa\", \"#FFA15A\", \"#19d3f3\", \"#FF6692\", \"#B6E880\", \"#FF97FF\", \"#FECB52\"], \"font\": {\"color\": \"#2a3f5f\"}, \"geo\": {\"bgcolor\": \"white\", \"lakecolor\": \"white\", \"landcolor\": \"#E5ECF6\", \"showlakes\": true, \"showland\": true, \"subunitcolor\": \"white\"}, \"hoverlabel\": {\"align\": \"left\"}, \"hovermode\": \"closest\", \"mapbox\": {\"style\": \"light\"}, \"paper_bgcolor\": \"white\", \"plot_bgcolor\": \"#E5ECF6\", \"polar\": {\"angularaxis\": {\"gridcolor\": \"white\", \"linecolor\": \"white\", \"ticks\": \"\"}, \"bgcolor\": \"#E5ECF6\", \"radialaxis\": {\"gridcolor\": \"white\", \"linecolor\": \"white\", \"ticks\": \"\"}}, \"scene\": {\"xaxis\": {\"backgroundcolor\": \"#E5ECF6\", \"gridcolor\": \"white\", \"gridwidth\": 2, \"linecolor\": \"white\", \"showbackground\": true, \"ticks\": \"\", \"zerolinecolor\": \"white\"}, \"yaxis\": {\"backgroundcolor\": \"#E5ECF6\", \"gridcolor\": \"white\", \"gridwidth\": 2, \"linecolor\": \"white\", \"showbackground\": true, \"ticks\": \"\", \"zerolinecolor\": \"white\"}, \"zaxis\": {\"backgroundcolor\": \"#E5ECF6\", \"gridcolor\": \"white\", \"gridwidth\": 2, \"linecolor\": \"white\", \"showbackground\": true, \"ticks\": \"\", \"zerolinecolor\": \"white\"}}, \"shapedefaults\": {\"line\": {\"color\": \"#2a3f5f\"}}, \"ternary\": {\"aaxis\": {\"gridcolor\": \"white\", \"linecolor\": \"white\", \"ticks\": \"\"}, \"baxis\": {\"gridcolor\": \"white\", \"linecolor\": \"white\", \"ticks\": \"\"}, \"bgcolor\": \"#E5ECF6\", \"caxis\": {\"gridcolor\": \"white\", \"linecolor\": \"white\", \"ticks\": \"\"}}, \"title\": {\"x\": 0.05}, \"xaxis\": {\"automargin\": true, \"gridcolor\": \"white\", \"linecolor\": \"white\", \"ticks\": \"\", \"title\": {\"standoff\": 15}, \"zerolinecolor\": \"white\", \"zerolinewidth\": 2}, \"yaxis\": {\"automargin\": true, \"gridcolor\": \"white\", \"linecolor\": \"white\", \"ticks\": \"\", \"title\": {\"standoff\": 15}, \"zerolinecolor\": \"white\", \"zerolinewidth\": 2}}}, \"title\": {\"text\": \"Total Fights by Winner\"}, \"xaxis\": {\"showgrid\": false, \"tickfont\": {\"color\": \"white\"}}, \"yaxis\": {\"showgrid\": false, \"tickfont\": {\"color\": \"white\"}}},\n",
       "                        {\"responsive\": true}\n",
       "                    ).then(function(){\n",
       "                            \n",
       "var gd = document.getElementById('44761903-29c0-4132-9f7b-9f171447ae2f');\n",
       "var x = new MutationObserver(function (mutations, observer) {{\n",
       "        var display = window.getComputedStyle(gd).display;\n",
       "        if (!display || display === 'none') {{\n",
       "            console.log([gd, 'removed!']);\n",
       "            Plotly.purge(gd);\n",
       "            observer.disconnect();\n",
       "        }}\n",
       "}});\n",
       "\n",
       "// Listen for the removal of the full notebook cells\n",
       "var notebookContainer = gd.closest('#notebook-container');\n",
       "if (notebookContainer) {{\n",
       "    x.observe(notebookContainer, {childList: true});\n",
       "}}\n",
       "\n",
       "// Listen for the clearing of the current output cell\n",
       "var outputEl = gd.closest('.output');\n",
       "if (outputEl) {{\n",
       "    x.observe(outputEl, {childList: true});\n",
       "}}\n",
       "\n",
       "                        })\n",
       "                };\n",
       "                });\n",
       "            </script>\n",
       "        </div>"
      ]
     },
     "metadata": {},
     "output_type": "display_data"
    }
   ],
   "source": [
    "\n",
    "colors = ['red','blue','white'] \n",
    "fig1 = go.Figure(data=[go.Bar(\n",
    "    x=b,\n",
    "    y=a,\n",
    "    marker_color=colors ,\n",
    "\n",
    "    )\n",
    "    ])\n",
    "fig1.update_layout(title_text='Total Fights by Winner',font=dict(color='rgb(255,255,255'),\n",
    "    plot_bgcolor='rgb(64, 64, 64)' )\n",
    "fig1.update_xaxes(showgrid=False,tickfont=dict(color='white'))\n",
    "fig1.update_yaxes(showgrid=False,tickfont=dict(color='white'))\n",
    "fig1.show()"
   ]
  },
  {
   "cell_type": "code",
   "execution_count": 10,
   "metadata": {},
   "outputs": [
    {
     "data": {
      "text/plain": [
       "False    4809\n",
       "True      335\n",
       "Name: title_bout, dtype: int64"
      ]
     },
     "execution_count": 10,
     "metadata": {},
     "output_type": "execute_result"
    }
   ],
   "source": [
    "c=df['title_bout'].value_counts()\n",
    "c"
   ]
  },
  {
   "cell_type": "code",
   "execution_count": 11,
   "metadata": {},
   "outputs": [],
   "source": [
    "d=df['title_bout'].unique()\n"
   ]
  },
  {
   "cell_type": "code",
   "execution_count": 12,
   "metadata": {},
   "outputs": [
    {
     "data": {
      "application/vnd.plotly.v1+json": {
       "config": {
        "plotlyServerURL": "https://plot.ly"
       },
       "data": [
        {
         "hole": 0.7,
         "labels": [
          true,
          false
         ],
         "type": "pie",
         "values": [
          335,
          4809
         ]
        }
       ],
       "layout": {
        "plot_bgcolor": "rgb(64, 64, 64)",
        "template": {
         "data": {
          "bar": [
           {
            "error_x": {
             "color": "#2a3f5f"
            },
            "error_y": {
             "color": "#2a3f5f"
            },
            "marker": {
             "line": {
              "color": "#E5ECF6",
              "width": 0.5
             }
            },
            "type": "bar"
           }
          ],
          "barpolar": [
           {
            "marker": {
             "line": {
              "color": "#E5ECF6",
              "width": 0.5
             }
            },
            "type": "barpolar"
           }
          ],
          "carpet": [
           {
            "aaxis": {
             "endlinecolor": "#2a3f5f",
             "gridcolor": "white",
             "linecolor": "white",
             "minorgridcolor": "white",
             "startlinecolor": "#2a3f5f"
            },
            "baxis": {
             "endlinecolor": "#2a3f5f",
             "gridcolor": "white",
             "linecolor": "white",
             "minorgridcolor": "white",
             "startlinecolor": "#2a3f5f"
            },
            "type": "carpet"
           }
          ],
          "choropleth": [
           {
            "colorbar": {
             "outlinewidth": 0,
             "ticks": ""
            },
            "type": "choropleth"
           }
          ],
          "contour": [
           {
            "colorbar": {
             "outlinewidth": 0,
             "ticks": ""
            },
            "colorscale": [
             [
              0,
              "#0d0887"
             ],
             [
              0.1111111111111111,
              "#46039f"
             ],
             [
              0.2222222222222222,
              "#7201a8"
             ],
             [
              0.3333333333333333,
              "#9c179e"
             ],
             [
              0.4444444444444444,
              "#bd3786"
             ],
             [
              0.5555555555555556,
              "#d8576b"
             ],
             [
              0.6666666666666666,
              "#ed7953"
             ],
             [
              0.7777777777777778,
              "#fb9f3a"
             ],
             [
              0.8888888888888888,
              "#fdca26"
             ],
             [
              1,
              "#f0f921"
             ]
            ],
            "type": "contour"
           }
          ],
          "contourcarpet": [
           {
            "colorbar": {
             "outlinewidth": 0,
             "ticks": ""
            },
            "type": "contourcarpet"
           }
          ],
          "heatmap": [
           {
            "colorbar": {
             "outlinewidth": 0,
             "ticks": ""
            },
            "colorscale": [
             [
              0,
              "#0d0887"
             ],
             [
              0.1111111111111111,
              "#46039f"
             ],
             [
              0.2222222222222222,
              "#7201a8"
             ],
             [
              0.3333333333333333,
              "#9c179e"
             ],
             [
              0.4444444444444444,
              "#bd3786"
             ],
             [
              0.5555555555555556,
              "#d8576b"
             ],
             [
              0.6666666666666666,
              "#ed7953"
             ],
             [
              0.7777777777777778,
              "#fb9f3a"
             ],
             [
              0.8888888888888888,
              "#fdca26"
             ],
             [
              1,
              "#f0f921"
             ]
            ],
            "type": "heatmap"
           }
          ],
          "heatmapgl": [
           {
            "colorbar": {
             "outlinewidth": 0,
             "ticks": ""
            },
            "colorscale": [
             [
              0,
              "#0d0887"
             ],
             [
              0.1111111111111111,
              "#46039f"
             ],
             [
              0.2222222222222222,
              "#7201a8"
             ],
             [
              0.3333333333333333,
              "#9c179e"
             ],
             [
              0.4444444444444444,
              "#bd3786"
             ],
             [
              0.5555555555555556,
              "#d8576b"
             ],
             [
              0.6666666666666666,
              "#ed7953"
             ],
             [
              0.7777777777777778,
              "#fb9f3a"
             ],
             [
              0.8888888888888888,
              "#fdca26"
             ],
             [
              1,
              "#f0f921"
             ]
            ],
            "type": "heatmapgl"
           }
          ],
          "histogram": [
           {
            "marker": {
             "colorbar": {
              "outlinewidth": 0,
              "ticks": ""
             }
            },
            "type": "histogram"
           }
          ],
          "histogram2d": [
           {
            "colorbar": {
             "outlinewidth": 0,
             "ticks": ""
            },
            "colorscale": [
             [
              0,
              "#0d0887"
             ],
             [
              0.1111111111111111,
              "#46039f"
             ],
             [
              0.2222222222222222,
              "#7201a8"
             ],
             [
              0.3333333333333333,
              "#9c179e"
             ],
             [
              0.4444444444444444,
              "#bd3786"
             ],
             [
              0.5555555555555556,
              "#d8576b"
             ],
             [
              0.6666666666666666,
              "#ed7953"
             ],
             [
              0.7777777777777778,
              "#fb9f3a"
             ],
             [
              0.8888888888888888,
              "#fdca26"
             ],
             [
              1,
              "#f0f921"
             ]
            ],
            "type": "histogram2d"
           }
          ],
          "histogram2dcontour": [
           {
            "colorbar": {
             "outlinewidth": 0,
             "ticks": ""
            },
            "colorscale": [
             [
              0,
              "#0d0887"
             ],
             [
              0.1111111111111111,
              "#46039f"
             ],
             [
              0.2222222222222222,
              "#7201a8"
             ],
             [
              0.3333333333333333,
              "#9c179e"
             ],
             [
              0.4444444444444444,
              "#bd3786"
             ],
             [
              0.5555555555555556,
              "#d8576b"
             ],
             [
              0.6666666666666666,
              "#ed7953"
             ],
             [
              0.7777777777777778,
              "#fb9f3a"
             ],
             [
              0.8888888888888888,
              "#fdca26"
             ],
             [
              1,
              "#f0f921"
             ]
            ],
            "type": "histogram2dcontour"
           }
          ],
          "mesh3d": [
           {
            "colorbar": {
             "outlinewidth": 0,
             "ticks": ""
            },
            "type": "mesh3d"
           }
          ],
          "parcoords": [
           {
            "line": {
             "colorbar": {
              "outlinewidth": 0,
              "ticks": ""
             }
            },
            "type": "parcoords"
           }
          ],
          "pie": [
           {
            "automargin": true,
            "type": "pie"
           }
          ],
          "scatter": [
           {
            "marker": {
             "colorbar": {
              "outlinewidth": 0,
              "ticks": ""
             }
            },
            "type": "scatter"
           }
          ],
          "scatter3d": [
           {
            "line": {
             "colorbar": {
              "outlinewidth": 0,
              "ticks": ""
             }
            },
            "marker": {
             "colorbar": {
              "outlinewidth": 0,
              "ticks": ""
             }
            },
            "type": "scatter3d"
           }
          ],
          "scattercarpet": [
           {
            "marker": {
             "colorbar": {
              "outlinewidth": 0,
              "ticks": ""
             }
            },
            "type": "scattercarpet"
           }
          ],
          "scattergeo": [
           {
            "marker": {
             "colorbar": {
              "outlinewidth": 0,
              "ticks": ""
             }
            },
            "type": "scattergeo"
           }
          ],
          "scattergl": [
           {
            "marker": {
             "colorbar": {
              "outlinewidth": 0,
              "ticks": ""
             }
            },
            "type": "scattergl"
           }
          ],
          "scattermapbox": [
           {
            "marker": {
             "colorbar": {
              "outlinewidth": 0,
              "ticks": ""
             }
            },
            "type": "scattermapbox"
           }
          ],
          "scatterpolar": [
           {
            "marker": {
             "colorbar": {
              "outlinewidth": 0,
              "ticks": ""
             }
            },
            "type": "scatterpolar"
           }
          ],
          "scatterpolargl": [
           {
            "marker": {
             "colorbar": {
              "outlinewidth": 0,
              "ticks": ""
             }
            },
            "type": "scatterpolargl"
           }
          ],
          "scatterternary": [
           {
            "marker": {
             "colorbar": {
              "outlinewidth": 0,
              "ticks": ""
             }
            },
            "type": "scatterternary"
           }
          ],
          "surface": [
           {
            "colorbar": {
             "outlinewidth": 0,
             "ticks": ""
            },
            "colorscale": [
             [
              0,
              "#0d0887"
             ],
             [
              0.1111111111111111,
              "#46039f"
             ],
             [
              0.2222222222222222,
              "#7201a8"
             ],
             [
              0.3333333333333333,
              "#9c179e"
             ],
             [
              0.4444444444444444,
              "#bd3786"
             ],
             [
              0.5555555555555556,
              "#d8576b"
             ],
             [
              0.6666666666666666,
              "#ed7953"
             ],
             [
              0.7777777777777778,
              "#fb9f3a"
             ],
             [
              0.8888888888888888,
              "#fdca26"
             ],
             [
              1,
              "#f0f921"
             ]
            ],
            "type": "surface"
           }
          ],
          "table": [
           {
            "cells": {
             "fill": {
              "color": "#EBF0F8"
             },
             "line": {
              "color": "white"
             }
            },
            "header": {
             "fill": {
              "color": "#C8D4E3"
             },
             "line": {
              "color": "white"
             }
            },
            "type": "table"
           }
          ]
         },
         "layout": {
          "annotationdefaults": {
           "arrowcolor": "#2a3f5f",
           "arrowhead": 0,
           "arrowwidth": 1
          },
          "coloraxis": {
           "colorbar": {
            "outlinewidth": 0,
            "ticks": ""
           }
          },
          "colorscale": {
           "diverging": [
            [
             0,
             "#8e0152"
            ],
            [
             0.1,
             "#c51b7d"
            ],
            [
             0.2,
             "#de77ae"
            ],
            [
             0.3,
             "#f1b6da"
            ],
            [
             0.4,
             "#fde0ef"
            ],
            [
             0.5,
             "#f7f7f7"
            ],
            [
             0.6,
             "#e6f5d0"
            ],
            [
             0.7,
             "#b8e186"
            ],
            [
             0.8,
             "#7fbc41"
            ],
            [
             0.9,
             "#4d9221"
            ],
            [
             1,
             "#276419"
            ]
           ],
           "sequential": [
            [
             0,
             "#0d0887"
            ],
            [
             0.1111111111111111,
             "#46039f"
            ],
            [
             0.2222222222222222,
             "#7201a8"
            ],
            [
             0.3333333333333333,
             "#9c179e"
            ],
            [
             0.4444444444444444,
             "#bd3786"
            ],
            [
             0.5555555555555556,
             "#d8576b"
            ],
            [
             0.6666666666666666,
             "#ed7953"
            ],
            [
             0.7777777777777778,
             "#fb9f3a"
            ],
            [
             0.8888888888888888,
             "#fdca26"
            ],
            [
             1,
             "#f0f921"
            ]
           ],
           "sequentialminus": [
            [
             0,
             "#0d0887"
            ],
            [
             0.1111111111111111,
             "#46039f"
            ],
            [
             0.2222222222222222,
             "#7201a8"
            ],
            [
             0.3333333333333333,
             "#9c179e"
            ],
            [
             0.4444444444444444,
             "#bd3786"
            ],
            [
             0.5555555555555556,
             "#d8576b"
            ],
            [
             0.6666666666666666,
             "#ed7953"
            ],
            [
             0.7777777777777778,
             "#fb9f3a"
            ],
            [
             0.8888888888888888,
             "#fdca26"
            ],
            [
             1,
             "#f0f921"
            ]
           ]
          },
          "colorway": [
           "#636efa",
           "#EF553B",
           "#00cc96",
           "#ab63fa",
           "#FFA15A",
           "#19d3f3",
           "#FF6692",
           "#B6E880",
           "#FF97FF",
           "#FECB52"
          ],
          "font": {
           "color": "#2a3f5f"
          },
          "geo": {
           "bgcolor": "white",
           "lakecolor": "white",
           "landcolor": "#E5ECF6",
           "showlakes": true,
           "showland": true,
           "subunitcolor": "white"
          },
          "hoverlabel": {
           "align": "left"
          },
          "hovermode": "closest",
          "mapbox": {
           "style": "light"
          },
          "paper_bgcolor": "white",
          "plot_bgcolor": "#E5ECF6",
          "polar": {
           "angularaxis": {
            "gridcolor": "white",
            "linecolor": "white",
            "ticks": ""
           },
           "bgcolor": "#E5ECF6",
           "radialaxis": {
            "gridcolor": "white",
            "linecolor": "white",
            "ticks": ""
           }
          },
          "scene": {
           "xaxis": {
            "backgroundcolor": "#E5ECF6",
            "gridcolor": "white",
            "gridwidth": 2,
            "linecolor": "white",
            "showbackground": true,
            "ticks": "",
            "zerolinecolor": "white"
           },
           "yaxis": {
            "backgroundcolor": "#E5ECF6",
            "gridcolor": "white",
            "gridwidth": 2,
            "linecolor": "white",
            "showbackground": true,
            "ticks": "",
            "zerolinecolor": "white"
           },
           "zaxis": {
            "backgroundcolor": "#E5ECF6",
            "gridcolor": "white",
            "gridwidth": 2,
            "linecolor": "white",
            "showbackground": true,
            "ticks": "",
            "zerolinecolor": "white"
           }
          },
          "shapedefaults": {
           "line": {
            "color": "#2a3f5f"
           }
          },
          "ternary": {
           "aaxis": {
            "gridcolor": "white",
            "linecolor": "white",
            "ticks": ""
           },
           "baxis": {
            "gridcolor": "white",
            "linecolor": "white",
            "ticks": ""
           },
           "bgcolor": "#E5ECF6",
           "caxis": {
            "gridcolor": "white",
            "linecolor": "white",
            "ticks": ""
           }
          },
          "title": {
           "x": 0.05
          },
          "xaxis": {
           "automargin": true,
           "gridcolor": "white",
           "linecolor": "white",
           "ticks": "",
           "title": {
            "standoff": 15
           },
           "zerolinecolor": "white",
           "zerolinewidth": 2
          },
          "yaxis": {
           "automargin": true,
           "gridcolor": "white",
           "linecolor": "white",
           "ticks": "",
           "title": {
            "standoff": 15
           },
           "zerolinecolor": "white",
           "zerolinewidth": 2
          }
         }
        },
        "title": {
         "text": "Title Fights"
        }
       }
      },
      "text/html": [
       "<div>\n",
       "        \n",
       "        \n",
       "            <div id=\"006641ee-6791-469b-b2cb-5e4cc3072316\" class=\"plotly-graph-div\" style=\"height:525px; width:100%;\"></div>\n",
       "            <script type=\"text/javascript\">\n",
       "                require([\"plotly\"], function(Plotly) {\n",
       "                    window.PLOTLYENV=window.PLOTLYENV || {};\n",
       "                    \n",
       "                if (document.getElementById(\"006641ee-6791-469b-b2cb-5e4cc3072316\")) {\n",
       "                    Plotly.newPlot(\n",
       "                        '006641ee-6791-469b-b2cb-5e4cc3072316',\n",
       "                        [{\"hole\": 0.7, \"labels\": [true, false], \"type\": \"pie\", \"values\": [335, 4809]}],\n",
       "                        {\"plot_bgcolor\": \"rgb(64, 64, 64)\", \"template\": {\"data\": {\"bar\": [{\"error_x\": {\"color\": \"#2a3f5f\"}, \"error_y\": {\"color\": \"#2a3f5f\"}, \"marker\": {\"line\": {\"color\": \"#E5ECF6\", \"width\": 0.5}}, \"type\": \"bar\"}], \"barpolar\": [{\"marker\": {\"line\": {\"color\": \"#E5ECF6\", \"width\": 0.5}}, \"type\": \"barpolar\"}], \"carpet\": [{\"aaxis\": {\"endlinecolor\": \"#2a3f5f\", \"gridcolor\": \"white\", \"linecolor\": \"white\", \"minorgridcolor\": \"white\", \"startlinecolor\": \"#2a3f5f\"}, \"baxis\": {\"endlinecolor\": \"#2a3f5f\", \"gridcolor\": \"white\", \"linecolor\": \"white\", \"minorgridcolor\": \"white\", \"startlinecolor\": \"#2a3f5f\"}, \"type\": \"carpet\"}], \"choropleth\": [{\"colorbar\": {\"outlinewidth\": 0, \"ticks\": \"\"}, \"type\": \"choropleth\"}], \"contour\": [{\"colorbar\": {\"outlinewidth\": 0, \"ticks\": \"\"}, \"colorscale\": [[0.0, \"#0d0887\"], [0.1111111111111111, \"#46039f\"], [0.2222222222222222, \"#7201a8\"], [0.3333333333333333, \"#9c179e\"], [0.4444444444444444, \"#bd3786\"], [0.5555555555555556, \"#d8576b\"], [0.6666666666666666, \"#ed7953\"], [0.7777777777777778, \"#fb9f3a\"], [0.8888888888888888, \"#fdca26\"], [1.0, \"#f0f921\"]], \"type\": \"contour\"}], \"contourcarpet\": [{\"colorbar\": {\"outlinewidth\": 0, \"ticks\": \"\"}, \"type\": \"contourcarpet\"}], \"heatmap\": [{\"colorbar\": {\"outlinewidth\": 0, \"ticks\": \"\"}, \"colorscale\": [[0.0, \"#0d0887\"], [0.1111111111111111, \"#46039f\"], [0.2222222222222222, \"#7201a8\"], [0.3333333333333333, \"#9c179e\"], [0.4444444444444444, \"#bd3786\"], [0.5555555555555556, \"#d8576b\"], [0.6666666666666666, \"#ed7953\"], [0.7777777777777778, \"#fb9f3a\"], [0.8888888888888888, \"#fdca26\"], [1.0, \"#f0f921\"]], \"type\": \"heatmap\"}], \"heatmapgl\": [{\"colorbar\": {\"outlinewidth\": 0, \"ticks\": \"\"}, \"colorscale\": [[0.0, \"#0d0887\"], [0.1111111111111111, \"#46039f\"], [0.2222222222222222, \"#7201a8\"], [0.3333333333333333, \"#9c179e\"], [0.4444444444444444, \"#bd3786\"], [0.5555555555555556, \"#d8576b\"], [0.6666666666666666, \"#ed7953\"], [0.7777777777777778, \"#fb9f3a\"], [0.8888888888888888, \"#fdca26\"], [1.0, \"#f0f921\"]], \"type\": \"heatmapgl\"}], \"histogram\": [{\"marker\": {\"colorbar\": {\"outlinewidth\": 0, \"ticks\": \"\"}}, \"type\": \"histogram\"}], \"histogram2d\": [{\"colorbar\": {\"outlinewidth\": 0, \"ticks\": \"\"}, \"colorscale\": [[0.0, \"#0d0887\"], [0.1111111111111111, \"#46039f\"], [0.2222222222222222, \"#7201a8\"], [0.3333333333333333, \"#9c179e\"], [0.4444444444444444, \"#bd3786\"], [0.5555555555555556, \"#d8576b\"], [0.6666666666666666, \"#ed7953\"], [0.7777777777777778, \"#fb9f3a\"], [0.8888888888888888, \"#fdca26\"], [1.0, \"#f0f921\"]], \"type\": \"histogram2d\"}], \"histogram2dcontour\": [{\"colorbar\": {\"outlinewidth\": 0, \"ticks\": \"\"}, \"colorscale\": [[0.0, \"#0d0887\"], [0.1111111111111111, \"#46039f\"], [0.2222222222222222, \"#7201a8\"], [0.3333333333333333, \"#9c179e\"], [0.4444444444444444, \"#bd3786\"], [0.5555555555555556, \"#d8576b\"], [0.6666666666666666, \"#ed7953\"], [0.7777777777777778, \"#fb9f3a\"], [0.8888888888888888, \"#fdca26\"], [1.0, \"#f0f921\"]], \"type\": \"histogram2dcontour\"}], \"mesh3d\": [{\"colorbar\": {\"outlinewidth\": 0, \"ticks\": \"\"}, \"type\": \"mesh3d\"}], \"parcoords\": [{\"line\": {\"colorbar\": {\"outlinewidth\": 0, \"ticks\": \"\"}}, \"type\": \"parcoords\"}], \"pie\": [{\"automargin\": true, \"type\": \"pie\"}], \"scatter\": [{\"marker\": {\"colorbar\": {\"outlinewidth\": 0, \"ticks\": \"\"}}, \"type\": \"scatter\"}], \"scatter3d\": [{\"line\": {\"colorbar\": {\"outlinewidth\": 0, \"ticks\": \"\"}}, \"marker\": {\"colorbar\": {\"outlinewidth\": 0, \"ticks\": \"\"}}, \"type\": \"scatter3d\"}], \"scattercarpet\": [{\"marker\": {\"colorbar\": {\"outlinewidth\": 0, \"ticks\": \"\"}}, \"type\": \"scattercarpet\"}], \"scattergeo\": [{\"marker\": {\"colorbar\": {\"outlinewidth\": 0, \"ticks\": \"\"}}, \"type\": \"scattergeo\"}], \"scattergl\": [{\"marker\": {\"colorbar\": {\"outlinewidth\": 0, \"ticks\": \"\"}}, \"type\": \"scattergl\"}], \"scattermapbox\": [{\"marker\": {\"colorbar\": {\"outlinewidth\": 0, \"ticks\": \"\"}}, \"type\": \"scattermapbox\"}], \"scatterpolar\": [{\"marker\": {\"colorbar\": {\"outlinewidth\": 0, \"ticks\": \"\"}}, \"type\": \"scatterpolar\"}], \"scatterpolargl\": [{\"marker\": {\"colorbar\": {\"outlinewidth\": 0, \"ticks\": \"\"}}, \"type\": \"scatterpolargl\"}], \"scatterternary\": [{\"marker\": {\"colorbar\": {\"outlinewidth\": 0, \"ticks\": \"\"}}, \"type\": \"scatterternary\"}], \"surface\": [{\"colorbar\": {\"outlinewidth\": 0, \"ticks\": \"\"}, \"colorscale\": [[0.0, \"#0d0887\"], [0.1111111111111111, \"#46039f\"], [0.2222222222222222, \"#7201a8\"], [0.3333333333333333, \"#9c179e\"], [0.4444444444444444, \"#bd3786\"], [0.5555555555555556, \"#d8576b\"], [0.6666666666666666, \"#ed7953\"], [0.7777777777777778, \"#fb9f3a\"], [0.8888888888888888, \"#fdca26\"], [1.0, \"#f0f921\"]], \"type\": \"surface\"}], \"table\": [{\"cells\": {\"fill\": {\"color\": \"#EBF0F8\"}, \"line\": {\"color\": \"white\"}}, \"header\": {\"fill\": {\"color\": \"#C8D4E3\"}, \"line\": {\"color\": \"white\"}}, \"type\": \"table\"}]}, \"layout\": {\"annotationdefaults\": {\"arrowcolor\": \"#2a3f5f\", \"arrowhead\": 0, \"arrowwidth\": 1}, \"coloraxis\": {\"colorbar\": {\"outlinewidth\": 0, \"ticks\": \"\"}}, \"colorscale\": {\"diverging\": [[0, \"#8e0152\"], [0.1, \"#c51b7d\"], [0.2, \"#de77ae\"], [0.3, \"#f1b6da\"], [0.4, \"#fde0ef\"], [0.5, \"#f7f7f7\"], [0.6, \"#e6f5d0\"], [0.7, \"#b8e186\"], [0.8, \"#7fbc41\"], [0.9, \"#4d9221\"], [1, \"#276419\"]], \"sequential\": [[0.0, \"#0d0887\"], [0.1111111111111111, \"#46039f\"], [0.2222222222222222, \"#7201a8\"], [0.3333333333333333, \"#9c179e\"], [0.4444444444444444, \"#bd3786\"], [0.5555555555555556, \"#d8576b\"], [0.6666666666666666, \"#ed7953\"], [0.7777777777777778, \"#fb9f3a\"], [0.8888888888888888, \"#fdca26\"], [1.0, \"#f0f921\"]], \"sequentialminus\": [[0.0, \"#0d0887\"], [0.1111111111111111, \"#46039f\"], [0.2222222222222222, \"#7201a8\"], [0.3333333333333333, \"#9c179e\"], [0.4444444444444444, \"#bd3786\"], [0.5555555555555556, \"#d8576b\"], [0.6666666666666666, \"#ed7953\"], [0.7777777777777778, \"#fb9f3a\"], [0.8888888888888888, \"#fdca26\"], [1.0, \"#f0f921\"]]}, \"colorway\": [\"#636efa\", \"#EF553B\", \"#00cc96\", \"#ab63fa\", \"#FFA15A\", \"#19d3f3\", \"#FF6692\", \"#B6E880\", \"#FF97FF\", \"#FECB52\"], \"font\": {\"color\": \"#2a3f5f\"}, \"geo\": {\"bgcolor\": \"white\", \"lakecolor\": \"white\", \"landcolor\": \"#E5ECF6\", \"showlakes\": true, \"showland\": true, \"subunitcolor\": \"white\"}, \"hoverlabel\": {\"align\": \"left\"}, \"hovermode\": \"closest\", \"mapbox\": {\"style\": \"light\"}, \"paper_bgcolor\": \"white\", \"plot_bgcolor\": \"#E5ECF6\", \"polar\": {\"angularaxis\": {\"gridcolor\": \"white\", \"linecolor\": \"white\", \"ticks\": \"\"}, \"bgcolor\": \"#E5ECF6\", \"radialaxis\": {\"gridcolor\": \"white\", \"linecolor\": \"white\", \"ticks\": \"\"}}, \"scene\": {\"xaxis\": {\"backgroundcolor\": \"#E5ECF6\", \"gridcolor\": \"white\", \"gridwidth\": 2, \"linecolor\": \"white\", \"showbackground\": true, \"ticks\": \"\", \"zerolinecolor\": \"white\"}, \"yaxis\": {\"backgroundcolor\": \"#E5ECF6\", \"gridcolor\": \"white\", \"gridwidth\": 2, \"linecolor\": \"white\", \"showbackground\": true, \"ticks\": \"\", \"zerolinecolor\": \"white\"}, \"zaxis\": {\"backgroundcolor\": \"#E5ECF6\", \"gridcolor\": \"white\", \"gridwidth\": 2, \"linecolor\": \"white\", \"showbackground\": true, \"ticks\": \"\", \"zerolinecolor\": \"white\"}}, \"shapedefaults\": {\"line\": {\"color\": \"#2a3f5f\"}}, \"ternary\": {\"aaxis\": {\"gridcolor\": \"white\", \"linecolor\": \"white\", \"ticks\": \"\"}, \"baxis\": {\"gridcolor\": \"white\", \"linecolor\": \"white\", \"ticks\": \"\"}, \"bgcolor\": \"#E5ECF6\", \"caxis\": {\"gridcolor\": \"white\", \"linecolor\": \"white\", \"ticks\": \"\"}}, \"title\": {\"x\": 0.05}, \"xaxis\": {\"automargin\": true, \"gridcolor\": \"white\", \"linecolor\": \"white\", \"ticks\": \"\", \"title\": {\"standoff\": 15}, \"zerolinecolor\": \"white\", \"zerolinewidth\": 2}, \"yaxis\": {\"automargin\": true, \"gridcolor\": \"white\", \"linecolor\": \"white\", \"ticks\": \"\", \"title\": {\"standoff\": 15}, \"zerolinecolor\": \"white\", \"zerolinewidth\": 2}}}, \"title\": {\"text\": \"Title Fights\"}},\n",
       "                        {\"responsive\": true}\n",
       "                    ).then(function(){\n",
       "                            \n",
       "var gd = document.getElementById('006641ee-6791-469b-b2cb-5e4cc3072316');\n",
       "var x = new MutationObserver(function (mutations, observer) {{\n",
       "        var display = window.getComputedStyle(gd).display;\n",
       "        if (!display || display === 'none') {{\n",
       "            console.log([gd, 'removed!']);\n",
       "            Plotly.purge(gd);\n",
       "            observer.disconnect();\n",
       "        }}\n",
       "}});\n",
       "\n",
       "// Listen for the removal of the full notebook cells\n",
       "var notebookContainer = gd.closest('#notebook-container');\n",
       "if (notebookContainer) {{\n",
       "    x.observe(notebookContainer, {childList: true});\n",
       "}}\n",
       "\n",
       "// Listen for the clearing of the current output cell\n",
       "var outputEl = gd.closest('.output');\n",
       "if (outputEl) {{\n",
       "    x.observe(outputEl, {childList: true});\n",
       "}}\n",
       "\n",
       "                        })\n",
       "                };\n",
       "                });\n",
       "            </script>\n",
       "        </div>"
      ]
     },
     "metadata": {},
     "output_type": "display_data"
    }
   ],
   "source": [
    "import numpy as np\n",
    "labels = d\n",
    "values = np.flip(c)\n",
    "# Use `hole` to create a donut-like pie chart\n",
    "fig2 = go.Figure(data=[go.Pie(labels=labels, values=values,hole=.7)])\n",
    "fig2.update_layout(title_text='Title Fights', plot_bgcolor='rgb(64, 64, 64)')\n",
    "fig2.show()"
   ]
  },
  {
   "cell_type": "code",
   "execution_count": 13,
   "metadata": {},
   "outputs": [],
   "source": [
    "dfg = pd.read_excel('data/fighter.xlsx')"
   ]
  },
  {
   "cell_type": "code",
   "execution_count": 14,
   "metadata": {},
   "outputs": [
    {
     "data": {
      "text/html": [
       "<div>\n",
       "<style scoped>\n",
       "    .dataframe tbody tr th:only-of-type {\n",
       "        vertical-align: middle;\n",
       "    }\n",
       "\n",
       "    .dataframe tbody tr th {\n",
       "        vertical-align: top;\n",
       "    }\n",
       "\n",
       "    .dataframe thead th {\n",
       "        text-align: right;\n",
       "    }\n",
       "</style>\n",
       "<table border=\"1\" class=\"dataframe\">\n",
       "  <thead>\n",
       "    <tr style=\"text-align: right;\">\n",
       "      <th></th>\n",
       "      <th>fighter_name</th>\n",
       "      <th>Height</th>\n",
       "      <th>Weight</th>\n",
       "      <th>Reach</th>\n",
       "      <th>Stance</th>\n",
       "      <th>Fighter_ID</th>\n",
       "      <th>Date of Birth</th>\n",
       "    </tr>\n",
       "  </thead>\n",
       "  <tbody>\n",
       "    <tr>\n",
       "      <th>0</th>\n",
       "      <td>Aaron Wetherspoon</td>\n",
       "      <td>NaN</td>\n",
       "      <td>170 lbs.</td>\n",
       "      <td>NaN</td>\n",
       "      <td>NaN</td>\n",
       "      <td>16</td>\n",
       "      <td>NaN</td>\n",
       "    </tr>\n",
       "    <tr>\n",
       "      <th>1</th>\n",
       "      <td>Adam Smith</td>\n",
       "      <td>NaN</td>\n",
       "      <td>NaN</td>\n",
       "      <td>NaN</td>\n",
       "      <td>NaN</td>\n",
       "      <td>36</td>\n",
       "      <td>NaN</td>\n",
       "    </tr>\n",
       "    <tr>\n",
       "      <th>2</th>\n",
       "      <td>Adam Steele</td>\n",
       "      <td>NaN</td>\n",
       "      <td>170 lbs.</td>\n",
       "      <td>NaN</td>\n",
       "      <td>NaN</td>\n",
       "      <td>37</td>\n",
       "      <td>NaN</td>\n",
       "    </tr>\n",
       "    <tr>\n",
       "      <th>3</th>\n",
       "      <td>Adriano Santos</td>\n",
       "      <td>NaN</td>\n",
       "      <td>NaN</td>\n",
       "      <td>NaN</td>\n",
       "      <td>NaN</td>\n",
       "      <td>46</td>\n",
       "      <td>NaN</td>\n",
       "    </tr>\n",
       "    <tr>\n",
       "      <th>4</th>\n",
       "      <td>Alan Gomez</td>\n",
       "      <td>NaN</td>\n",
       "      <td>155 lbs.</td>\n",
       "      <td>NaN</td>\n",
       "      <td>NaN</td>\n",
       "      <td>61</td>\n",
       "      <td>NaN</td>\n",
       "    </tr>\n",
       "  </tbody>\n",
       "</table>\n",
       "</div>"
      ],
      "text/plain": [
       "        fighter_name Height    Weight Reach Stance  Fighter_ID Date of Birth\n",
       "0  Aaron Wetherspoon    NaN  170 lbs.   NaN    NaN          16           NaN\n",
       "1         Adam Smith    NaN       NaN   NaN    NaN          36           NaN\n",
       "2        Adam Steele    NaN  170 lbs.   NaN    NaN          37           NaN\n",
       "3     Adriano Santos    NaN       NaN   NaN    NaN          46           NaN\n",
       "4         Alan Gomez    NaN  155 lbs.   NaN    NaN          61           NaN"
      ]
     },
     "execution_count": 14,
     "metadata": {},
     "output_type": "execute_result"
    }
   ],
   "source": [
    "dfg.head()"
   ]
  },
  {
   "cell_type": "code",
   "execution_count": 15,
   "metadata": {},
   "outputs": [],
   "source": [
    "cn=dfg['Stance'].value_counts()\n",
    "sin=dfg['Stance'].unique()\n"
   ]
  },
  {
   "cell_type": "code",
   "execution_count": 16,
   "metadata": {},
   "outputs": [],
   "source": [
    "import numpy as np\n",
    "\n",
    "nc=np.flip(cn)\n",
    "nis=np.flip(sin)"
   ]
  },
  {
   "cell_type": "code",
   "execution_count": 17,
   "metadata": {},
   "outputs": [
    {
     "data": {
      "application/vnd.plotly.v1+json": {
       "config": {
        "plotlyServerURL": "https://plot.ly"
       },
       "data": [
        {
         "marker": {
          "color": [
           "red",
           "blue",
           "white",
           "blue",
           "red"
          ]
         },
         "orientation": "h",
         "type": "bar",
         "x": [
          3,
          7,
          85,
          431,
          1913
         ],
         "y": [
          "Sideways",
          "Open Stance",
          "Switch",
          "Southpaw",
          "Orthodox",
          null
         ]
        }
       ],
       "layout": {
        "plot_bgcolor": "rgb(64, 64, 64)",
        "template": {
         "data": {
          "bar": [
           {
            "error_x": {
             "color": "#2a3f5f"
            },
            "error_y": {
             "color": "#2a3f5f"
            },
            "marker": {
             "line": {
              "color": "#E5ECF6",
              "width": 0.5
             }
            },
            "type": "bar"
           }
          ],
          "barpolar": [
           {
            "marker": {
             "line": {
              "color": "#E5ECF6",
              "width": 0.5
             }
            },
            "type": "barpolar"
           }
          ],
          "carpet": [
           {
            "aaxis": {
             "endlinecolor": "#2a3f5f",
             "gridcolor": "white",
             "linecolor": "white",
             "minorgridcolor": "white",
             "startlinecolor": "#2a3f5f"
            },
            "baxis": {
             "endlinecolor": "#2a3f5f",
             "gridcolor": "white",
             "linecolor": "white",
             "minorgridcolor": "white",
             "startlinecolor": "#2a3f5f"
            },
            "type": "carpet"
           }
          ],
          "choropleth": [
           {
            "colorbar": {
             "outlinewidth": 0,
             "ticks": ""
            },
            "type": "choropleth"
           }
          ],
          "contour": [
           {
            "colorbar": {
             "outlinewidth": 0,
             "ticks": ""
            },
            "colorscale": [
             [
              0,
              "#0d0887"
             ],
             [
              0.1111111111111111,
              "#46039f"
             ],
             [
              0.2222222222222222,
              "#7201a8"
             ],
             [
              0.3333333333333333,
              "#9c179e"
             ],
             [
              0.4444444444444444,
              "#bd3786"
             ],
             [
              0.5555555555555556,
              "#d8576b"
             ],
             [
              0.6666666666666666,
              "#ed7953"
             ],
             [
              0.7777777777777778,
              "#fb9f3a"
             ],
             [
              0.8888888888888888,
              "#fdca26"
             ],
             [
              1,
              "#f0f921"
             ]
            ],
            "type": "contour"
           }
          ],
          "contourcarpet": [
           {
            "colorbar": {
             "outlinewidth": 0,
             "ticks": ""
            },
            "type": "contourcarpet"
           }
          ],
          "heatmap": [
           {
            "colorbar": {
             "outlinewidth": 0,
             "ticks": ""
            },
            "colorscale": [
             [
              0,
              "#0d0887"
             ],
             [
              0.1111111111111111,
              "#46039f"
             ],
             [
              0.2222222222222222,
              "#7201a8"
             ],
             [
              0.3333333333333333,
              "#9c179e"
             ],
             [
              0.4444444444444444,
              "#bd3786"
             ],
             [
              0.5555555555555556,
              "#d8576b"
             ],
             [
              0.6666666666666666,
              "#ed7953"
             ],
             [
              0.7777777777777778,
              "#fb9f3a"
             ],
             [
              0.8888888888888888,
              "#fdca26"
             ],
             [
              1,
              "#f0f921"
             ]
            ],
            "type": "heatmap"
           }
          ],
          "heatmapgl": [
           {
            "colorbar": {
             "outlinewidth": 0,
             "ticks": ""
            },
            "colorscale": [
             [
              0,
              "#0d0887"
             ],
             [
              0.1111111111111111,
              "#46039f"
             ],
             [
              0.2222222222222222,
              "#7201a8"
             ],
             [
              0.3333333333333333,
              "#9c179e"
             ],
             [
              0.4444444444444444,
              "#bd3786"
             ],
             [
              0.5555555555555556,
              "#d8576b"
             ],
             [
              0.6666666666666666,
              "#ed7953"
             ],
             [
              0.7777777777777778,
              "#fb9f3a"
             ],
             [
              0.8888888888888888,
              "#fdca26"
             ],
             [
              1,
              "#f0f921"
             ]
            ],
            "type": "heatmapgl"
           }
          ],
          "histogram": [
           {
            "marker": {
             "colorbar": {
              "outlinewidth": 0,
              "ticks": ""
             }
            },
            "type": "histogram"
           }
          ],
          "histogram2d": [
           {
            "colorbar": {
             "outlinewidth": 0,
             "ticks": ""
            },
            "colorscale": [
             [
              0,
              "#0d0887"
             ],
             [
              0.1111111111111111,
              "#46039f"
             ],
             [
              0.2222222222222222,
              "#7201a8"
             ],
             [
              0.3333333333333333,
              "#9c179e"
             ],
             [
              0.4444444444444444,
              "#bd3786"
             ],
             [
              0.5555555555555556,
              "#d8576b"
             ],
             [
              0.6666666666666666,
              "#ed7953"
             ],
             [
              0.7777777777777778,
              "#fb9f3a"
             ],
             [
              0.8888888888888888,
              "#fdca26"
             ],
             [
              1,
              "#f0f921"
             ]
            ],
            "type": "histogram2d"
           }
          ],
          "histogram2dcontour": [
           {
            "colorbar": {
             "outlinewidth": 0,
             "ticks": ""
            },
            "colorscale": [
             [
              0,
              "#0d0887"
             ],
             [
              0.1111111111111111,
              "#46039f"
             ],
             [
              0.2222222222222222,
              "#7201a8"
             ],
             [
              0.3333333333333333,
              "#9c179e"
             ],
             [
              0.4444444444444444,
              "#bd3786"
             ],
             [
              0.5555555555555556,
              "#d8576b"
             ],
             [
              0.6666666666666666,
              "#ed7953"
             ],
             [
              0.7777777777777778,
              "#fb9f3a"
             ],
             [
              0.8888888888888888,
              "#fdca26"
             ],
             [
              1,
              "#f0f921"
             ]
            ],
            "type": "histogram2dcontour"
           }
          ],
          "mesh3d": [
           {
            "colorbar": {
             "outlinewidth": 0,
             "ticks": ""
            },
            "type": "mesh3d"
           }
          ],
          "parcoords": [
           {
            "line": {
             "colorbar": {
              "outlinewidth": 0,
              "ticks": ""
             }
            },
            "type": "parcoords"
           }
          ],
          "pie": [
           {
            "automargin": true,
            "type": "pie"
           }
          ],
          "scatter": [
           {
            "marker": {
             "colorbar": {
              "outlinewidth": 0,
              "ticks": ""
             }
            },
            "type": "scatter"
           }
          ],
          "scatter3d": [
           {
            "line": {
             "colorbar": {
              "outlinewidth": 0,
              "ticks": ""
             }
            },
            "marker": {
             "colorbar": {
              "outlinewidth": 0,
              "ticks": ""
             }
            },
            "type": "scatter3d"
           }
          ],
          "scattercarpet": [
           {
            "marker": {
             "colorbar": {
              "outlinewidth": 0,
              "ticks": ""
             }
            },
            "type": "scattercarpet"
           }
          ],
          "scattergeo": [
           {
            "marker": {
             "colorbar": {
              "outlinewidth": 0,
              "ticks": ""
             }
            },
            "type": "scattergeo"
           }
          ],
          "scattergl": [
           {
            "marker": {
             "colorbar": {
              "outlinewidth": 0,
              "ticks": ""
             }
            },
            "type": "scattergl"
           }
          ],
          "scattermapbox": [
           {
            "marker": {
             "colorbar": {
              "outlinewidth": 0,
              "ticks": ""
             }
            },
            "type": "scattermapbox"
           }
          ],
          "scatterpolar": [
           {
            "marker": {
             "colorbar": {
              "outlinewidth": 0,
              "ticks": ""
             }
            },
            "type": "scatterpolar"
           }
          ],
          "scatterpolargl": [
           {
            "marker": {
             "colorbar": {
              "outlinewidth": 0,
              "ticks": ""
             }
            },
            "type": "scatterpolargl"
           }
          ],
          "scatterternary": [
           {
            "marker": {
             "colorbar": {
              "outlinewidth": 0,
              "ticks": ""
             }
            },
            "type": "scatterternary"
           }
          ],
          "surface": [
           {
            "colorbar": {
             "outlinewidth": 0,
             "ticks": ""
            },
            "colorscale": [
             [
              0,
              "#0d0887"
             ],
             [
              0.1111111111111111,
              "#46039f"
             ],
             [
              0.2222222222222222,
              "#7201a8"
             ],
             [
              0.3333333333333333,
              "#9c179e"
             ],
             [
              0.4444444444444444,
              "#bd3786"
             ],
             [
              0.5555555555555556,
              "#d8576b"
             ],
             [
              0.6666666666666666,
              "#ed7953"
             ],
             [
              0.7777777777777778,
              "#fb9f3a"
             ],
             [
              0.8888888888888888,
              "#fdca26"
             ],
             [
              1,
              "#f0f921"
             ]
            ],
            "type": "surface"
           }
          ],
          "table": [
           {
            "cells": {
             "fill": {
              "color": "#EBF0F8"
             },
             "line": {
              "color": "white"
             }
            },
            "header": {
             "fill": {
              "color": "#C8D4E3"
             },
             "line": {
              "color": "white"
             }
            },
            "type": "table"
           }
          ]
         },
         "layout": {
          "annotationdefaults": {
           "arrowcolor": "#2a3f5f",
           "arrowhead": 0,
           "arrowwidth": 1
          },
          "coloraxis": {
           "colorbar": {
            "outlinewidth": 0,
            "ticks": ""
           }
          },
          "colorscale": {
           "diverging": [
            [
             0,
             "#8e0152"
            ],
            [
             0.1,
             "#c51b7d"
            ],
            [
             0.2,
             "#de77ae"
            ],
            [
             0.3,
             "#f1b6da"
            ],
            [
             0.4,
             "#fde0ef"
            ],
            [
             0.5,
             "#f7f7f7"
            ],
            [
             0.6,
             "#e6f5d0"
            ],
            [
             0.7,
             "#b8e186"
            ],
            [
             0.8,
             "#7fbc41"
            ],
            [
             0.9,
             "#4d9221"
            ],
            [
             1,
             "#276419"
            ]
           ],
           "sequential": [
            [
             0,
             "#0d0887"
            ],
            [
             0.1111111111111111,
             "#46039f"
            ],
            [
             0.2222222222222222,
             "#7201a8"
            ],
            [
             0.3333333333333333,
             "#9c179e"
            ],
            [
             0.4444444444444444,
             "#bd3786"
            ],
            [
             0.5555555555555556,
             "#d8576b"
            ],
            [
             0.6666666666666666,
             "#ed7953"
            ],
            [
             0.7777777777777778,
             "#fb9f3a"
            ],
            [
             0.8888888888888888,
             "#fdca26"
            ],
            [
             1,
             "#f0f921"
            ]
           ],
           "sequentialminus": [
            [
             0,
             "#0d0887"
            ],
            [
             0.1111111111111111,
             "#46039f"
            ],
            [
             0.2222222222222222,
             "#7201a8"
            ],
            [
             0.3333333333333333,
             "#9c179e"
            ],
            [
             0.4444444444444444,
             "#bd3786"
            ],
            [
             0.5555555555555556,
             "#d8576b"
            ],
            [
             0.6666666666666666,
             "#ed7953"
            ],
            [
             0.7777777777777778,
             "#fb9f3a"
            ],
            [
             0.8888888888888888,
             "#fdca26"
            ],
            [
             1,
             "#f0f921"
            ]
           ]
          },
          "colorway": [
           "#636efa",
           "#EF553B",
           "#00cc96",
           "#ab63fa",
           "#FFA15A",
           "#19d3f3",
           "#FF6692",
           "#B6E880",
           "#FF97FF",
           "#FECB52"
          ],
          "font": {
           "color": "#2a3f5f"
          },
          "geo": {
           "bgcolor": "white",
           "lakecolor": "white",
           "landcolor": "#E5ECF6",
           "showlakes": true,
           "showland": true,
           "subunitcolor": "white"
          },
          "hoverlabel": {
           "align": "left"
          },
          "hovermode": "closest",
          "mapbox": {
           "style": "light"
          },
          "paper_bgcolor": "white",
          "plot_bgcolor": "#E5ECF6",
          "polar": {
           "angularaxis": {
            "gridcolor": "white",
            "linecolor": "white",
            "ticks": ""
           },
           "bgcolor": "#E5ECF6",
           "radialaxis": {
            "gridcolor": "white",
            "linecolor": "white",
            "ticks": ""
           }
          },
          "scene": {
           "xaxis": {
            "backgroundcolor": "#E5ECF6",
            "gridcolor": "white",
            "gridwidth": 2,
            "linecolor": "white",
            "showbackground": true,
            "ticks": "",
            "zerolinecolor": "white"
           },
           "yaxis": {
            "backgroundcolor": "#E5ECF6",
            "gridcolor": "white",
            "gridwidth": 2,
            "linecolor": "white",
            "showbackground": true,
            "ticks": "",
            "zerolinecolor": "white"
           },
           "zaxis": {
            "backgroundcolor": "#E5ECF6",
            "gridcolor": "white",
            "gridwidth": 2,
            "linecolor": "white",
            "showbackground": true,
            "ticks": "",
            "zerolinecolor": "white"
           }
          },
          "shapedefaults": {
           "line": {
            "color": "#2a3f5f"
           }
          },
          "ternary": {
           "aaxis": {
            "gridcolor": "white",
            "linecolor": "white",
            "ticks": ""
           },
           "baxis": {
            "gridcolor": "white",
            "linecolor": "white",
            "ticks": ""
           },
           "bgcolor": "#E5ECF6",
           "caxis": {
            "gridcolor": "white",
            "linecolor": "white",
            "ticks": ""
           }
          },
          "title": {
           "x": 0.05
          },
          "xaxis": {
           "automargin": true,
           "gridcolor": "white",
           "linecolor": "white",
           "ticks": "",
           "title": {
            "standoff": 15
           },
           "zerolinecolor": "white",
           "zerolinewidth": 2
          },
          "yaxis": {
           "automargin": true,
           "gridcolor": "white",
           "linecolor": "white",
           "ticks": "",
           "title": {
            "standoff": 15
           },
           "zerolinecolor": "white",
           "zerolinewidth": 2
          }
         }
        },
        "title": {
         "text": "Fighters by Stance "
        }
       }
      },
      "text/html": [
       "<div>\n",
       "        \n",
       "        \n",
       "            <div id=\"31bee15a-6db5-4996-a12a-882f50cdf42c\" class=\"plotly-graph-div\" style=\"height:525px; width:100%;\"></div>\n",
       "            <script type=\"text/javascript\">\n",
       "                require([\"plotly\"], function(Plotly) {\n",
       "                    window.PLOTLYENV=window.PLOTLYENV || {};\n",
       "                    \n",
       "                if (document.getElementById(\"31bee15a-6db5-4996-a12a-882f50cdf42c\")) {\n",
       "                    Plotly.newPlot(\n",
       "                        '31bee15a-6db5-4996-a12a-882f50cdf42c',\n",
       "                        [{\"marker\": {\"color\": [\"red\", \"blue\", \"white\", \"blue\", \"red\"]}, \"orientation\": \"h\", \"type\": \"bar\", \"x\": [3, 7, 85, 431, 1913], \"y\": [\"Sideways\", \"Open Stance\", \"Switch\", \"Southpaw\", \"Orthodox\", null]}],\n",
       "                        {\"plot_bgcolor\": \"rgb(64, 64, 64)\", \"template\": {\"data\": {\"bar\": [{\"error_x\": {\"color\": \"#2a3f5f\"}, \"error_y\": {\"color\": \"#2a3f5f\"}, \"marker\": {\"line\": {\"color\": \"#E5ECF6\", \"width\": 0.5}}, \"type\": \"bar\"}], \"barpolar\": [{\"marker\": {\"line\": {\"color\": \"#E5ECF6\", \"width\": 0.5}}, \"type\": \"barpolar\"}], \"carpet\": [{\"aaxis\": {\"endlinecolor\": \"#2a3f5f\", \"gridcolor\": \"white\", \"linecolor\": \"white\", \"minorgridcolor\": \"white\", \"startlinecolor\": \"#2a3f5f\"}, \"baxis\": {\"endlinecolor\": \"#2a3f5f\", \"gridcolor\": \"white\", \"linecolor\": \"white\", \"minorgridcolor\": \"white\", \"startlinecolor\": \"#2a3f5f\"}, \"type\": \"carpet\"}], \"choropleth\": [{\"colorbar\": {\"outlinewidth\": 0, \"ticks\": \"\"}, \"type\": \"choropleth\"}], \"contour\": [{\"colorbar\": {\"outlinewidth\": 0, \"ticks\": \"\"}, \"colorscale\": [[0.0, \"#0d0887\"], [0.1111111111111111, \"#46039f\"], [0.2222222222222222, \"#7201a8\"], [0.3333333333333333, \"#9c179e\"], [0.4444444444444444, \"#bd3786\"], [0.5555555555555556, \"#d8576b\"], [0.6666666666666666, \"#ed7953\"], [0.7777777777777778, \"#fb9f3a\"], [0.8888888888888888, \"#fdca26\"], [1.0, \"#f0f921\"]], \"type\": \"contour\"}], \"contourcarpet\": [{\"colorbar\": {\"outlinewidth\": 0, \"ticks\": \"\"}, \"type\": \"contourcarpet\"}], \"heatmap\": [{\"colorbar\": {\"outlinewidth\": 0, \"ticks\": \"\"}, \"colorscale\": [[0.0, \"#0d0887\"], [0.1111111111111111, \"#46039f\"], [0.2222222222222222, \"#7201a8\"], [0.3333333333333333, \"#9c179e\"], [0.4444444444444444, \"#bd3786\"], [0.5555555555555556, \"#d8576b\"], [0.6666666666666666, \"#ed7953\"], [0.7777777777777778, \"#fb9f3a\"], [0.8888888888888888, \"#fdca26\"], [1.0, \"#f0f921\"]], \"type\": \"heatmap\"}], \"heatmapgl\": [{\"colorbar\": {\"outlinewidth\": 0, \"ticks\": \"\"}, \"colorscale\": [[0.0, \"#0d0887\"], [0.1111111111111111, \"#46039f\"], [0.2222222222222222, \"#7201a8\"], [0.3333333333333333, \"#9c179e\"], [0.4444444444444444, \"#bd3786\"], [0.5555555555555556, \"#d8576b\"], [0.6666666666666666, \"#ed7953\"], [0.7777777777777778, \"#fb9f3a\"], [0.8888888888888888, \"#fdca26\"], [1.0, \"#f0f921\"]], \"type\": \"heatmapgl\"}], \"histogram\": [{\"marker\": {\"colorbar\": {\"outlinewidth\": 0, \"ticks\": \"\"}}, \"type\": \"histogram\"}], \"histogram2d\": [{\"colorbar\": {\"outlinewidth\": 0, \"ticks\": \"\"}, \"colorscale\": [[0.0, \"#0d0887\"], [0.1111111111111111, \"#46039f\"], [0.2222222222222222, \"#7201a8\"], [0.3333333333333333, \"#9c179e\"], [0.4444444444444444, \"#bd3786\"], [0.5555555555555556, \"#d8576b\"], [0.6666666666666666, \"#ed7953\"], [0.7777777777777778, \"#fb9f3a\"], [0.8888888888888888, \"#fdca26\"], [1.0, \"#f0f921\"]], \"type\": \"histogram2d\"}], \"histogram2dcontour\": [{\"colorbar\": {\"outlinewidth\": 0, \"ticks\": \"\"}, \"colorscale\": [[0.0, \"#0d0887\"], [0.1111111111111111, \"#46039f\"], [0.2222222222222222, \"#7201a8\"], [0.3333333333333333, \"#9c179e\"], [0.4444444444444444, \"#bd3786\"], [0.5555555555555556, \"#d8576b\"], [0.6666666666666666, \"#ed7953\"], [0.7777777777777778, \"#fb9f3a\"], [0.8888888888888888, \"#fdca26\"], [1.0, \"#f0f921\"]], \"type\": \"histogram2dcontour\"}], \"mesh3d\": [{\"colorbar\": {\"outlinewidth\": 0, \"ticks\": \"\"}, \"type\": \"mesh3d\"}], \"parcoords\": [{\"line\": {\"colorbar\": {\"outlinewidth\": 0, \"ticks\": \"\"}}, \"type\": \"parcoords\"}], \"pie\": [{\"automargin\": true, \"type\": \"pie\"}], \"scatter\": [{\"marker\": {\"colorbar\": {\"outlinewidth\": 0, \"ticks\": \"\"}}, \"type\": \"scatter\"}], \"scatter3d\": [{\"line\": {\"colorbar\": {\"outlinewidth\": 0, \"ticks\": \"\"}}, \"marker\": {\"colorbar\": {\"outlinewidth\": 0, \"ticks\": \"\"}}, \"type\": \"scatter3d\"}], \"scattercarpet\": [{\"marker\": {\"colorbar\": {\"outlinewidth\": 0, \"ticks\": \"\"}}, \"type\": \"scattercarpet\"}], \"scattergeo\": [{\"marker\": {\"colorbar\": {\"outlinewidth\": 0, \"ticks\": \"\"}}, \"type\": \"scattergeo\"}], \"scattergl\": [{\"marker\": {\"colorbar\": {\"outlinewidth\": 0, \"ticks\": \"\"}}, \"type\": \"scattergl\"}], \"scattermapbox\": [{\"marker\": {\"colorbar\": {\"outlinewidth\": 0, \"ticks\": \"\"}}, \"type\": \"scattermapbox\"}], \"scatterpolar\": [{\"marker\": {\"colorbar\": {\"outlinewidth\": 0, \"ticks\": \"\"}}, \"type\": \"scatterpolar\"}], \"scatterpolargl\": [{\"marker\": {\"colorbar\": {\"outlinewidth\": 0, \"ticks\": \"\"}}, \"type\": \"scatterpolargl\"}], \"scatterternary\": [{\"marker\": {\"colorbar\": {\"outlinewidth\": 0, \"ticks\": \"\"}}, \"type\": \"scatterternary\"}], \"surface\": [{\"colorbar\": {\"outlinewidth\": 0, \"ticks\": \"\"}, \"colorscale\": [[0.0, \"#0d0887\"], [0.1111111111111111, \"#46039f\"], [0.2222222222222222, \"#7201a8\"], [0.3333333333333333, \"#9c179e\"], [0.4444444444444444, \"#bd3786\"], [0.5555555555555556, \"#d8576b\"], [0.6666666666666666, \"#ed7953\"], [0.7777777777777778, \"#fb9f3a\"], [0.8888888888888888, \"#fdca26\"], [1.0, \"#f0f921\"]], \"type\": \"surface\"}], \"table\": [{\"cells\": {\"fill\": {\"color\": \"#EBF0F8\"}, \"line\": {\"color\": \"white\"}}, \"header\": {\"fill\": {\"color\": \"#C8D4E3\"}, \"line\": {\"color\": \"white\"}}, \"type\": \"table\"}]}, \"layout\": {\"annotationdefaults\": {\"arrowcolor\": \"#2a3f5f\", \"arrowhead\": 0, \"arrowwidth\": 1}, \"coloraxis\": {\"colorbar\": {\"outlinewidth\": 0, \"ticks\": \"\"}}, \"colorscale\": {\"diverging\": [[0, \"#8e0152\"], [0.1, \"#c51b7d\"], [0.2, \"#de77ae\"], [0.3, \"#f1b6da\"], [0.4, \"#fde0ef\"], [0.5, \"#f7f7f7\"], [0.6, \"#e6f5d0\"], [0.7, \"#b8e186\"], [0.8, \"#7fbc41\"], [0.9, \"#4d9221\"], [1, \"#276419\"]], \"sequential\": [[0.0, \"#0d0887\"], [0.1111111111111111, \"#46039f\"], [0.2222222222222222, \"#7201a8\"], [0.3333333333333333, \"#9c179e\"], [0.4444444444444444, \"#bd3786\"], [0.5555555555555556, \"#d8576b\"], [0.6666666666666666, \"#ed7953\"], [0.7777777777777778, \"#fb9f3a\"], [0.8888888888888888, \"#fdca26\"], [1.0, \"#f0f921\"]], \"sequentialminus\": [[0.0, \"#0d0887\"], [0.1111111111111111, \"#46039f\"], [0.2222222222222222, \"#7201a8\"], [0.3333333333333333, \"#9c179e\"], [0.4444444444444444, \"#bd3786\"], [0.5555555555555556, \"#d8576b\"], [0.6666666666666666, \"#ed7953\"], [0.7777777777777778, \"#fb9f3a\"], [0.8888888888888888, \"#fdca26\"], [1.0, \"#f0f921\"]]}, \"colorway\": [\"#636efa\", \"#EF553B\", \"#00cc96\", \"#ab63fa\", \"#FFA15A\", \"#19d3f3\", \"#FF6692\", \"#B6E880\", \"#FF97FF\", \"#FECB52\"], \"font\": {\"color\": \"#2a3f5f\"}, \"geo\": {\"bgcolor\": \"white\", \"lakecolor\": \"white\", \"landcolor\": \"#E5ECF6\", \"showlakes\": true, \"showland\": true, \"subunitcolor\": \"white\"}, \"hoverlabel\": {\"align\": \"left\"}, \"hovermode\": \"closest\", \"mapbox\": {\"style\": \"light\"}, \"paper_bgcolor\": \"white\", \"plot_bgcolor\": \"#E5ECF6\", \"polar\": {\"angularaxis\": {\"gridcolor\": \"white\", \"linecolor\": \"white\", \"ticks\": \"\"}, \"bgcolor\": \"#E5ECF6\", \"radialaxis\": {\"gridcolor\": \"white\", \"linecolor\": \"white\", \"ticks\": \"\"}}, \"scene\": {\"xaxis\": {\"backgroundcolor\": \"#E5ECF6\", \"gridcolor\": \"white\", \"gridwidth\": 2, \"linecolor\": \"white\", \"showbackground\": true, \"ticks\": \"\", \"zerolinecolor\": \"white\"}, \"yaxis\": {\"backgroundcolor\": \"#E5ECF6\", \"gridcolor\": \"white\", \"gridwidth\": 2, \"linecolor\": \"white\", \"showbackground\": true, \"ticks\": \"\", \"zerolinecolor\": \"white\"}, \"zaxis\": {\"backgroundcolor\": \"#E5ECF6\", \"gridcolor\": \"white\", \"gridwidth\": 2, \"linecolor\": \"white\", \"showbackground\": true, \"ticks\": \"\", \"zerolinecolor\": \"white\"}}, \"shapedefaults\": {\"line\": {\"color\": \"#2a3f5f\"}}, \"ternary\": {\"aaxis\": {\"gridcolor\": \"white\", \"linecolor\": \"white\", \"ticks\": \"\"}, \"baxis\": {\"gridcolor\": \"white\", \"linecolor\": \"white\", \"ticks\": \"\"}, \"bgcolor\": \"#E5ECF6\", \"caxis\": {\"gridcolor\": \"white\", \"linecolor\": \"white\", \"ticks\": \"\"}}, \"title\": {\"x\": 0.05}, \"xaxis\": {\"automargin\": true, \"gridcolor\": \"white\", \"linecolor\": \"white\", \"ticks\": \"\", \"title\": {\"standoff\": 15}, \"zerolinecolor\": \"white\", \"zerolinewidth\": 2}, \"yaxis\": {\"automargin\": true, \"gridcolor\": \"white\", \"linecolor\": \"white\", \"ticks\": \"\", \"title\": {\"standoff\": 15}, \"zerolinecolor\": \"white\", \"zerolinewidth\": 2}}}, \"title\": {\"text\": \"Fighters by Stance \"}},\n",
       "                        {\"responsive\": true}\n",
       "                    ).then(function(){\n",
       "                            \n",
       "var gd = document.getElementById('31bee15a-6db5-4996-a12a-882f50cdf42c');\n",
       "var x = new MutationObserver(function (mutations, observer) {{\n",
       "        var display = window.getComputedStyle(gd).display;\n",
       "        if (!display || display === 'none') {{\n",
       "            console.log([gd, 'removed!']);\n",
       "            Plotly.purge(gd);\n",
       "            observer.disconnect();\n",
       "        }}\n",
       "}});\n",
       "\n",
       "// Listen for the removal of the full notebook cells\n",
       "var notebookContainer = gd.closest('#notebook-container');\n",
       "if (notebookContainer) {{\n",
       "    x.observe(notebookContainer, {childList: true});\n",
       "}}\n",
       "\n",
       "// Listen for the clearing of the current output cell\n",
       "var outputEl = gd.closest('.output');\n",
       "if (outputEl) {{\n",
       "    x.observe(outputEl, {childList: true});\n",
       "}}\n",
       "\n",
       "                        })\n",
       "                };\n",
       "                });\n",
       "            </script>\n",
       "        </div>"
      ]
     },
     "metadata": {},
     "output_type": "display_data"
    }
   ],
   "source": [
    "colors = ['red',] *5\n",
    "colors[1] = 'blue'\n",
    "colors[2]='white'\n",
    "colors[3]='blue'\n",
    "fig3 = go.Figure(go.Bar(\n",
    "            x=nc,\n",
    "            y=nis, \n",
    "            marker_color=colors,\n",
    "            orientation='h',))\n",
    "fig3.update_layout(title_text='Fighters by Stance ',   plot_bgcolor='rgb(64, 64, 64)',)\n",
    "fig3.show()"
   ]
  },
  {
   "cell_type": "code",
   "execution_count": 18,
   "metadata": {},
   "outputs": [
    {
     "data": {
      "text/plain": [
       "Decision - Unanimous       1737\n",
       "KO/TKO                     1647\n",
       "Submission                 1083\n",
       "Decision - Split            486\n",
       "TKO - Doctor's Stoppage      70\n",
       "Decision - Majority          56\n",
       "Overturned                   35\n",
       "DQ                           15\n",
       "Could Not Continue           13\n",
       "Other                         2\n",
       "Name: win_by, dtype: int64"
      ]
     },
     "execution_count": 18,
     "metadata": {},
     "output_type": "execute_result"
    }
   ],
   "source": [
    "wc=df['win_by'].value_counts()\n",
    "\n",
    "wc"
   ]
  },
  {
   "cell_type": "code",
   "execution_count": 19,
   "metadata": {},
   "outputs": [],
   "source": [
    "w=['Decision - Unanimous','KO/TKO','Submission','Decision - Split','TKO - Doctors Stoppage','Decision - Majority', 'Overturned',\n",
    "       'DQ', 'Could Not Continue', 'Other']\n",
    "v=[' ','Decision - Unanimous','KO/TKO','Submission','Decision - Split','TKO - Doctors Stoppage','Decision - Majority', 'Overturned',\n",
    "       'DQ', 'Could Not Continue', 'Other']"
   ]
  },
  {
   "cell_type": "code",
   "execution_count": 20,
   "metadata": {},
   "outputs": [
    {
     "data": {
      "application/vnd.plotly.v1+json": {
       "config": {
        "plotlyServerURL": "https://plot.ly"
       },
       "data": [
        {
         "labels": [
          "Decision - Unanimous",
          "KO/TKO",
          "Submission",
          "Decision - Split",
          "TKO - Doctors Stoppage",
          "Decision - Majority",
          "Overturned",
          "DQ",
          "Could Not Continue",
          "Other"
         ],
         "marker": {
          "colors": [
           "darkblue",
           "royalblue",
           "lightblue",
           "red",
           "lightred",
           "lightgray",
           "lightblue"
          ]
         },
         "parents": [
          " ",
          "Decision - Unanimous",
          "KO/TKO",
          "Submission",
          "Decision - Split",
          "TKO - Doctors Stoppage",
          "Decision - Majority",
          "Overturned",
          "DQ",
          "Could Not Continue",
          "Other"
         ],
         "type": "treemap",
         "values": [
          1737,
          1647,
          1083,
          486,
          70,
          56,
          35,
          15,
          13,
          2
         ]
        }
       ],
       "layout": {
        "template": {
         "data": {
          "bar": [
           {
            "error_x": {
             "color": "#2a3f5f"
            },
            "error_y": {
             "color": "#2a3f5f"
            },
            "marker": {
             "line": {
              "color": "#E5ECF6",
              "width": 0.5
             }
            },
            "type": "bar"
           }
          ],
          "barpolar": [
           {
            "marker": {
             "line": {
              "color": "#E5ECF6",
              "width": 0.5
             }
            },
            "type": "barpolar"
           }
          ],
          "carpet": [
           {
            "aaxis": {
             "endlinecolor": "#2a3f5f",
             "gridcolor": "white",
             "linecolor": "white",
             "minorgridcolor": "white",
             "startlinecolor": "#2a3f5f"
            },
            "baxis": {
             "endlinecolor": "#2a3f5f",
             "gridcolor": "white",
             "linecolor": "white",
             "minorgridcolor": "white",
             "startlinecolor": "#2a3f5f"
            },
            "type": "carpet"
           }
          ],
          "choropleth": [
           {
            "colorbar": {
             "outlinewidth": 0,
             "ticks": ""
            },
            "type": "choropleth"
           }
          ],
          "contour": [
           {
            "colorbar": {
             "outlinewidth": 0,
             "ticks": ""
            },
            "colorscale": [
             [
              0,
              "#0d0887"
             ],
             [
              0.1111111111111111,
              "#46039f"
             ],
             [
              0.2222222222222222,
              "#7201a8"
             ],
             [
              0.3333333333333333,
              "#9c179e"
             ],
             [
              0.4444444444444444,
              "#bd3786"
             ],
             [
              0.5555555555555556,
              "#d8576b"
             ],
             [
              0.6666666666666666,
              "#ed7953"
             ],
             [
              0.7777777777777778,
              "#fb9f3a"
             ],
             [
              0.8888888888888888,
              "#fdca26"
             ],
             [
              1,
              "#f0f921"
             ]
            ],
            "type": "contour"
           }
          ],
          "contourcarpet": [
           {
            "colorbar": {
             "outlinewidth": 0,
             "ticks": ""
            },
            "type": "contourcarpet"
           }
          ],
          "heatmap": [
           {
            "colorbar": {
             "outlinewidth": 0,
             "ticks": ""
            },
            "colorscale": [
             [
              0,
              "#0d0887"
             ],
             [
              0.1111111111111111,
              "#46039f"
             ],
             [
              0.2222222222222222,
              "#7201a8"
             ],
             [
              0.3333333333333333,
              "#9c179e"
             ],
             [
              0.4444444444444444,
              "#bd3786"
             ],
             [
              0.5555555555555556,
              "#d8576b"
             ],
             [
              0.6666666666666666,
              "#ed7953"
             ],
             [
              0.7777777777777778,
              "#fb9f3a"
             ],
             [
              0.8888888888888888,
              "#fdca26"
             ],
             [
              1,
              "#f0f921"
             ]
            ],
            "type": "heatmap"
           }
          ],
          "heatmapgl": [
           {
            "colorbar": {
             "outlinewidth": 0,
             "ticks": ""
            },
            "colorscale": [
             [
              0,
              "#0d0887"
             ],
             [
              0.1111111111111111,
              "#46039f"
             ],
             [
              0.2222222222222222,
              "#7201a8"
             ],
             [
              0.3333333333333333,
              "#9c179e"
             ],
             [
              0.4444444444444444,
              "#bd3786"
             ],
             [
              0.5555555555555556,
              "#d8576b"
             ],
             [
              0.6666666666666666,
              "#ed7953"
             ],
             [
              0.7777777777777778,
              "#fb9f3a"
             ],
             [
              0.8888888888888888,
              "#fdca26"
             ],
             [
              1,
              "#f0f921"
             ]
            ],
            "type": "heatmapgl"
           }
          ],
          "histogram": [
           {
            "marker": {
             "colorbar": {
              "outlinewidth": 0,
              "ticks": ""
             }
            },
            "type": "histogram"
           }
          ],
          "histogram2d": [
           {
            "colorbar": {
             "outlinewidth": 0,
             "ticks": ""
            },
            "colorscale": [
             [
              0,
              "#0d0887"
             ],
             [
              0.1111111111111111,
              "#46039f"
             ],
             [
              0.2222222222222222,
              "#7201a8"
             ],
             [
              0.3333333333333333,
              "#9c179e"
             ],
             [
              0.4444444444444444,
              "#bd3786"
             ],
             [
              0.5555555555555556,
              "#d8576b"
             ],
             [
              0.6666666666666666,
              "#ed7953"
             ],
             [
              0.7777777777777778,
              "#fb9f3a"
             ],
             [
              0.8888888888888888,
              "#fdca26"
             ],
             [
              1,
              "#f0f921"
             ]
            ],
            "type": "histogram2d"
           }
          ],
          "histogram2dcontour": [
           {
            "colorbar": {
             "outlinewidth": 0,
             "ticks": ""
            },
            "colorscale": [
             [
              0,
              "#0d0887"
             ],
             [
              0.1111111111111111,
              "#46039f"
             ],
             [
              0.2222222222222222,
              "#7201a8"
             ],
             [
              0.3333333333333333,
              "#9c179e"
             ],
             [
              0.4444444444444444,
              "#bd3786"
             ],
             [
              0.5555555555555556,
              "#d8576b"
             ],
             [
              0.6666666666666666,
              "#ed7953"
             ],
             [
              0.7777777777777778,
              "#fb9f3a"
             ],
             [
              0.8888888888888888,
              "#fdca26"
             ],
             [
              1,
              "#f0f921"
             ]
            ],
            "type": "histogram2dcontour"
           }
          ],
          "mesh3d": [
           {
            "colorbar": {
             "outlinewidth": 0,
             "ticks": ""
            },
            "type": "mesh3d"
           }
          ],
          "parcoords": [
           {
            "line": {
             "colorbar": {
              "outlinewidth": 0,
              "ticks": ""
             }
            },
            "type": "parcoords"
           }
          ],
          "pie": [
           {
            "automargin": true,
            "type": "pie"
           }
          ],
          "scatter": [
           {
            "marker": {
             "colorbar": {
              "outlinewidth": 0,
              "ticks": ""
             }
            },
            "type": "scatter"
           }
          ],
          "scatter3d": [
           {
            "line": {
             "colorbar": {
              "outlinewidth": 0,
              "ticks": ""
             }
            },
            "marker": {
             "colorbar": {
              "outlinewidth": 0,
              "ticks": ""
             }
            },
            "type": "scatter3d"
           }
          ],
          "scattercarpet": [
           {
            "marker": {
             "colorbar": {
              "outlinewidth": 0,
              "ticks": ""
             }
            },
            "type": "scattercarpet"
           }
          ],
          "scattergeo": [
           {
            "marker": {
             "colorbar": {
              "outlinewidth": 0,
              "ticks": ""
             }
            },
            "type": "scattergeo"
           }
          ],
          "scattergl": [
           {
            "marker": {
             "colorbar": {
              "outlinewidth": 0,
              "ticks": ""
             }
            },
            "type": "scattergl"
           }
          ],
          "scattermapbox": [
           {
            "marker": {
             "colorbar": {
              "outlinewidth": 0,
              "ticks": ""
             }
            },
            "type": "scattermapbox"
           }
          ],
          "scatterpolar": [
           {
            "marker": {
             "colorbar": {
              "outlinewidth": 0,
              "ticks": ""
             }
            },
            "type": "scatterpolar"
           }
          ],
          "scatterpolargl": [
           {
            "marker": {
             "colorbar": {
              "outlinewidth": 0,
              "ticks": ""
             }
            },
            "type": "scatterpolargl"
           }
          ],
          "scatterternary": [
           {
            "marker": {
             "colorbar": {
              "outlinewidth": 0,
              "ticks": ""
             }
            },
            "type": "scatterternary"
           }
          ],
          "surface": [
           {
            "colorbar": {
             "outlinewidth": 0,
             "ticks": ""
            },
            "colorscale": [
             [
              0,
              "#0d0887"
             ],
             [
              0.1111111111111111,
              "#46039f"
             ],
             [
              0.2222222222222222,
              "#7201a8"
             ],
             [
              0.3333333333333333,
              "#9c179e"
             ],
             [
              0.4444444444444444,
              "#bd3786"
             ],
             [
              0.5555555555555556,
              "#d8576b"
             ],
             [
              0.6666666666666666,
              "#ed7953"
             ],
             [
              0.7777777777777778,
              "#fb9f3a"
             ],
             [
              0.8888888888888888,
              "#fdca26"
             ],
             [
              1,
              "#f0f921"
             ]
            ],
            "type": "surface"
           }
          ],
          "table": [
           {
            "cells": {
             "fill": {
              "color": "#EBF0F8"
             },
             "line": {
              "color": "white"
             }
            },
            "header": {
             "fill": {
              "color": "#C8D4E3"
             },
             "line": {
              "color": "white"
             }
            },
            "type": "table"
           }
          ]
         },
         "layout": {
          "annotationdefaults": {
           "arrowcolor": "#2a3f5f",
           "arrowhead": 0,
           "arrowwidth": 1
          },
          "coloraxis": {
           "colorbar": {
            "outlinewidth": 0,
            "ticks": ""
           }
          },
          "colorscale": {
           "diverging": [
            [
             0,
             "#8e0152"
            ],
            [
             0.1,
             "#c51b7d"
            ],
            [
             0.2,
             "#de77ae"
            ],
            [
             0.3,
             "#f1b6da"
            ],
            [
             0.4,
             "#fde0ef"
            ],
            [
             0.5,
             "#f7f7f7"
            ],
            [
             0.6,
             "#e6f5d0"
            ],
            [
             0.7,
             "#b8e186"
            ],
            [
             0.8,
             "#7fbc41"
            ],
            [
             0.9,
             "#4d9221"
            ],
            [
             1,
             "#276419"
            ]
           ],
           "sequential": [
            [
             0,
             "#0d0887"
            ],
            [
             0.1111111111111111,
             "#46039f"
            ],
            [
             0.2222222222222222,
             "#7201a8"
            ],
            [
             0.3333333333333333,
             "#9c179e"
            ],
            [
             0.4444444444444444,
             "#bd3786"
            ],
            [
             0.5555555555555556,
             "#d8576b"
            ],
            [
             0.6666666666666666,
             "#ed7953"
            ],
            [
             0.7777777777777778,
             "#fb9f3a"
            ],
            [
             0.8888888888888888,
             "#fdca26"
            ],
            [
             1,
             "#f0f921"
            ]
           ],
           "sequentialminus": [
            [
             0,
             "#0d0887"
            ],
            [
             0.1111111111111111,
             "#46039f"
            ],
            [
             0.2222222222222222,
             "#7201a8"
            ],
            [
             0.3333333333333333,
             "#9c179e"
            ],
            [
             0.4444444444444444,
             "#bd3786"
            ],
            [
             0.5555555555555556,
             "#d8576b"
            ],
            [
             0.6666666666666666,
             "#ed7953"
            ],
            [
             0.7777777777777778,
             "#fb9f3a"
            ],
            [
             0.8888888888888888,
             "#fdca26"
            ],
            [
             1,
             "#f0f921"
            ]
           ]
          },
          "colorway": [
           "#636efa",
           "#EF553B",
           "#00cc96",
           "#ab63fa",
           "#FFA15A",
           "#19d3f3",
           "#FF6692",
           "#B6E880",
           "#FF97FF",
           "#FECB52"
          ],
          "font": {
           "color": "#2a3f5f"
          },
          "geo": {
           "bgcolor": "white",
           "lakecolor": "white",
           "landcolor": "#E5ECF6",
           "showlakes": true,
           "showland": true,
           "subunitcolor": "white"
          },
          "hoverlabel": {
           "align": "left"
          },
          "hovermode": "closest",
          "mapbox": {
           "style": "light"
          },
          "paper_bgcolor": "white",
          "plot_bgcolor": "#E5ECF6",
          "polar": {
           "angularaxis": {
            "gridcolor": "white",
            "linecolor": "white",
            "ticks": ""
           },
           "bgcolor": "#E5ECF6",
           "radialaxis": {
            "gridcolor": "white",
            "linecolor": "white",
            "ticks": ""
           }
          },
          "scene": {
           "xaxis": {
            "backgroundcolor": "#E5ECF6",
            "gridcolor": "white",
            "gridwidth": 2,
            "linecolor": "white",
            "showbackground": true,
            "ticks": "",
            "zerolinecolor": "white"
           },
           "yaxis": {
            "backgroundcolor": "#E5ECF6",
            "gridcolor": "white",
            "gridwidth": 2,
            "linecolor": "white",
            "showbackground": true,
            "ticks": "",
            "zerolinecolor": "white"
           },
           "zaxis": {
            "backgroundcolor": "#E5ECF6",
            "gridcolor": "white",
            "gridwidth": 2,
            "linecolor": "white",
            "showbackground": true,
            "ticks": "",
            "zerolinecolor": "white"
           }
          },
          "shapedefaults": {
           "line": {
            "color": "#2a3f5f"
           }
          },
          "ternary": {
           "aaxis": {
            "gridcolor": "white",
            "linecolor": "white",
            "ticks": ""
           },
           "baxis": {
            "gridcolor": "white",
            "linecolor": "white",
            "ticks": ""
           },
           "bgcolor": "#E5ECF6",
           "caxis": {
            "gridcolor": "white",
            "linecolor": "white",
            "ticks": ""
           }
          },
          "title": {
           "x": 0.05
          },
          "xaxis": {
           "automargin": true,
           "gridcolor": "white",
           "linecolor": "white",
           "ticks": "",
           "title": {
            "standoff": 15
           },
           "zerolinecolor": "white",
           "zerolinewidth": 2
          },
          "yaxis": {
           "automargin": true,
           "gridcolor": "white",
           "linecolor": "white",
           "ticks": "",
           "title": {
            "standoff": 15
           },
           "zerolinecolor": "white",
           "zerolinewidth": 2
          }
         }
        }
       }
      },
      "text/html": [
       "<div>\n",
       "        \n",
       "        \n",
       "            <div id=\"9143d4ed-6adc-40d9-83a8-fdd88ee6f900\" class=\"plotly-graph-div\" style=\"height:525px; width:100%;\"></div>\n",
       "            <script type=\"text/javascript\">\n",
       "                require([\"plotly\"], function(Plotly) {\n",
       "                    window.PLOTLYENV=window.PLOTLYENV || {};\n",
       "                    \n",
       "                if (document.getElementById(\"9143d4ed-6adc-40d9-83a8-fdd88ee6f900\")) {\n",
       "                    Plotly.newPlot(\n",
       "                        '9143d4ed-6adc-40d9-83a8-fdd88ee6f900',\n",
       "                        [{\"labels\": [\"Decision - Unanimous\", \"KO/TKO\", \"Submission\", \"Decision - Split\", \"TKO - Doctors Stoppage\", \"Decision - Majority\", \"Overturned\", \"DQ\", \"Could Not Continue\", \"Other\"], \"marker\": {\"colors\": [\"darkblue\", \"royalblue\", \"lightblue\", \"red\", \"lightred\", \"lightgray\", \"lightblue\"]}, \"parents\": [\" \", \"Decision - Unanimous\", \"KO/TKO\", \"Submission\", \"Decision - Split\", \"TKO - Doctors Stoppage\", \"Decision - Majority\", \"Overturned\", \"DQ\", \"Could Not Continue\", \"Other\"], \"type\": \"treemap\", \"values\": [1737, 1647, 1083, 486, 70, 56, 35, 15, 13, 2]}],\n",
       "                        {\"template\": {\"data\": {\"bar\": [{\"error_x\": {\"color\": \"#2a3f5f\"}, \"error_y\": {\"color\": \"#2a3f5f\"}, \"marker\": {\"line\": {\"color\": \"#E5ECF6\", \"width\": 0.5}}, \"type\": \"bar\"}], \"barpolar\": [{\"marker\": {\"line\": {\"color\": \"#E5ECF6\", \"width\": 0.5}}, \"type\": \"barpolar\"}], \"carpet\": [{\"aaxis\": {\"endlinecolor\": \"#2a3f5f\", \"gridcolor\": \"white\", \"linecolor\": \"white\", \"minorgridcolor\": \"white\", \"startlinecolor\": \"#2a3f5f\"}, \"baxis\": {\"endlinecolor\": \"#2a3f5f\", \"gridcolor\": \"white\", \"linecolor\": \"white\", \"minorgridcolor\": \"white\", \"startlinecolor\": \"#2a3f5f\"}, \"type\": \"carpet\"}], \"choropleth\": [{\"colorbar\": {\"outlinewidth\": 0, \"ticks\": \"\"}, \"type\": \"choropleth\"}], \"contour\": [{\"colorbar\": {\"outlinewidth\": 0, \"ticks\": \"\"}, \"colorscale\": [[0.0, \"#0d0887\"], [0.1111111111111111, \"#46039f\"], [0.2222222222222222, \"#7201a8\"], [0.3333333333333333, \"#9c179e\"], [0.4444444444444444, \"#bd3786\"], [0.5555555555555556, \"#d8576b\"], [0.6666666666666666, \"#ed7953\"], [0.7777777777777778, \"#fb9f3a\"], [0.8888888888888888, \"#fdca26\"], [1.0, \"#f0f921\"]], \"type\": \"contour\"}], \"contourcarpet\": [{\"colorbar\": {\"outlinewidth\": 0, \"ticks\": \"\"}, \"type\": \"contourcarpet\"}], \"heatmap\": [{\"colorbar\": {\"outlinewidth\": 0, \"ticks\": \"\"}, \"colorscale\": [[0.0, \"#0d0887\"], [0.1111111111111111, \"#46039f\"], [0.2222222222222222, \"#7201a8\"], [0.3333333333333333, \"#9c179e\"], [0.4444444444444444, \"#bd3786\"], [0.5555555555555556, \"#d8576b\"], [0.6666666666666666, \"#ed7953\"], [0.7777777777777778, \"#fb9f3a\"], [0.8888888888888888, \"#fdca26\"], [1.0, \"#f0f921\"]], \"type\": \"heatmap\"}], \"heatmapgl\": [{\"colorbar\": {\"outlinewidth\": 0, \"ticks\": \"\"}, \"colorscale\": [[0.0, \"#0d0887\"], [0.1111111111111111, \"#46039f\"], [0.2222222222222222, \"#7201a8\"], [0.3333333333333333, \"#9c179e\"], [0.4444444444444444, \"#bd3786\"], [0.5555555555555556, \"#d8576b\"], [0.6666666666666666, \"#ed7953\"], [0.7777777777777778, \"#fb9f3a\"], [0.8888888888888888, \"#fdca26\"], [1.0, \"#f0f921\"]], \"type\": \"heatmapgl\"}], \"histogram\": [{\"marker\": {\"colorbar\": {\"outlinewidth\": 0, \"ticks\": \"\"}}, \"type\": \"histogram\"}], \"histogram2d\": [{\"colorbar\": {\"outlinewidth\": 0, \"ticks\": \"\"}, \"colorscale\": [[0.0, \"#0d0887\"], [0.1111111111111111, \"#46039f\"], [0.2222222222222222, \"#7201a8\"], [0.3333333333333333, \"#9c179e\"], [0.4444444444444444, \"#bd3786\"], [0.5555555555555556, \"#d8576b\"], [0.6666666666666666, \"#ed7953\"], [0.7777777777777778, \"#fb9f3a\"], [0.8888888888888888, \"#fdca26\"], [1.0, \"#f0f921\"]], \"type\": \"histogram2d\"}], \"histogram2dcontour\": [{\"colorbar\": {\"outlinewidth\": 0, \"ticks\": \"\"}, \"colorscale\": [[0.0, \"#0d0887\"], [0.1111111111111111, \"#46039f\"], [0.2222222222222222, \"#7201a8\"], [0.3333333333333333, \"#9c179e\"], [0.4444444444444444, \"#bd3786\"], [0.5555555555555556, \"#d8576b\"], [0.6666666666666666, \"#ed7953\"], [0.7777777777777778, \"#fb9f3a\"], [0.8888888888888888, \"#fdca26\"], [1.0, \"#f0f921\"]], \"type\": \"histogram2dcontour\"}], \"mesh3d\": [{\"colorbar\": {\"outlinewidth\": 0, \"ticks\": \"\"}, \"type\": \"mesh3d\"}], \"parcoords\": [{\"line\": {\"colorbar\": {\"outlinewidth\": 0, \"ticks\": \"\"}}, \"type\": \"parcoords\"}], \"pie\": [{\"automargin\": true, \"type\": \"pie\"}], \"scatter\": [{\"marker\": {\"colorbar\": {\"outlinewidth\": 0, \"ticks\": \"\"}}, \"type\": \"scatter\"}], \"scatter3d\": [{\"line\": {\"colorbar\": {\"outlinewidth\": 0, \"ticks\": \"\"}}, \"marker\": {\"colorbar\": {\"outlinewidth\": 0, \"ticks\": \"\"}}, \"type\": \"scatter3d\"}], \"scattercarpet\": [{\"marker\": {\"colorbar\": {\"outlinewidth\": 0, \"ticks\": \"\"}}, \"type\": \"scattercarpet\"}], \"scattergeo\": [{\"marker\": {\"colorbar\": {\"outlinewidth\": 0, \"ticks\": \"\"}}, \"type\": \"scattergeo\"}], \"scattergl\": [{\"marker\": {\"colorbar\": {\"outlinewidth\": 0, \"ticks\": \"\"}}, \"type\": \"scattergl\"}], \"scattermapbox\": [{\"marker\": {\"colorbar\": {\"outlinewidth\": 0, \"ticks\": \"\"}}, \"type\": \"scattermapbox\"}], \"scatterpolar\": [{\"marker\": {\"colorbar\": {\"outlinewidth\": 0, \"ticks\": \"\"}}, \"type\": \"scatterpolar\"}], \"scatterpolargl\": [{\"marker\": {\"colorbar\": {\"outlinewidth\": 0, \"ticks\": \"\"}}, \"type\": \"scatterpolargl\"}], \"scatterternary\": [{\"marker\": {\"colorbar\": {\"outlinewidth\": 0, \"ticks\": \"\"}}, \"type\": \"scatterternary\"}], \"surface\": [{\"colorbar\": {\"outlinewidth\": 0, \"ticks\": \"\"}, \"colorscale\": [[0.0, \"#0d0887\"], [0.1111111111111111, \"#46039f\"], [0.2222222222222222, \"#7201a8\"], [0.3333333333333333, \"#9c179e\"], [0.4444444444444444, \"#bd3786\"], [0.5555555555555556, \"#d8576b\"], [0.6666666666666666, \"#ed7953\"], [0.7777777777777778, \"#fb9f3a\"], [0.8888888888888888, \"#fdca26\"], [1.0, \"#f0f921\"]], \"type\": \"surface\"}], \"table\": [{\"cells\": {\"fill\": {\"color\": \"#EBF0F8\"}, \"line\": {\"color\": \"white\"}}, \"header\": {\"fill\": {\"color\": \"#C8D4E3\"}, \"line\": {\"color\": \"white\"}}, \"type\": \"table\"}]}, \"layout\": {\"annotationdefaults\": {\"arrowcolor\": \"#2a3f5f\", \"arrowhead\": 0, \"arrowwidth\": 1}, \"coloraxis\": {\"colorbar\": {\"outlinewidth\": 0, \"ticks\": \"\"}}, \"colorscale\": {\"diverging\": [[0, \"#8e0152\"], [0.1, \"#c51b7d\"], [0.2, \"#de77ae\"], [0.3, \"#f1b6da\"], [0.4, \"#fde0ef\"], [0.5, \"#f7f7f7\"], [0.6, \"#e6f5d0\"], [0.7, \"#b8e186\"], [0.8, \"#7fbc41\"], [0.9, \"#4d9221\"], [1, \"#276419\"]], \"sequential\": [[0.0, \"#0d0887\"], [0.1111111111111111, \"#46039f\"], [0.2222222222222222, \"#7201a8\"], [0.3333333333333333, \"#9c179e\"], [0.4444444444444444, \"#bd3786\"], [0.5555555555555556, \"#d8576b\"], [0.6666666666666666, \"#ed7953\"], [0.7777777777777778, \"#fb9f3a\"], [0.8888888888888888, \"#fdca26\"], [1.0, \"#f0f921\"]], \"sequentialminus\": [[0.0, \"#0d0887\"], [0.1111111111111111, \"#46039f\"], [0.2222222222222222, \"#7201a8\"], [0.3333333333333333, \"#9c179e\"], [0.4444444444444444, \"#bd3786\"], [0.5555555555555556, \"#d8576b\"], [0.6666666666666666, \"#ed7953\"], [0.7777777777777778, \"#fb9f3a\"], [0.8888888888888888, \"#fdca26\"], [1.0, \"#f0f921\"]]}, \"colorway\": [\"#636efa\", \"#EF553B\", \"#00cc96\", \"#ab63fa\", \"#FFA15A\", \"#19d3f3\", \"#FF6692\", \"#B6E880\", \"#FF97FF\", \"#FECB52\"], \"font\": {\"color\": \"#2a3f5f\"}, \"geo\": {\"bgcolor\": \"white\", \"lakecolor\": \"white\", \"landcolor\": \"#E5ECF6\", \"showlakes\": true, \"showland\": true, \"subunitcolor\": \"white\"}, \"hoverlabel\": {\"align\": \"left\"}, \"hovermode\": \"closest\", \"mapbox\": {\"style\": \"light\"}, \"paper_bgcolor\": \"white\", \"plot_bgcolor\": \"#E5ECF6\", \"polar\": {\"angularaxis\": {\"gridcolor\": \"white\", \"linecolor\": \"white\", \"ticks\": \"\"}, \"bgcolor\": \"#E5ECF6\", \"radialaxis\": {\"gridcolor\": \"white\", \"linecolor\": \"white\", \"ticks\": \"\"}}, \"scene\": {\"xaxis\": {\"backgroundcolor\": \"#E5ECF6\", \"gridcolor\": \"white\", \"gridwidth\": 2, \"linecolor\": \"white\", \"showbackground\": true, \"ticks\": \"\", \"zerolinecolor\": \"white\"}, \"yaxis\": {\"backgroundcolor\": \"#E5ECF6\", \"gridcolor\": \"white\", \"gridwidth\": 2, \"linecolor\": \"white\", \"showbackground\": true, \"ticks\": \"\", \"zerolinecolor\": \"white\"}, \"zaxis\": {\"backgroundcolor\": \"#E5ECF6\", \"gridcolor\": \"white\", \"gridwidth\": 2, \"linecolor\": \"white\", \"showbackground\": true, \"ticks\": \"\", \"zerolinecolor\": \"white\"}}, \"shapedefaults\": {\"line\": {\"color\": \"#2a3f5f\"}}, \"ternary\": {\"aaxis\": {\"gridcolor\": \"white\", \"linecolor\": \"white\", \"ticks\": \"\"}, \"baxis\": {\"gridcolor\": \"white\", \"linecolor\": \"white\", \"ticks\": \"\"}, \"bgcolor\": \"#E5ECF6\", \"caxis\": {\"gridcolor\": \"white\", \"linecolor\": \"white\", \"ticks\": \"\"}}, \"title\": {\"x\": 0.05}, \"xaxis\": {\"automargin\": true, \"gridcolor\": \"white\", \"linecolor\": \"white\", \"ticks\": \"\", \"title\": {\"standoff\": 15}, \"zerolinecolor\": \"white\", \"zerolinewidth\": 2}, \"yaxis\": {\"automargin\": true, \"gridcolor\": \"white\", \"linecolor\": \"white\", \"ticks\": \"\", \"title\": {\"standoff\": 15}, \"zerolinecolor\": \"white\", \"zerolinewidth\": 2}}}},\n",
       "                        {\"responsive\": true}\n",
       "                    ).then(function(){\n",
       "                            \n",
       "var gd = document.getElementById('9143d4ed-6adc-40d9-83a8-fdd88ee6f900');\n",
       "var x = new MutationObserver(function (mutations, observer) {{\n",
       "        var display = window.getComputedStyle(gd).display;\n",
       "        if (!display || display === 'none') {{\n",
       "            console.log([gd, 'removed!']);\n",
       "            Plotly.purge(gd);\n",
       "            observer.disconnect();\n",
       "        }}\n",
       "}});\n",
       "\n",
       "// Listen for the removal of the full notebook cells\n",
       "var notebookContainer = gd.closest('#notebook-container');\n",
       "if (notebookContainer) {{\n",
       "    x.observe(notebookContainer, {childList: true});\n",
       "}}\n",
       "\n",
       "// Listen for the clearing of the current output cell\n",
       "var outputEl = gd.closest('.output');\n",
       "if (outputEl) {{\n",
       "    x.observe(outputEl, {childList: true});\n",
       "}}\n",
       "\n",
       "                        })\n",
       "                };\n",
       "                });\n",
       "            </script>\n",
       "        </div>"
      ]
     },
     "metadata": {},
     "output_type": "display_data"
    }
   ],
   "source": [
    "values = wc\n",
    "labels = w\n",
    "parents=v\n",
    "\n",
    "fig4 = go.Figure(go.Treemap(\n",
    "    labels = labels,\n",
    "    values = values,\n",
    "    parents =parents ,\n",
    "    marker_colors = [\"darkblue\", \"royalblue\", \"lightblue\", \"red\", \"lightred\", \"lightgray\", \"lightblue\"]))\n",
    "\n",
    "fig4.show()"
   ]
  },
  {
   "cell_type": "code",
   "execution_count": 21,
   "metadata": {},
   "outputs": [],
   "source": [
    "import plotly.express as px"
   ]
  },
  {
   "cell_type": "code",
   "execution_count": 22,
   "metadata": {},
   "outputs": [],
   "source": [
    "cnn=df['Weight Class'].value_counts()\n",
    "sinn=[\"Lightweight\",\"Welterweight\",\"Middleweight\",\"Heavyweight\",\"Light Heavyweight\",\"Featherweight\",\"Bantamweight\",\"Flyweight\",\"Women's Strawweight\",\"Women's Bantamweight\",\"Open Weight\",\"Women's Flyweight\",\"Catch Weight\",\"Women's Featherweight\"]\n",
    "\n",
    "a1=np.flip(cnn)\n",
    "b1=np.flip(sinn)"
   ]
  },
  {
   "cell_type": "code",
   "execution_count": 23,
   "metadata": {},
   "outputs": [
    {
     "data": {
      "application/vnd.plotly.v1+json": {
       "config": {
        "plotlyServerURL": "https://plot.ly"
       },
       "data": [
        {
         "marker": {
          "color": [
           "blue",
           "blue",
           "red",
           "red",
           "blue",
           "blue",
           "red",
           "red",
           "blue",
           "blue",
           "red",
           "red",
           "blue",
           "blue",
           "red",
           "red",
           "blue",
           "blue",
           "red",
           "red",
           "blue",
           "blue",
           "red",
           "red",
           "blue",
           "blue",
           "red",
           "red",
           "blue",
           "blue",
           "red",
           "red",
           "blue",
           "blue",
           "red",
           "red",
           "blue",
           "blue",
           "red",
           "red",
           "blue",
           "blue",
           "red",
           "red",
           "blue",
           "blue",
           "red",
           "red",
           "blue",
           "blue",
           "red",
           "red",
           "blue",
           "blue",
           "red",
           "red"
          ]
         },
         "orientation": "h",
         "type": "bar",
         "x": [
          10,
          38,
          50,
          92,
          111,
          143,
          187,
          379,
          442,
          502,
          507,
          725,
          969,
          989
         ],
         "y": [
          "Women's Featherweight",
          "Catch Weight",
          "Women's Flyweight",
          "Open Weight",
          "Women's Bantamweight",
          "Women's Strawweight",
          "Flyweight",
          "Bantamweight",
          "Featherweight",
          "Light Heavyweight",
          "Heavyweight",
          "Middleweight",
          "Welterweight",
          "Lightweight"
         ]
        }
       ],
       "layout": {
        "plot_bgcolor": "rgb(64, 64, 64)",
        "template": {
         "data": {
          "bar": [
           {
            "error_x": {
             "color": "#2a3f5f"
            },
            "error_y": {
             "color": "#2a3f5f"
            },
            "marker": {
             "line": {
              "color": "#E5ECF6",
              "width": 0.5
             }
            },
            "type": "bar"
           }
          ],
          "barpolar": [
           {
            "marker": {
             "line": {
              "color": "#E5ECF6",
              "width": 0.5
             }
            },
            "type": "barpolar"
           }
          ],
          "carpet": [
           {
            "aaxis": {
             "endlinecolor": "#2a3f5f",
             "gridcolor": "white",
             "linecolor": "white",
             "minorgridcolor": "white",
             "startlinecolor": "#2a3f5f"
            },
            "baxis": {
             "endlinecolor": "#2a3f5f",
             "gridcolor": "white",
             "linecolor": "white",
             "minorgridcolor": "white",
             "startlinecolor": "#2a3f5f"
            },
            "type": "carpet"
           }
          ],
          "choropleth": [
           {
            "colorbar": {
             "outlinewidth": 0,
             "ticks": ""
            },
            "type": "choropleth"
           }
          ],
          "contour": [
           {
            "colorbar": {
             "outlinewidth": 0,
             "ticks": ""
            },
            "colorscale": [
             [
              0,
              "#0d0887"
             ],
             [
              0.1111111111111111,
              "#46039f"
             ],
             [
              0.2222222222222222,
              "#7201a8"
             ],
             [
              0.3333333333333333,
              "#9c179e"
             ],
             [
              0.4444444444444444,
              "#bd3786"
             ],
             [
              0.5555555555555556,
              "#d8576b"
             ],
             [
              0.6666666666666666,
              "#ed7953"
             ],
             [
              0.7777777777777778,
              "#fb9f3a"
             ],
             [
              0.8888888888888888,
              "#fdca26"
             ],
             [
              1,
              "#f0f921"
             ]
            ],
            "type": "contour"
           }
          ],
          "contourcarpet": [
           {
            "colorbar": {
             "outlinewidth": 0,
             "ticks": ""
            },
            "type": "contourcarpet"
           }
          ],
          "heatmap": [
           {
            "colorbar": {
             "outlinewidth": 0,
             "ticks": ""
            },
            "colorscale": [
             [
              0,
              "#0d0887"
             ],
             [
              0.1111111111111111,
              "#46039f"
             ],
             [
              0.2222222222222222,
              "#7201a8"
             ],
             [
              0.3333333333333333,
              "#9c179e"
             ],
             [
              0.4444444444444444,
              "#bd3786"
             ],
             [
              0.5555555555555556,
              "#d8576b"
             ],
             [
              0.6666666666666666,
              "#ed7953"
             ],
             [
              0.7777777777777778,
              "#fb9f3a"
             ],
             [
              0.8888888888888888,
              "#fdca26"
             ],
             [
              1,
              "#f0f921"
             ]
            ],
            "type": "heatmap"
           }
          ],
          "heatmapgl": [
           {
            "colorbar": {
             "outlinewidth": 0,
             "ticks": ""
            },
            "colorscale": [
             [
              0,
              "#0d0887"
             ],
             [
              0.1111111111111111,
              "#46039f"
             ],
             [
              0.2222222222222222,
              "#7201a8"
             ],
             [
              0.3333333333333333,
              "#9c179e"
             ],
             [
              0.4444444444444444,
              "#bd3786"
             ],
             [
              0.5555555555555556,
              "#d8576b"
             ],
             [
              0.6666666666666666,
              "#ed7953"
             ],
             [
              0.7777777777777778,
              "#fb9f3a"
             ],
             [
              0.8888888888888888,
              "#fdca26"
             ],
             [
              1,
              "#f0f921"
             ]
            ],
            "type": "heatmapgl"
           }
          ],
          "histogram": [
           {
            "marker": {
             "colorbar": {
              "outlinewidth": 0,
              "ticks": ""
             }
            },
            "type": "histogram"
           }
          ],
          "histogram2d": [
           {
            "colorbar": {
             "outlinewidth": 0,
             "ticks": ""
            },
            "colorscale": [
             [
              0,
              "#0d0887"
             ],
             [
              0.1111111111111111,
              "#46039f"
             ],
             [
              0.2222222222222222,
              "#7201a8"
             ],
             [
              0.3333333333333333,
              "#9c179e"
             ],
             [
              0.4444444444444444,
              "#bd3786"
             ],
             [
              0.5555555555555556,
              "#d8576b"
             ],
             [
              0.6666666666666666,
              "#ed7953"
             ],
             [
              0.7777777777777778,
              "#fb9f3a"
             ],
             [
              0.8888888888888888,
              "#fdca26"
             ],
             [
              1,
              "#f0f921"
             ]
            ],
            "type": "histogram2d"
           }
          ],
          "histogram2dcontour": [
           {
            "colorbar": {
             "outlinewidth": 0,
             "ticks": ""
            },
            "colorscale": [
             [
              0,
              "#0d0887"
             ],
             [
              0.1111111111111111,
              "#46039f"
             ],
             [
              0.2222222222222222,
              "#7201a8"
             ],
             [
              0.3333333333333333,
              "#9c179e"
             ],
             [
              0.4444444444444444,
              "#bd3786"
             ],
             [
              0.5555555555555556,
              "#d8576b"
             ],
             [
              0.6666666666666666,
              "#ed7953"
             ],
             [
              0.7777777777777778,
              "#fb9f3a"
             ],
             [
              0.8888888888888888,
              "#fdca26"
             ],
             [
              1,
              "#f0f921"
             ]
            ],
            "type": "histogram2dcontour"
           }
          ],
          "mesh3d": [
           {
            "colorbar": {
             "outlinewidth": 0,
             "ticks": ""
            },
            "type": "mesh3d"
           }
          ],
          "parcoords": [
           {
            "line": {
             "colorbar": {
              "outlinewidth": 0,
              "ticks": ""
             }
            },
            "type": "parcoords"
           }
          ],
          "pie": [
           {
            "automargin": true,
            "type": "pie"
           }
          ],
          "scatter": [
           {
            "marker": {
             "colorbar": {
              "outlinewidth": 0,
              "ticks": ""
             }
            },
            "type": "scatter"
           }
          ],
          "scatter3d": [
           {
            "line": {
             "colorbar": {
              "outlinewidth": 0,
              "ticks": ""
             }
            },
            "marker": {
             "colorbar": {
              "outlinewidth": 0,
              "ticks": ""
             }
            },
            "type": "scatter3d"
           }
          ],
          "scattercarpet": [
           {
            "marker": {
             "colorbar": {
              "outlinewidth": 0,
              "ticks": ""
             }
            },
            "type": "scattercarpet"
           }
          ],
          "scattergeo": [
           {
            "marker": {
             "colorbar": {
              "outlinewidth": 0,
              "ticks": ""
             }
            },
            "type": "scattergeo"
           }
          ],
          "scattergl": [
           {
            "marker": {
             "colorbar": {
              "outlinewidth": 0,
              "ticks": ""
             }
            },
            "type": "scattergl"
           }
          ],
          "scattermapbox": [
           {
            "marker": {
             "colorbar": {
              "outlinewidth": 0,
              "ticks": ""
             }
            },
            "type": "scattermapbox"
           }
          ],
          "scatterpolar": [
           {
            "marker": {
             "colorbar": {
              "outlinewidth": 0,
              "ticks": ""
             }
            },
            "type": "scatterpolar"
           }
          ],
          "scatterpolargl": [
           {
            "marker": {
             "colorbar": {
              "outlinewidth": 0,
              "ticks": ""
             }
            },
            "type": "scatterpolargl"
           }
          ],
          "scatterternary": [
           {
            "marker": {
             "colorbar": {
              "outlinewidth": 0,
              "ticks": ""
             }
            },
            "type": "scatterternary"
           }
          ],
          "surface": [
           {
            "colorbar": {
             "outlinewidth": 0,
             "ticks": ""
            },
            "colorscale": [
             [
              0,
              "#0d0887"
             ],
             [
              0.1111111111111111,
              "#46039f"
             ],
             [
              0.2222222222222222,
              "#7201a8"
             ],
             [
              0.3333333333333333,
              "#9c179e"
             ],
             [
              0.4444444444444444,
              "#bd3786"
             ],
             [
              0.5555555555555556,
              "#d8576b"
             ],
             [
              0.6666666666666666,
              "#ed7953"
             ],
             [
              0.7777777777777778,
              "#fb9f3a"
             ],
             [
              0.8888888888888888,
              "#fdca26"
             ],
             [
              1,
              "#f0f921"
             ]
            ],
            "type": "surface"
           }
          ],
          "table": [
           {
            "cells": {
             "fill": {
              "color": "#EBF0F8"
             },
             "line": {
              "color": "white"
             }
            },
            "header": {
             "fill": {
              "color": "#C8D4E3"
             },
             "line": {
              "color": "white"
             }
            },
            "type": "table"
           }
          ]
         },
         "layout": {
          "annotationdefaults": {
           "arrowcolor": "#2a3f5f",
           "arrowhead": 0,
           "arrowwidth": 1
          },
          "coloraxis": {
           "colorbar": {
            "outlinewidth": 0,
            "ticks": ""
           }
          },
          "colorscale": {
           "diverging": [
            [
             0,
             "#8e0152"
            ],
            [
             0.1,
             "#c51b7d"
            ],
            [
             0.2,
             "#de77ae"
            ],
            [
             0.3,
             "#f1b6da"
            ],
            [
             0.4,
             "#fde0ef"
            ],
            [
             0.5,
             "#f7f7f7"
            ],
            [
             0.6,
             "#e6f5d0"
            ],
            [
             0.7,
             "#b8e186"
            ],
            [
             0.8,
             "#7fbc41"
            ],
            [
             0.9,
             "#4d9221"
            ],
            [
             1,
             "#276419"
            ]
           ],
           "sequential": [
            [
             0,
             "#0d0887"
            ],
            [
             0.1111111111111111,
             "#46039f"
            ],
            [
             0.2222222222222222,
             "#7201a8"
            ],
            [
             0.3333333333333333,
             "#9c179e"
            ],
            [
             0.4444444444444444,
             "#bd3786"
            ],
            [
             0.5555555555555556,
             "#d8576b"
            ],
            [
             0.6666666666666666,
             "#ed7953"
            ],
            [
             0.7777777777777778,
             "#fb9f3a"
            ],
            [
             0.8888888888888888,
             "#fdca26"
            ],
            [
             1,
             "#f0f921"
            ]
           ],
           "sequentialminus": [
            [
             0,
             "#0d0887"
            ],
            [
             0.1111111111111111,
             "#46039f"
            ],
            [
             0.2222222222222222,
             "#7201a8"
            ],
            [
             0.3333333333333333,
             "#9c179e"
            ],
            [
             0.4444444444444444,
             "#bd3786"
            ],
            [
             0.5555555555555556,
             "#d8576b"
            ],
            [
             0.6666666666666666,
             "#ed7953"
            ],
            [
             0.7777777777777778,
             "#fb9f3a"
            ],
            [
             0.8888888888888888,
             "#fdca26"
            ],
            [
             1,
             "#f0f921"
            ]
           ]
          },
          "colorway": [
           "#636efa",
           "#EF553B",
           "#00cc96",
           "#ab63fa",
           "#FFA15A",
           "#19d3f3",
           "#FF6692",
           "#B6E880",
           "#FF97FF",
           "#FECB52"
          ],
          "font": {
           "color": "#2a3f5f"
          },
          "geo": {
           "bgcolor": "white",
           "lakecolor": "white",
           "landcolor": "#E5ECF6",
           "showlakes": true,
           "showland": true,
           "subunitcolor": "white"
          },
          "hoverlabel": {
           "align": "left"
          },
          "hovermode": "closest",
          "mapbox": {
           "style": "light"
          },
          "paper_bgcolor": "white",
          "plot_bgcolor": "#E5ECF6",
          "polar": {
           "angularaxis": {
            "gridcolor": "white",
            "linecolor": "white",
            "ticks": ""
           },
           "bgcolor": "#E5ECF6",
           "radialaxis": {
            "gridcolor": "white",
            "linecolor": "white",
            "ticks": ""
           }
          },
          "scene": {
           "xaxis": {
            "backgroundcolor": "#E5ECF6",
            "gridcolor": "white",
            "gridwidth": 2,
            "linecolor": "white",
            "showbackground": true,
            "ticks": "",
            "zerolinecolor": "white"
           },
           "yaxis": {
            "backgroundcolor": "#E5ECF6",
            "gridcolor": "white",
            "gridwidth": 2,
            "linecolor": "white",
            "showbackground": true,
            "ticks": "",
            "zerolinecolor": "white"
           },
           "zaxis": {
            "backgroundcolor": "#E5ECF6",
            "gridcolor": "white",
            "gridwidth": 2,
            "linecolor": "white",
            "showbackground": true,
            "ticks": "",
            "zerolinecolor": "white"
           }
          },
          "shapedefaults": {
           "line": {
            "color": "#2a3f5f"
           }
          },
          "ternary": {
           "aaxis": {
            "gridcolor": "white",
            "linecolor": "white",
            "ticks": ""
           },
           "baxis": {
            "gridcolor": "white",
            "linecolor": "white",
            "ticks": ""
           },
           "bgcolor": "#E5ECF6",
           "caxis": {
            "gridcolor": "white",
            "linecolor": "white",
            "ticks": ""
           }
          },
          "title": {
           "x": 0.05
          },
          "xaxis": {
           "automargin": true,
           "gridcolor": "white",
           "linecolor": "white",
           "ticks": "",
           "title": {
            "standoff": 15
           },
           "zerolinecolor": "white",
           "zerolinewidth": 2
          },
          "yaxis": {
           "automargin": true,
           "gridcolor": "white",
           "linecolor": "white",
           "ticks": "",
           "title": {
            "standoff": 15
           },
           "zerolinecolor": "white",
           "zerolinewidth": 2
          }
         }
        },
        "title": {
         "text": " "
        }
       }
      },
      "text/html": [
       "<div>\n",
       "        \n",
       "        \n",
       "            <div id=\"8cfbc2b8-1072-47ba-a4f1-e171a71b8e91\" class=\"plotly-graph-div\" style=\"height:525px; width:100%;\"></div>\n",
       "            <script type=\"text/javascript\">\n",
       "                require([\"plotly\"], function(Plotly) {\n",
       "                    window.PLOTLYENV=window.PLOTLYENV || {};\n",
       "                    \n",
       "                if (document.getElementById(\"8cfbc2b8-1072-47ba-a4f1-e171a71b8e91\")) {\n",
       "                    Plotly.newPlot(\n",
       "                        '8cfbc2b8-1072-47ba-a4f1-e171a71b8e91',\n",
       "                        [{\"marker\": {\"color\": [\"blue\", \"blue\", \"red\", \"red\", \"blue\", \"blue\", \"red\", \"red\", \"blue\", \"blue\", \"red\", \"red\", \"blue\", \"blue\", \"red\", \"red\", \"blue\", \"blue\", \"red\", \"red\", \"blue\", \"blue\", \"red\", \"red\", \"blue\", \"blue\", \"red\", \"red\", \"blue\", \"blue\", \"red\", \"red\", \"blue\", \"blue\", \"red\", \"red\", \"blue\", \"blue\", \"red\", \"red\", \"blue\", \"blue\", \"red\", \"red\", \"blue\", \"blue\", \"red\", \"red\", \"blue\", \"blue\", \"red\", \"red\", \"blue\", \"blue\", \"red\", \"red\"]}, \"orientation\": \"h\", \"type\": \"bar\", \"x\": [10, 38, 50, 92, 111, 143, 187, 379, 442, 502, 507, 725, 969, 989], \"y\": [\"Women's Featherweight\", \"Catch Weight\", \"Women's Flyweight\", \"Open Weight\", \"Women's Bantamweight\", \"Women's Strawweight\", \"Flyweight\", \"Bantamweight\", \"Featherweight\", \"Light Heavyweight\", \"Heavyweight\", \"Middleweight\", \"Welterweight\", \"Lightweight\"]}],\n",
       "                        {\"plot_bgcolor\": \"rgb(64, 64, 64)\", \"template\": {\"data\": {\"bar\": [{\"error_x\": {\"color\": \"#2a3f5f\"}, \"error_y\": {\"color\": \"#2a3f5f\"}, \"marker\": {\"line\": {\"color\": \"#E5ECF6\", \"width\": 0.5}}, \"type\": \"bar\"}], \"barpolar\": [{\"marker\": {\"line\": {\"color\": \"#E5ECF6\", \"width\": 0.5}}, \"type\": \"barpolar\"}], \"carpet\": [{\"aaxis\": {\"endlinecolor\": \"#2a3f5f\", \"gridcolor\": \"white\", \"linecolor\": \"white\", \"minorgridcolor\": \"white\", \"startlinecolor\": \"#2a3f5f\"}, \"baxis\": {\"endlinecolor\": \"#2a3f5f\", \"gridcolor\": \"white\", \"linecolor\": \"white\", \"minorgridcolor\": \"white\", \"startlinecolor\": \"#2a3f5f\"}, \"type\": \"carpet\"}], \"choropleth\": [{\"colorbar\": {\"outlinewidth\": 0, \"ticks\": \"\"}, \"type\": \"choropleth\"}], \"contour\": [{\"colorbar\": {\"outlinewidth\": 0, \"ticks\": \"\"}, \"colorscale\": [[0.0, \"#0d0887\"], [0.1111111111111111, \"#46039f\"], [0.2222222222222222, \"#7201a8\"], [0.3333333333333333, \"#9c179e\"], [0.4444444444444444, \"#bd3786\"], [0.5555555555555556, \"#d8576b\"], [0.6666666666666666, \"#ed7953\"], [0.7777777777777778, \"#fb9f3a\"], [0.8888888888888888, \"#fdca26\"], [1.0, \"#f0f921\"]], \"type\": \"contour\"}], \"contourcarpet\": [{\"colorbar\": {\"outlinewidth\": 0, \"ticks\": \"\"}, \"type\": \"contourcarpet\"}], \"heatmap\": [{\"colorbar\": {\"outlinewidth\": 0, \"ticks\": \"\"}, \"colorscale\": [[0.0, \"#0d0887\"], [0.1111111111111111, \"#46039f\"], [0.2222222222222222, \"#7201a8\"], [0.3333333333333333, \"#9c179e\"], [0.4444444444444444, \"#bd3786\"], [0.5555555555555556, \"#d8576b\"], [0.6666666666666666, \"#ed7953\"], [0.7777777777777778, \"#fb9f3a\"], [0.8888888888888888, \"#fdca26\"], [1.0, \"#f0f921\"]], \"type\": \"heatmap\"}], \"heatmapgl\": [{\"colorbar\": {\"outlinewidth\": 0, \"ticks\": \"\"}, \"colorscale\": [[0.0, \"#0d0887\"], [0.1111111111111111, \"#46039f\"], [0.2222222222222222, \"#7201a8\"], [0.3333333333333333, \"#9c179e\"], [0.4444444444444444, \"#bd3786\"], [0.5555555555555556, \"#d8576b\"], [0.6666666666666666, \"#ed7953\"], [0.7777777777777778, \"#fb9f3a\"], [0.8888888888888888, \"#fdca26\"], [1.0, \"#f0f921\"]], \"type\": \"heatmapgl\"}], \"histogram\": [{\"marker\": {\"colorbar\": {\"outlinewidth\": 0, \"ticks\": \"\"}}, \"type\": \"histogram\"}], \"histogram2d\": [{\"colorbar\": {\"outlinewidth\": 0, \"ticks\": \"\"}, \"colorscale\": [[0.0, \"#0d0887\"], [0.1111111111111111, \"#46039f\"], [0.2222222222222222, \"#7201a8\"], [0.3333333333333333, \"#9c179e\"], [0.4444444444444444, \"#bd3786\"], [0.5555555555555556, \"#d8576b\"], [0.6666666666666666, \"#ed7953\"], [0.7777777777777778, \"#fb9f3a\"], [0.8888888888888888, \"#fdca26\"], [1.0, \"#f0f921\"]], \"type\": \"histogram2d\"}], \"histogram2dcontour\": [{\"colorbar\": {\"outlinewidth\": 0, \"ticks\": \"\"}, \"colorscale\": [[0.0, \"#0d0887\"], [0.1111111111111111, \"#46039f\"], [0.2222222222222222, \"#7201a8\"], [0.3333333333333333, \"#9c179e\"], [0.4444444444444444, \"#bd3786\"], [0.5555555555555556, \"#d8576b\"], [0.6666666666666666, \"#ed7953\"], [0.7777777777777778, \"#fb9f3a\"], [0.8888888888888888, \"#fdca26\"], [1.0, \"#f0f921\"]], \"type\": \"histogram2dcontour\"}], \"mesh3d\": [{\"colorbar\": {\"outlinewidth\": 0, \"ticks\": \"\"}, \"type\": \"mesh3d\"}], \"parcoords\": [{\"line\": {\"colorbar\": {\"outlinewidth\": 0, \"ticks\": \"\"}}, \"type\": \"parcoords\"}], \"pie\": [{\"automargin\": true, \"type\": \"pie\"}], \"scatter\": [{\"marker\": {\"colorbar\": {\"outlinewidth\": 0, \"ticks\": \"\"}}, \"type\": \"scatter\"}], \"scatter3d\": [{\"line\": {\"colorbar\": {\"outlinewidth\": 0, \"ticks\": \"\"}}, \"marker\": {\"colorbar\": {\"outlinewidth\": 0, \"ticks\": \"\"}}, \"type\": \"scatter3d\"}], \"scattercarpet\": [{\"marker\": {\"colorbar\": {\"outlinewidth\": 0, \"ticks\": \"\"}}, \"type\": \"scattercarpet\"}], \"scattergeo\": [{\"marker\": {\"colorbar\": {\"outlinewidth\": 0, \"ticks\": \"\"}}, \"type\": \"scattergeo\"}], \"scattergl\": [{\"marker\": {\"colorbar\": {\"outlinewidth\": 0, \"ticks\": \"\"}}, \"type\": \"scattergl\"}], \"scattermapbox\": [{\"marker\": {\"colorbar\": {\"outlinewidth\": 0, \"ticks\": \"\"}}, \"type\": \"scattermapbox\"}], \"scatterpolar\": [{\"marker\": {\"colorbar\": {\"outlinewidth\": 0, \"ticks\": \"\"}}, \"type\": \"scatterpolar\"}], \"scatterpolargl\": [{\"marker\": {\"colorbar\": {\"outlinewidth\": 0, \"ticks\": \"\"}}, \"type\": \"scatterpolargl\"}], \"scatterternary\": [{\"marker\": {\"colorbar\": {\"outlinewidth\": 0, \"ticks\": \"\"}}, \"type\": \"scatterternary\"}], \"surface\": [{\"colorbar\": {\"outlinewidth\": 0, \"ticks\": \"\"}, \"colorscale\": [[0.0, \"#0d0887\"], [0.1111111111111111, \"#46039f\"], [0.2222222222222222, \"#7201a8\"], [0.3333333333333333, \"#9c179e\"], [0.4444444444444444, \"#bd3786\"], [0.5555555555555556, \"#d8576b\"], [0.6666666666666666, \"#ed7953\"], [0.7777777777777778, \"#fb9f3a\"], [0.8888888888888888, \"#fdca26\"], [1.0, \"#f0f921\"]], \"type\": \"surface\"}], \"table\": [{\"cells\": {\"fill\": {\"color\": \"#EBF0F8\"}, \"line\": {\"color\": \"white\"}}, \"header\": {\"fill\": {\"color\": \"#C8D4E3\"}, \"line\": {\"color\": \"white\"}}, \"type\": \"table\"}]}, \"layout\": {\"annotationdefaults\": {\"arrowcolor\": \"#2a3f5f\", \"arrowhead\": 0, \"arrowwidth\": 1}, \"coloraxis\": {\"colorbar\": {\"outlinewidth\": 0, \"ticks\": \"\"}}, \"colorscale\": {\"diverging\": [[0, \"#8e0152\"], [0.1, \"#c51b7d\"], [0.2, \"#de77ae\"], [0.3, \"#f1b6da\"], [0.4, \"#fde0ef\"], [0.5, \"#f7f7f7\"], [0.6, \"#e6f5d0\"], [0.7, \"#b8e186\"], [0.8, \"#7fbc41\"], [0.9, \"#4d9221\"], [1, \"#276419\"]], \"sequential\": [[0.0, \"#0d0887\"], [0.1111111111111111, \"#46039f\"], [0.2222222222222222, \"#7201a8\"], [0.3333333333333333, \"#9c179e\"], [0.4444444444444444, \"#bd3786\"], [0.5555555555555556, \"#d8576b\"], [0.6666666666666666, \"#ed7953\"], [0.7777777777777778, \"#fb9f3a\"], [0.8888888888888888, \"#fdca26\"], [1.0, \"#f0f921\"]], \"sequentialminus\": [[0.0, \"#0d0887\"], [0.1111111111111111, \"#46039f\"], [0.2222222222222222, \"#7201a8\"], [0.3333333333333333, \"#9c179e\"], [0.4444444444444444, \"#bd3786\"], [0.5555555555555556, \"#d8576b\"], [0.6666666666666666, \"#ed7953\"], [0.7777777777777778, \"#fb9f3a\"], [0.8888888888888888, \"#fdca26\"], [1.0, \"#f0f921\"]]}, \"colorway\": [\"#636efa\", \"#EF553B\", \"#00cc96\", \"#ab63fa\", \"#FFA15A\", \"#19d3f3\", \"#FF6692\", \"#B6E880\", \"#FF97FF\", \"#FECB52\"], \"font\": {\"color\": \"#2a3f5f\"}, \"geo\": {\"bgcolor\": \"white\", \"lakecolor\": \"white\", \"landcolor\": \"#E5ECF6\", \"showlakes\": true, \"showland\": true, \"subunitcolor\": \"white\"}, \"hoverlabel\": {\"align\": \"left\"}, \"hovermode\": \"closest\", \"mapbox\": {\"style\": \"light\"}, \"paper_bgcolor\": \"white\", \"plot_bgcolor\": \"#E5ECF6\", \"polar\": {\"angularaxis\": {\"gridcolor\": \"white\", \"linecolor\": \"white\", \"ticks\": \"\"}, \"bgcolor\": \"#E5ECF6\", \"radialaxis\": {\"gridcolor\": \"white\", \"linecolor\": \"white\", \"ticks\": \"\"}}, \"scene\": {\"xaxis\": {\"backgroundcolor\": \"#E5ECF6\", \"gridcolor\": \"white\", \"gridwidth\": 2, \"linecolor\": \"white\", \"showbackground\": true, \"ticks\": \"\", \"zerolinecolor\": \"white\"}, \"yaxis\": {\"backgroundcolor\": \"#E5ECF6\", \"gridcolor\": \"white\", \"gridwidth\": 2, \"linecolor\": \"white\", \"showbackground\": true, \"ticks\": \"\", \"zerolinecolor\": \"white\"}, \"zaxis\": {\"backgroundcolor\": \"#E5ECF6\", \"gridcolor\": \"white\", \"gridwidth\": 2, \"linecolor\": \"white\", \"showbackground\": true, \"ticks\": \"\", \"zerolinecolor\": \"white\"}}, \"shapedefaults\": {\"line\": {\"color\": \"#2a3f5f\"}}, \"ternary\": {\"aaxis\": {\"gridcolor\": \"white\", \"linecolor\": \"white\", \"ticks\": \"\"}, \"baxis\": {\"gridcolor\": \"white\", \"linecolor\": \"white\", \"ticks\": \"\"}, \"bgcolor\": \"#E5ECF6\", \"caxis\": {\"gridcolor\": \"white\", \"linecolor\": \"white\", \"ticks\": \"\"}}, \"title\": {\"x\": 0.05}, \"xaxis\": {\"automargin\": true, \"gridcolor\": \"white\", \"linecolor\": \"white\", \"ticks\": \"\", \"title\": {\"standoff\": 15}, \"zerolinecolor\": \"white\", \"zerolinewidth\": 2}, \"yaxis\": {\"automargin\": true, \"gridcolor\": \"white\", \"linecolor\": \"white\", \"ticks\": \"\", \"title\": {\"standoff\": 15}, \"zerolinecolor\": \"white\", \"zerolinewidth\": 2}}}, \"title\": {\"text\": \" \"}},\n",
       "                        {\"responsive\": true}\n",
       "                    ).then(function(){\n",
       "                            \n",
       "var gd = document.getElementById('8cfbc2b8-1072-47ba-a4f1-e171a71b8e91');\n",
       "var x = new MutationObserver(function (mutations, observer) {{\n",
       "        var display = window.getComputedStyle(gd).display;\n",
       "        if (!display || display === 'none') {{\n",
       "            console.log([gd, 'removed!']);\n",
       "            Plotly.purge(gd);\n",
       "            observer.disconnect();\n",
       "        }}\n",
       "}});\n",
       "\n",
       "// Listen for the removal of the full notebook cells\n",
       "var notebookContainer = gd.closest('#notebook-container');\n",
       "if (notebookContainer) {{\n",
       "    x.observe(notebookContainer, {childList: true});\n",
       "}}\n",
       "\n",
       "// Listen for the clearing of the current output cell\n",
       "var outputEl = gd.closest('.output');\n",
       "if (outputEl) {{\n",
       "    x.observe(outputEl, {childList: true});\n",
       "}}\n",
       "\n",
       "                        })\n",
       "                };\n",
       "                });\n",
       "            </script>\n",
       "        </div>"
      ]
     },
     "metadata": {},
     "output_type": "display_data"
    }
   ],
   "source": [
    "colors2 = ['blue','blue','red','red'] *14\n",
    "\n",
    "fig5 = go.Figure(go.Bar(\n",
    "            x=a1,\n",
    "            y=b1, \n",
    "            marker_color=colors2,\n",
    "            orientation='h',))\n",
    "fig5.update_layout(title_text=' ',   plot_bgcolor='rgb(64, 64, 64)',)\n",
    "fig5.show()"
   ]
  },
  {
   "cell_type": "code",
   "execution_count": 24,
   "metadata": {},
   "outputs": [
    {
     "data": {
      "text/html": [
       "<div>\n",
       "<style scoped>\n",
       "    .dataframe tbody tr th:only-of-type {\n",
       "        vertical-align: middle;\n",
       "    }\n",
       "\n",
       "    .dataframe tbody tr th {\n",
       "        vertical-align: top;\n",
       "    }\n",
       "\n",
       "    .dataframe thead th {\n",
       "        text-align: right;\n",
       "    }\n",
       "</style>\n",
       "<table border=\"1\" class=\"dataframe\">\n",
       "  <thead>\n",
       "    <tr style=\"text-align: right;\">\n",
       "      <th></th>\n",
       "      <th>Year</th>\n",
       "      <th>Country</th>\n",
       "      <th>Total</th>\n",
       "    </tr>\n",
       "  </thead>\n",
       "  <tbody>\n",
       "    <tr>\n",
       "      <th>0</th>\n",
       "      <td>1993</td>\n",
       "      <td>United States</td>\n",
       "      <td>8</td>\n",
       "    </tr>\n",
       "    <tr>\n",
       "      <th>1</th>\n",
       "      <td>1993</td>\n",
       "      <td>Puerto Rico</td>\n",
       "      <td>1</td>\n",
       "    </tr>\n",
       "    <tr>\n",
       "      <th>2</th>\n",
       "      <td>1993</td>\n",
       "      <td>Japan</td>\n",
       "      <td>1</td>\n",
       "    </tr>\n",
       "    <tr>\n",
       "      <th>3</th>\n",
       "      <td>1993</td>\n",
       "      <td>Brazil</td>\n",
       "      <td>1</td>\n",
       "    </tr>\n",
       "    <tr>\n",
       "      <th>4</th>\n",
       "      <td>1993</td>\n",
       "      <td>United Kingdom</td>\n",
       "      <td>1</td>\n",
       "    </tr>\n",
       "  </tbody>\n",
       "</table>\n",
       "</div>"
      ],
      "text/plain": [
       "   Year         Country  Total\n",
       "0  1993   United States      8\n",
       "1  1993     Puerto Rico      1\n",
       "2  1993           Japan      1\n",
       "3  1993          Brazil      1\n",
       "4  1993  United Kingdom      1"
      ]
     },
     "execution_count": 24,
     "metadata": {},
     "output_type": "execute_result"
    }
   ],
   "source": [
    "df3 = pd.read_excel('data/map.xlsx')\n",
    "df3.dropna()\n",
    "df3.head()"
   ]
  },
  {
   "cell_type": "code",
   "execution_count": 25,
   "metadata": {},
   "outputs": [
    {
     "data": {
      "text/html": [
       "<div>\n",
       "<style scoped>\n",
       "    .dataframe tbody tr th:only-of-type {\n",
       "        vertical-align: middle;\n",
       "    }\n",
       "\n",
       "    .dataframe tbody tr th {\n",
       "        vertical-align: top;\n",
       "    }\n",
       "\n",
       "    .dataframe thead th {\n",
       "        text-align: right;\n",
       "    }\n",
       "</style>\n",
       "<table border=\"1\" class=\"dataframe\">\n",
       "  <thead>\n",
       "    <tr style=\"text-align: right;\">\n",
       "      <th></th>\n",
       "      <th>Year</th>\n",
       "      <th>Country</th>\n",
       "      <th>Total</th>\n",
       "      <th>continent</th>\n",
       "      <th>iso_alpha</th>\n",
       "    </tr>\n",
       "  </thead>\n",
       "  <tbody>\n",
       "    <tr>\n",
       "      <th>0</th>\n",
       "      <td>1993</td>\n",
       "      <td>United States</td>\n",
       "      <td>8</td>\n",
       "      <td>Americas</td>\n",
       "      <td>USA</td>\n",
       "    </tr>\n",
       "    <tr>\n",
       "      <th>1</th>\n",
       "      <td>1993</td>\n",
       "      <td>Puerto Rico</td>\n",
       "      <td>1</td>\n",
       "      <td>Americas</td>\n",
       "      <td>PRI</td>\n",
       "    </tr>\n",
       "    <tr>\n",
       "      <th>2</th>\n",
       "      <td>1993</td>\n",
       "      <td>Japan</td>\n",
       "      <td>1</td>\n",
       "      <td>Asia</td>\n",
       "      <td>JPN</td>\n",
       "    </tr>\n",
       "    <tr>\n",
       "      <th>3</th>\n",
       "      <td>1993</td>\n",
       "      <td>Brazil</td>\n",
       "      <td>1</td>\n",
       "      <td>Americas</td>\n",
       "      <td>BRA</td>\n",
       "    </tr>\n",
       "    <tr>\n",
       "      <th>4</th>\n",
       "      <td>1993</td>\n",
       "      <td>United Kingdom</td>\n",
       "      <td>1</td>\n",
       "      <td>Europe</td>\n",
       "      <td>GBR</td>\n",
       "    </tr>\n",
       "    <tr>\n",
       "      <th>...</th>\n",
       "      <td>...</td>\n",
       "      <td>...</td>\n",
       "      <td>...</td>\n",
       "      <td>...</td>\n",
       "      <td>...</td>\n",
       "    </tr>\n",
       "    <tr>\n",
       "      <th>616</th>\n",
       "      <td>2019</td>\n",
       "      <td>Netherlands</td>\n",
       "      <td>1</td>\n",
       "      <td>Europe</td>\n",
       "      <td>NLD</td>\n",
       "    </tr>\n",
       "    <tr>\n",
       "      <th>617</th>\n",
       "      <td>2019</td>\n",
       "      <td>Croatia</td>\n",
       "      <td>1</td>\n",
       "      <td>Europe</td>\n",
       "      <td>HRV</td>\n",
       "    </tr>\n",
       "    <tr>\n",
       "      <th>618</th>\n",
       "      <td>2019</td>\n",
       "      <td>Chile</td>\n",
       "      <td>1</td>\n",
       "      <td>Americas</td>\n",
       "      <td>CHL</td>\n",
       "    </tr>\n",
       "    <tr>\n",
       "      <th>619</th>\n",
       "      <td>2019</td>\n",
       "      <td>Argentina</td>\n",
       "      <td>1</td>\n",
       "      <td>Americas</td>\n",
       "      <td>ARG</td>\n",
       "    </tr>\n",
       "    <tr>\n",
       "      <th>620</th>\n",
       "      <td>2019</td>\n",
       "      <td>Czech Republic</td>\n",
       "      <td>13</td>\n",
       "      <td>Europe</td>\n",
       "      <td>CZE</td>\n",
       "    </tr>\n",
       "  </tbody>\n",
       "</table>\n",
       "<p>621 rows × 5 columns</p>\n",
       "</div>"
      ],
      "text/plain": [
       "     Year         Country  Total continent iso_alpha\n",
       "0    1993   United States      8  Americas       USA\n",
       "1    1993     Puerto Rico      1  Americas       PRI\n",
       "2    1993           Japan      1      Asia       JPN\n",
       "3    1993          Brazil      1  Americas       BRA\n",
       "4    1993  United Kingdom      1    Europe       GBR\n",
       "..    ...             ...    ...       ...       ...\n",
       "616  2019     Netherlands      1    Europe       NLD\n",
       "617  2019         Croatia      1    Europe       HRV\n",
       "618  2019           Chile      1  Americas       CHL\n",
       "619  2019       Argentina      1  Americas       ARG\n",
       "620  2019  Czech Republic     13    Europe       CZE\n",
       "\n",
       "[621 rows x 5 columns]"
      ]
     },
     "execution_count": 25,
     "metadata": {},
     "output_type": "execute_result"
    }
   ],
   "source": [
    "df_countries = pd.read_csv(\"https://raw.githubusercontent.com/plotly/datasets/master/gapminder_with_codes.csv\")\n",
    "df_countries = df_countries.loc[:, [\"country\", \"continent\",\"iso_alpha\"]]\n",
    "df_countries = df_countries.groupby([\"country\"]).first()\n",
    "df3= df3.merge(df_countries, left_on=\"Country\", right_index=True, how=\"left\")\n",
    "df3"
   ]
  },
  {
   "cell_type": "code",
   "execution_count": 26,
   "metadata": {},
   "outputs": [
    {
     "data": {
      "application/vnd.plotly.v1+json": {
       "config": {
        "plotlyServerURL": "https://plot.ly"
       },
       "data": [
        {
         "geo": "geo",
         "hovertemplate": "<b>%{hovertext}</b><br><br>color=Blue<br>Year=1993<br>Total=%{marker.size}<br>iso_alpha=%{location}<extra></extra>",
         "hovertext": [
          "United States",
          "Japan",
          "Brazil",
          "Canada",
          "Ireland",
          "Australia",
          "United Arab Emirates",
          "China",
          "Singapore",
          "Mexico",
          "Philippines",
          "South Korea",
          "Netherlands",
          "Chile",
          "Argentina"
         ],
         "legendgroup": "Blue",
         "locations": [
          "USA",
          "JPN",
          "BRA",
          "CAN",
          "IRL",
          "AUS",
          null,
          "CHN",
          "SGP",
          "MEX",
          "PHL",
          null,
          "NLD",
          "CHL",
          "ARG"
         ],
         "marker": {
          "color": "#636efa",
          "size": [
           8,
           1,
           1,
           1,
           1,
           1,
           1,
           1,
           1,
           1,
           1,
           1,
           1,
           1,
           1
          ],
          "sizemode": "area",
          "sizeref": 0.7725
         },
         "name": "Blue",
         "showlegend": true,
         "type": "scattergeo"
        },
        {
         "geo": "geo",
         "hovertemplate": "<b>%{hovertext}</b><br><br>color=Red<br>Year=1993<br>Total=%{marker.size}<br>iso_alpha=%{location}<extra></extra>",
         "hovertext": [
          "Puerto Rico",
          "United Kingdom",
          "Germany",
          "Sweden",
          "New Zealand",
          "Poland",
          "Croatia",
          "Czech Republic"
         ],
         "legendgroup": "Red",
         "locations": [
          "PRI",
          "GBR",
          "DEU",
          "SWE",
          "NZL",
          "POL",
          "HRV",
          "CZE"
         ],
         "marker": {
          "color": "#EF553B",
          "size": [
           1,
           1,
           1,
           1,
           1,
           1,
           1,
           1
          ],
          "sizemode": "area",
          "sizeref": 0.7725
         },
         "name": "Red",
         "showlegend": true,
         "type": "scattergeo"
        }
       ],
       "frames": [
        {
         "data": [
          {
           "geo": "geo",
           "hovertemplate": "<b>%{hovertext}</b><br><br>color=Blue<br>Year=1993<br>Total=%{marker.size}<br>iso_alpha=%{location}<extra></extra>",
           "hovertext": [
            "United States",
            "Japan",
            "Brazil",
            "Canada",
            "Ireland",
            "Australia",
            "United Arab Emirates",
            "China",
            "Singapore",
            "Mexico",
            "Philippines",
            "South Korea",
            "Netherlands",
            "Chile",
            "Argentina"
           ],
           "legendgroup": "Blue",
           "locations": [
            "USA",
            "JPN",
            "BRA",
            "CAN",
            "IRL",
            "AUS",
            null,
            "CHN",
            "SGP",
            "MEX",
            "PHL",
            null,
            "NLD",
            "CHL",
            "ARG"
           ],
           "marker": {
            "color": "#636efa",
            "size": [
             8,
             1,
             1,
             1,
             1,
             1,
             1,
             1,
             1,
             1,
             1,
             1,
             1,
             1,
             1
            ],
            "sizemode": "area",
            "sizeref": 0.7725
           },
           "name": "Blue",
           "showlegend": true,
           "type": "scattergeo"
          },
          {
           "geo": "geo",
           "hovertemplate": "<b>%{hovertext}</b><br><br>color=Red<br>Year=1993<br>Total=%{marker.size}<br>iso_alpha=%{location}<extra></extra>",
           "hovertext": [
            "Puerto Rico",
            "United Kingdom",
            "Germany",
            "Sweden",
            "New Zealand",
            "Poland",
            "Croatia",
            "Czech Republic"
           ],
           "legendgroup": "Red",
           "locations": [
            "PRI",
            "GBR",
            "DEU",
            "SWE",
            "NZL",
            "POL",
            "HRV",
            "CZE"
           ],
           "marker": {
            "color": "#EF553B",
            "size": [
             1,
             1,
             1,
             1,
             1,
             1,
             1,
             1
            ],
            "sizemode": "area",
            "sizeref": 0.7725
           },
           "name": "Red",
           "showlegend": true,
           "type": "scattergeo"
          }
         ],
         "name": "1993"
        },
        {
         "data": [
          {
           "geo": "geo",
           "hovertemplate": "<b>%{hovertext}</b><br><br>color=Blue<br>Year=1994<br>Total=%{marker.size}<br>iso_alpha=%{location}<extra></extra>",
           "hovertext": [
            "United States",
            "Puerto Rico",
            "Brazil",
            "United Kingdom",
            "Ireland",
            "Germany",
            "United Arab Emirates",
            "Sweden",
            "Singapore",
            "New Zealand",
            "Philippines",
            "Poland",
            "Netherlands",
            "Croatia",
            "Argentina",
            "Czech Republic"
           ],
           "legendgroup": "Blue",
           "locations": [
            "USA",
            "PRI",
            "BRA",
            "GBR",
            "IRL",
            "DEU",
            null,
            "SWE",
            "SGP",
            "NZL",
            "PHL",
            "POL",
            "NLD",
            "HRV",
            "ARG",
            "CZE"
           ],
           "marker": {
            "color": "#636efa",
            "size": [
             29,
             1,
             1,
             1,
             1,
             1,
             1,
             1,
             1,
             1,
             1,
             1,
             1,
             1,
             1,
             1
            ],
            "sizemode": "area",
            "sizeref": 0.7725
           },
           "name": "Blue",
           "showlegend": true,
           "type": "scattergeo"
          },
          {
           "geo": "geo",
           "hovertemplate": "<b>%{hovertext}</b><br><br>color=Red<br>Year=1994<br>Total=%{marker.size}<br>iso_alpha=%{location}<extra></extra>",
           "hovertext": [
            "Japan",
            "Canada",
            "Australia",
            "China",
            "Mexico",
            "South Korea",
            "Chile"
           ],
           "legendgroup": "Red",
           "locations": [
            "JPN",
            "CAN",
            "AUS",
            "CHN",
            "MEX",
            null,
            "CHL"
           ],
           "marker": {
            "color": "#EF553B",
            "size": [
             1,
             1,
             1,
             1,
             1,
             1,
             1
            ],
            "sizemode": "area",
            "sizeref": 0.7725
           },
           "name": "Red",
           "showlegend": true,
           "type": "scattergeo"
          }
         ],
         "name": "1994"
        },
        {
         "data": [
          {
           "geo": "geo",
           "hovertemplate": "<b>%{hovertext}</b><br><br>color=Blue<br>Year=1995<br>Total=%{marker.size}<br>iso_alpha=%{location}<extra></extra>",
           "hovertext": [
            "Puerto Rico",
            "Japan",
            "United Kingdom",
            "Canada",
            "Germany",
            "Australia",
            "Sweden",
            "China",
            "New Zealand",
            "Mexico",
            "Poland",
            "South Korea",
            "Croatia",
            "Chile",
            "Czech Republic"
           ],
           "legendgroup": "Blue",
           "locations": [
            "PRI",
            "JPN",
            "GBR",
            "CAN",
            "DEU",
            "AUS",
            "SWE",
            "CHN",
            "NZL",
            "MEX",
            "POL",
            null,
            "HRV",
            "CHL",
            "CZE"
           ],
           "marker": {
            "color": "#636efa",
            "size": [
             1,
             1,
             1,
             1,
             1,
             1,
             1,
             1,
             1,
             1,
             1,
             1,
             1,
             1,
             1
            ],
            "sizemode": "area",
            "sizeref": 0.7725
           },
           "name": "Blue",
           "showlegend": true,
           "type": "scattergeo"
          },
          {
           "geo": "geo",
           "hovertemplate": "<b>%{hovertext}</b><br><br>color=Red<br>Year=1995<br>Total=%{marker.size}<br>iso_alpha=%{location}<extra></extra>",
           "hovertext": [
            "United States",
            "Brazil",
            "Ireland",
            "United Arab Emirates",
            "Singapore",
            "Philippines",
            "Netherlands",
            "Argentina"
           ],
           "legendgroup": "Red",
           "locations": [
            "USA",
            "BRA",
            "IRL",
            null,
            "SGP",
            "PHL",
            "NLD",
            "ARG"
           ],
           "marker": {
            "color": "#EF553B",
            "size": [
             33,
             1,
             1,
             1,
             1,
             1,
             1,
             1
            ],
            "sizemode": "area",
            "sizeref": 0.7725
           },
           "name": "Red",
           "showlegend": true,
           "type": "scattergeo"
          }
         ],
         "name": "1995"
        },
        {
         "data": [
          {
           "geo": "geo",
           "hovertemplate": "<b>%{hovertext}</b><br><br>color=Blue<br>Year=1996<br>Total=%{marker.size}<br>iso_alpha=%{location}<extra></extra>",
           "hovertext": [
            "United States",
            "Japan",
            "Brazil",
            "Canada",
            "Ireland",
            "Australia",
            "United Arab Emirates",
            "China",
            "Singapore",
            "Mexico",
            "Philippines",
            "South Korea",
            "Netherlands",
            "Chile",
            "Argentina"
           ],
           "legendgroup": "Blue",
           "locations": [
            "USA",
            "JPN",
            "BRA",
            "CAN",
            "IRL",
            "AUS",
            null,
            "CHN",
            "SGP",
            "MEX",
            "PHL",
            null,
            "NLD",
            "CHL",
            "ARG"
           ],
           "marker": {
            "color": "#636efa",
            "size": [
             28,
             1,
             1,
             1,
             1,
             1,
             1,
             1,
             1,
             1,
             1,
             1,
             1,
             1,
             1
            ],
            "sizemode": "area",
            "sizeref": 0.7725
           },
           "name": "Blue",
           "showlegend": true,
           "type": "scattergeo"
          },
          {
           "geo": "geo",
           "hovertemplate": "<b>%{hovertext}</b><br><br>color=Red<br>Year=1996<br>Total=%{marker.size}<br>iso_alpha=%{location}<extra></extra>",
           "hovertext": [
            "Puerto Rico",
            "United Kingdom",
            "Germany",
            "Sweden",
            "New Zealand",
            "Poland",
            "Croatia",
            "Czech Republic"
           ],
           "legendgroup": "Red",
           "locations": [
            "PRI",
            "GBR",
            "DEU",
            "SWE",
            "NZL",
            "POL",
            "HRV",
            "CZE"
           ],
           "marker": {
            "color": "#EF553B",
            "size": [
             8,
             1,
             1,
             1,
             1,
             1,
             1,
             1
            ],
            "sizemode": "area",
            "sizeref": 0.7725
           },
           "name": "Red",
           "showlegend": true,
           "type": "scattergeo"
          }
         ],
         "name": "1996"
        },
        {
         "data": [
          {
           "geo": "geo",
           "hovertemplate": "<b>%{hovertext}</b><br><br>color=Blue<br>Year=1997<br>Total=%{marker.size}<br>iso_alpha=%{location}<extra></extra>",
           "hovertext": [
            "United States",
            "Puerto Rico",
            "Brazil",
            "United Kingdom",
            "Ireland",
            "Germany",
            "United Arab Emirates",
            "Sweden",
            "Singapore",
            "New Zealand",
            "Philippines",
            "Poland",
            "Netherlands",
            "Croatia",
            "Argentina",
            "Czech Republic"
           ],
           "legendgroup": "Blue",
           "locations": [
            "USA",
            "PRI",
            "BRA",
            "GBR",
            "IRL",
            "DEU",
            null,
            "SWE",
            "SGP",
            "NZL",
            "PHL",
            "POL",
            "NLD",
            "HRV",
            "ARG",
            "CZE"
           ],
           "marker": {
            "color": "#636efa",
            "size": [
             32,
             1,
             1,
             1,
             1,
             1,
             1,
             1,
             1,
             1,
             1,
             1,
             1,
             1,
             1,
             1
            ],
            "sizemode": "area",
            "sizeref": 0.7725
           },
           "name": "Blue",
           "showlegend": true,
           "type": "scattergeo"
          },
          {
           "geo": "geo",
           "hovertemplate": "<b>%{hovertext}</b><br><br>color=Red<br>Year=1997<br>Total=%{marker.size}<br>iso_alpha=%{location}<extra></extra>",
           "hovertext": [
            "Japan",
            "Canada",
            "Australia",
            "China",
            "Mexico",
            "South Korea",
            "Chile"
           ],
           "legendgroup": "Red",
           "locations": [
            "JPN",
            "CAN",
            "AUS",
            "CHN",
            "MEX",
            null,
            "CHL"
           ],
           "marker": {
            "color": "#EF553B",
            "size": [
             7,
             1,
             1,
             1,
             1,
             1,
             1
            ],
            "sizemode": "area",
            "sizeref": 0.7725
           },
           "name": "Red",
           "showlegend": true,
           "type": "scattergeo"
          }
         ],
         "name": "1997"
        },
        {
         "data": [
          {
           "geo": "geo",
           "hovertemplate": "<b>%{hovertext}</b><br><br>color=Blue<br>Year=1998<br>Total=%{marker.size}<br>iso_alpha=%{location}<extra></extra>",
           "hovertext": [
            "Puerto Rico",
            "Japan",
            "United Kingdom",
            "Canada",
            "Germany",
            "Australia",
            "Sweden",
            "China",
            "New Zealand",
            "Mexico",
            "Poland",
            "South Korea",
            "Croatia",
            "Chile",
            "Czech Republic"
           ],
           "legendgroup": "Blue",
           "locations": [
            "PRI",
            "JPN",
            "GBR",
            "CAN",
            "DEU",
            "AUS",
            "SWE",
            "CHN",
            "NZL",
            "MEX",
            "POL",
            null,
            "HRV",
            "CHL",
            "CZE"
           ],
           "marker": {
            "color": "#636efa",
            "size": [
             1,
             1,
             1,
             1,
             1,
             1,
             1,
             1,
             1,
             1,
             1,
             1,
             1,
             1,
             1
            ],
            "sizemode": "area",
            "sizeref": 0.7725
           },
           "name": "Blue",
           "showlegend": true,
           "type": "scattergeo"
          },
          {
           "geo": "geo",
           "hovertemplate": "<b>%{hovertext}</b><br><br>color=Red<br>Year=1998<br>Total=%{marker.size}<br>iso_alpha=%{location}<extra></extra>",
           "hovertext": [
            "United States",
            "Brazil",
            "Ireland",
            "United Arab Emirates",
            "Singapore",
            "Philippines",
            "Netherlands",
            "Argentina"
           ],
           "legendgroup": "Red",
           "locations": [
            "USA",
            "BRA",
            "IRL",
            null,
            "SGP",
            "PHL",
            "NLD",
            "ARG"
           ],
           "marker": {
            "color": "#EF553B",
            "size": [
             14,
             1,
             1,
             1,
             1,
             1,
             1,
             1
            ],
            "sizemode": "area",
            "sizeref": 0.7725
           },
           "name": "Red",
           "showlegend": true,
           "type": "scattergeo"
          }
         ],
         "name": "1998"
        },
        {
         "data": [
          {
           "geo": "geo",
           "hovertemplate": "<b>%{hovertext}</b><br><br>color=Blue<br>Year=1999<br>Total=%{marker.size}<br>iso_alpha=%{location}<extra></extra>",
           "hovertext": [
            "United States",
            "Japan",
            "Brazil",
            "Canada",
            "Ireland",
            "Australia",
            "United Arab Emirates",
            "China",
            "Singapore",
            "Mexico",
            "Philippines",
            "South Korea",
            "Netherlands",
            "Chile",
            "Argentina"
           ],
           "legendgroup": "Blue",
           "locations": [
            "USA",
            "JPN",
            "BRA",
            "CAN",
            "IRL",
            "AUS",
            null,
            "CHN",
            "SGP",
            "MEX",
            "PHL",
            null,
            "NLD",
            "CHL",
            "ARG"
           ],
           "marker": {
            "color": "#636efa",
            "size": [
             36,
             7,
             1,
             1,
             1,
             1,
             1,
             1,
             1,
             1,
             1,
             1,
             1,
             1,
             1
            ],
            "sizemode": "area",
            "sizeref": 0.7725
           },
           "name": "Blue",
           "showlegend": true,
           "type": "scattergeo"
          },
          {
           "geo": "geo",
           "hovertemplate": "<b>%{hovertext}</b><br><br>color=Red<br>Year=1999<br>Total=%{marker.size}<br>iso_alpha=%{location}<extra></extra>",
           "hovertext": [
            "Puerto Rico",
            "United Kingdom",
            "Germany",
            "Sweden",
            "New Zealand",
            "Poland",
            "Croatia",
            "Czech Republic"
           ],
           "legendgroup": "Red",
           "locations": [
            "PRI",
            "GBR",
            "DEU",
            "SWE",
            "NZL",
            "POL",
            "HRV",
            "CZE"
           ],
           "marker": {
            "color": "#EF553B",
            "size": [
             1,
             1,
             1,
             1,
             1,
             1,
             1,
             1
            ],
            "sizemode": "area",
            "sizeref": 0.7725
           },
           "name": "Red",
           "showlegend": true,
           "type": "scattergeo"
          }
         ],
         "name": "1999"
        },
        {
         "data": [
          {
           "geo": "geo",
           "hovertemplate": "<b>%{hovertext}</b><br><br>color=Blue<br>Year=2000<br>Total=%{marker.size}<br>iso_alpha=%{location}<extra></extra>",
           "hovertext": [
            "United States",
            "Puerto Rico",
            "Brazil",
            "United Kingdom",
            "Ireland",
            "Germany",
            "United Arab Emirates",
            "Sweden",
            "Singapore",
            "New Zealand",
            "Philippines",
            "Poland",
            "Netherlands",
            "Croatia",
            "Argentina",
            "Czech Republic"
           ],
           "legendgroup": "Blue",
           "locations": [
            "USA",
            "PRI",
            "BRA",
            "GBR",
            "IRL",
            "DEU",
            null,
            "SWE",
            "SGP",
            "NZL",
            "PHL",
            "POL",
            "NLD",
            "HRV",
            "ARG",
            "CZE"
           ],
           "marker": {
            "color": "#636efa",
            "size": [
             28,
             1,
             1,
             1,
             1,
             1,
             1,
             1,
             1,
             1,
             1,
             1,
             1,
             1,
             1,
             1
            ],
            "sizemode": "area",
            "sizeref": 0.7725
           },
           "name": "Blue",
           "showlegend": true,
           "type": "scattergeo"
          },
          {
           "geo": "geo",
           "hovertemplate": "<b>%{hovertext}</b><br><br>color=Red<br>Year=2000<br>Total=%{marker.size}<br>iso_alpha=%{location}<extra></extra>",
           "hovertext": [
            "Japan",
            "Canada",
            "Australia",
            "China",
            "Mexico",
            "South Korea",
            "Chile"
           ],
           "legendgroup": "Red",
           "locations": [
            "JPN",
            "CAN",
            "AUS",
            "CHN",
            "MEX",
            null,
            "CHL"
           ],
           "marker": {
            "color": "#EF553B",
            "size": [
             13,
             1,
             1,
             1,
             1,
             1,
             1
            ],
            "sizemode": "area",
            "sizeref": 0.7725
           },
           "name": "Red",
           "showlegend": true,
           "type": "scattergeo"
          }
         ],
         "name": "2000"
        },
        {
         "data": [
          {
           "geo": "geo",
           "hovertemplate": "<b>%{hovertext}</b><br><br>color=Blue<br>Year=2001<br>Total=%{marker.size}<br>iso_alpha=%{location}<extra></extra>",
           "hovertext": [
            "Puerto Rico",
            "Japan",
            "United Kingdom",
            "Canada",
            "Germany",
            "Australia",
            "Sweden",
            "China",
            "New Zealand",
            "Mexico",
            "Poland",
            "South Korea",
            "Croatia",
            "Chile",
            "Czech Republic"
           ],
           "legendgroup": "Blue",
           "locations": [
            "PRI",
            "JPN",
            "GBR",
            "CAN",
            "DEU",
            "AUS",
            "SWE",
            "CHN",
            "NZL",
            "MEX",
            "POL",
            null,
            "HRV",
            "CHL",
            "CZE"
           ],
           "marker": {
            "color": "#636efa",
            "size": [
             1,
             1,
             1,
             1,
             1,
             1,
             1,
             1,
             1,
             1,
             1,
             1,
             1,
             1,
             1
            ],
            "sizemode": "area",
            "sizeref": 0.7725
           },
           "name": "Blue",
           "showlegend": true,
           "type": "scattergeo"
          },
          {
           "geo": "geo",
           "hovertemplate": "<b>%{hovertext}</b><br><br>color=Red<br>Year=2001<br>Total=%{marker.size}<br>iso_alpha=%{location}<extra></extra>",
           "hovertext": [
            "United States",
            "Brazil",
            "Ireland",
            "United Arab Emirates",
            "Singapore",
            "Philippines",
            "Netherlands",
            "Argentina"
           ],
           "legendgroup": "Red",
           "locations": [
            "USA",
            "BRA",
            "IRL",
            null,
            "SGP",
            "PHL",
            "NLD",
            "ARG"
           ],
           "marker": {
            "color": "#EF553B",
            "size": [
             40,
             1,
             1,
             1,
             1,
             1,
             1,
             1
            ],
            "sizemode": "area",
            "sizeref": 0.7725
           },
           "name": "Red",
           "showlegend": true,
           "type": "scattergeo"
          }
         ],
         "name": "2001"
        },
        {
         "data": [
          {
           "geo": "geo",
           "hovertemplate": "<b>%{hovertext}</b><br><br>color=Blue<br>Year=2002<br>Total=%{marker.size}<br>iso_alpha=%{location}<extra></extra>",
           "hovertext": [
            "United States",
            "Japan",
            "Brazil",
            "Canada",
            "Ireland",
            "Australia",
            "United Arab Emirates",
            "China",
            "Singapore",
            "Mexico",
            "Philippines",
            "South Korea",
            "Netherlands",
            "Chile",
            "Argentina"
           ],
           "legendgroup": "Blue",
           "locations": [
            "USA",
            "JPN",
            "BRA",
            "CAN",
            "IRL",
            "AUS",
            null,
            "CHN",
            "SGP",
            "MEX",
            "PHL",
            null,
            "NLD",
            "CHL",
            "ARG"
           ],
           "marker": {
            "color": "#636efa",
            "size": [
             46,
             1,
             1,
             1,
             1,
             1,
             1,
             1,
             1,
             1,
             1,
             1,
             1,
             1,
             1
            ],
            "sizemode": "area",
            "sizeref": 0.7725
           },
           "name": "Blue",
           "showlegend": true,
           "type": "scattergeo"
          },
          {
           "geo": "geo",
           "hovertemplate": "<b>%{hovertext}</b><br><br>color=Red<br>Year=2002<br>Total=%{marker.size}<br>iso_alpha=%{location}<extra></extra>",
           "hovertext": [
            "Puerto Rico",
            "United Kingdom",
            "Germany",
            "Sweden",
            "New Zealand",
            "Poland",
            "Croatia",
            "Czech Republic"
           ],
           "legendgroup": "Red",
           "locations": [
            "PRI",
            "GBR",
            "DEU",
            "SWE",
            "NZL",
            "POL",
            "HRV",
            "CZE"
           ],
           "marker": {
            "color": "#EF553B",
            "size": [
             1,
             7,
             1,
             1,
             1,
             1,
             1,
             1
            ],
            "sizemode": "area",
            "sizeref": 0.7725
           },
           "name": "Red",
           "showlegend": true,
           "type": "scattergeo"
          }
         ],
         "name": "2002"
        },
        {
         "data": [
          {
           "geo": "geo",
           "hovertemplate": "<b>%{hovertext}</b><br><br>color=Blue<br>Year=2003<br>Total=%{marker.size}<br>iso_alpha=%{location}<extra></extra>",
           "hovertext": [
            "United States",
            "Puerto Rico",
            "Brazil",
            "United Kingdom",
            "Ireland",
            "Germany",
            "United Arab Emirates",
            "Sweden",
            "Singapore",
            "New Zealand",
            "Philippines",
            "Poland",
            "Netherlands",
            "Croatia",
            "Argentina",
            "Czech Republic"
           ],
           "legendgroup": "Blue",
           "locations": [
            "USA",
            "PRI",
            "BRA",
            "GBR",
            "IRL",
            "DEU",
            null,
            "SWE",
            "SGP",
            "NZL",
            "PHL",
            "POL",
            "NLD",
            "HRV",
            "ARG",
            "CZE"
           ],
           "marker": {
            "color": "#636efa",
            "size": [
             41,
             1,
             1,
             1,
             1,
             1,
             1,
             1,
             1,
             1,
             1,
             1,
             1,
             1,
             1,
             1
            ],
            "sizemode": "area",
            "sizeref": 0.7725
           },
           "name": "Blue",
           "showlegend": true,
           "type": "scattergeo"
          },
          {
           "geo": "geo",
           "hovertemplate": "<b>%{hovertext}</b><br><br>color=Red<br>Year=2003<br>Total=%{marker.size}<br>iso_alpha=%{location}<extra></extra>",
           "hovertext": [
            "Japan",
            "Canada",
            "Australia",
            "China",
            "Mexico",
            "South Korea",
            "Chile"
           ],
           "legendgroup": "Red",
           "locations": [
            "JPN",
            "CAN",
            "AUS",
            "CHN",
            "MEX",
            null,
            "CHL"
           ],
           "marker": {
            "color": "#EF553B",
            "size": [
             1,
             1,
             1,
             1,
             1,
             1,
             1
            ],
            "sizemode": "area",
            "sizeref": 0.7725
           },
           "name": "Red",
           "showlegend": true,
           "type": "scattergeo"
          }
         ],
         "name": "2003"
        },
        {
         "data": [
          {
           "geo": "geo",
           "hovertemplate": "<b>%{hovertext}</b><br><br>color=Blue<br>Year=2004<br>Total=%{marker.size}<br>iso_alpha=%{location}<extra></extra>",
           "hovertext": [
            "Puerto Rico",
            "Japan",
            "United Kingdom",
            "Canada",
            "Germany",
            "Australia",
            "Sweden",
            "China",
            "New Zealand",
            "Mexico",
            "Poland",
            "South Korea",
            "Croatia",
            "Chile",
            "Czech Republic"
           ],
           "legendgroup": "Blue",
           "locations": [
            "PRI",
            "JPN",
            "GBR",
            "CAN",
            "DEU",
            "AUS",
            "SWE",
            "CHN",
            "NZL",
            "MEX",
            "POL",
            null,
            "HRV",
            "CHL",
            "CZE"
           ],
           "marker": {
            "color": "#636efa",
            "size": [
             1,
             1,
             1,
             1,
             1,
             1,
             1,
             1,
             1,
             1,
             1,
             1,
             1,
             1,
             1
            ],
            "sizemode": "area",
            "sizeref": 0.7725
           },
           "name": "Blue",
           "showlegend": true,
           "type": "scattergeo"
          },
          {
           "geo": "geo",
           "hovertemplate": "<b>%{hovertext}</b><br><br>color=Red<br>Year=2004<br>Total=%{marker.size}<br>iso_alpha=%{location}<extra></extra>",
           "hovertext": [
            "United States",
            "Brazil",
            "Ireland",
            "United Arab Emirates",
            "Singapore",
            "Philippines",
            "Netherlands",
            "Argentina"
           ],
           "legendgroup": "Red",
           "locations": [
            "USA",
            "BRA",
            "IRL",
            null,
            "SGP",
            "PHL",
            "NLD",
            "ARG"
           ],
           "marker": {
            "color": "#EF553B",
            "size": [
             39,
             1,
             1,
             1,
             1,
             1,
             1,
             1
            ],
            "sizemode": "area",
            "sizeref": 0.7725
           },
           "name": "Red",
           "showlegend": true,
           "type": "scattergeo"
          }
         ],
         "name": "2004"
        },
        {
         "data": [
          {
           "geo": "geo",
           "hovertemplate": "<b>%{hovertext}</b><br><br>color=Blue<br>Year=2005<br>Total=%{marker.size}<br>iso_alpha=%{location}<extra></extra>",
           "hovertext": [
            "United States",
            "Japan",
            "Brazil",
            "Canada",
            "Ireland",
            "Australia",
            "United Arab Emirates",
            "China",
            "Singapore",
            "Mexico",
            "Philippines",
            "South Korea",
            "Netherlands",
            "Chile",
            "Argentina"
           ],
           "legendgroup": "Blue",
           "locations": [
            "USA",
            "JPN",
            "BRA",
            "CAN",
            "IRL",
            "AUS",
            null,
            "CHN",
            "SGP",
            "MEX",
            "PHL",
            null,
            "NLD",
            "CHL",
            "ARG"
           ],
           "marker": {
            "color": "#636efa",
            "size": [
             80,
             1,
             1,
             1,
             1,
             1,
             1,
             1,
             1,
             1,
             1,
             1,
             1,
             1,
             1
            ],
            "sizemode": "area",
            "sizeref": 0.7725
           },
           "name": "Blue",
           "showlegend": true,
           "type": "scattergeo"
          },
          {
           "geo": "geo",
           "hovertemplate": "<b>%{hovertext}</b><br><br>color=Red<br>Year=2005<br>Total=%{marker.size}<br>iso_alpha=%{location}<extra></extra>",
           "hovertext": [
            "Puerto Rico",
            "United Kingdom",
            "Germany",
            "Sweden",
            "New Zealand",
            "Poland",
            "Croatia",
            "Czech Republic"
           ],
           "legendgroup": "Red",
           "locations": [
            "PRI",
            "GBR",
            "DEU",
            "SWE",
            "NZL",
            "POL",
            "HRV",
            "CZE"
           ],
           "marker": {
            "color": "#EF553B",
            "size": [
             1,
             1,
             1,
             1,
             1,
             1,
             1,
             1
            ],
            "sizemode": "area",
            "sizeref": 0.7725
           },
           "name": "Red",
           "showlegend": true,
           "type": "scattergeo"
          }
         ],
         "name": "2005"
        },
        {
         "data": [
          {
           "geo": "geo",
           "hovertemplate": "<b>%{hovertext}</b><br><br>color=Blue<br>Year=2006<br>Total=%{marker.size}<br>iso_alpha=%{location}<extra></extra>",
           "hovertext": [
            "United States",
            "Puerto Rico",
            "Brazil",
            "United Kingdom",
            "Ireland",
            "Germany",
            "United Arab Emirates",
            "Sweden",
            "Singapore",
            "New Zealand",
            "Philippines",
            "Poland",
            "Netherlands",
            "Croatia",
            "Argentina",
            "Czech Republic"
           ],
           "legendgroup": "Blue",
           "locations": [
            "USA",
            "PRI",
            "BRA",
            "GBR",
            "IRL",
            "DEU",
            null,
            "SWE",
            "SGP",
            "NZL",
            "PHL",
            "POL",
            "NLD",
            "HRV",
            "ARG",
            "CZE"
           ],
           "marker": {
            "color": "#636efa",
            "size": [
             158,
             1,
             1,
             1,
             1,
             1,
             1,
             1,
             1,
             1,
             1,
             1,
             1,
             1,
             1,
             1
            ],
            "sizemode": "area",
            "sizeref": 0.7725
           },
           "name": "Blue",
           "showlegend": true,
           "type": "scattergeo"
          },
          {
           "geo": "geo",
           "hovertemplate": "<b>%{hovertext}</b><br><br>color=Red<br>Year=2006<br>Total=%{marker.size}<br>iso_alpha=%{location}<extra></extra>",
           "hovertext": [
            "Japan",
            "Canada",
            "Australia",
            "China",
            "Mexico",
            "South Korea",
            "Chile"
           ],
           "legendgroup": "Red",
           "locations": [
            "JPN",
            "CAN",
            "AUS",
            "CHN",
            "MEX",
            null,
            "CHL"
           ],
           "marker": {
            "color": "#EF553B",
            "size": [
             1,
             1,
             1,
             1,
             1,
             1,
             1
            ],
            "sizemode": "area",
            "sizeref": 0.7725
           },
           "name": "Red",
           "showlegend": true,
           "type": "scattergeo"
          }
         ],
         "name": "2006"
        },
        {
         "data": [
          {
           "geo": "geo",
           "hovertemplate": "<b>%{hovertext}</b><br><br>color=Blue<br>Year=2007<br>Total=%{marker.size}<br>iso_alpha=%{location}<extra></extra>",
           "hovertext": [
            "United States",
            "Japan",
            "United Kingdom",
            "Canada",
            "Germany",
            "Australia",
            "Sweden",
            "China",
            "New Zealand",
            "Mexico",
            "Poland",
            "South Korea",
            "Croatia",
            "Chile",
            "Czech Republic"
           ],
           "legendgroup": "Blue",
           "locations": [
            "USA",
            "JPN",
            "GBR",
            "CAN",
            "DEU",
            "AUS",
            "SWE",
            "CHN",
            "NZL",
            "MEX",
            "POL",
            null,
            "HRV",
            "CHL",
            "CZE"
           ],
           "marker": {
            "color": "#636efa",
            "size": [
             1,
             1,
             27,
             1,
             1,
             1,
             1,
             1,
             1,
             1,
             1,
             1,
             1,
             1,
             1
            ],
            "sizemode": "area",
            "sizeref": 0.7725
           },
           "name": "Blue",
           "showlegend": true,
           "type": "scattergeo"
          },
          {
           "geo": "geo",
           "hovertemplate": "<b>%{hovertext}</b><br><br>color=Red<br>Year=2007<br>Total=%{marker.size}<br>iso_alpha=%{location}<extra></extra>",
           "hovertext": [
            "USA",
            "Brazil",
            "Ireland",
            "United Arab Emirates",
            "Singapore",
            "Philippines",
            "Netherlands",
            "Argentina"
           ],
           "legendgroup": "Red",
           "locations": [
            null,
            "BRA",
            "IRL",
            null,
            "SGP",
            "PHL",
            "NLD",
            "ARG"
           ],
           "marker": {
            "color": "#EF553B",
            "size": [
             144,
             1,
             1,
             1,
             1,
             1,
             1,
             1
            ],
            "sizemode": "area",
            "sizeref": 0.7725
           },
           "name": "Red",
           "showlegend": true,
           "type": "scattergeo"
          }
         ],
         "name": "2007"
        },
        {
         "data": [
          {
           "geo": "geo",
           "hovertemplate": "<b>%{hovertext}</b><br><br>color=Blue<br>Year=2008<br>Total=%{marker.size}<br>iso_alpha=%{location}<extra></extra>",
           "hovertext": [
            "United States",
            "Japan",
            "Brazil",
            "Canada",
            "Ireland",
            "Australia",
            "United Arab Emirates",
            "China",
            "Singapore",
            "Mexico",
            "Philippines",
            "South Korea",
            "Netherlands",
            "Chile",
            "Argentina"
           ],
           "legendgroup": "Blue",
           "locations": [
            "USA",
            "JPN",
            "BRA",
            "CAN",
            "IRL",
            "AUS",
            null,
            "CHN",
            "SGP",
            "MEX",
            "PHL",
            null,
            "NLD",
            "CHL",
            "ARG"
           ],
           "marker": {
            "color": "#636efa",
            "size": [
             159,
             1,
             1,
             11,
             1,
             1,
             1,
             1,
             1,
             1,
             1,
             1,
             1,
             1,
             1
            ],
            "sizemode": "area",
            "sizeref": 0.7725
           },
           "name": "Blue",
           "showlegend": true,
           "type": "scattergeo"
          },
          {
           "geo": "geo",
           "hovertemplate": "<b>%{hovertext}</b><br><br>color=Red<br>Year=2008<br>Total=%{marker.size}<br>iso_alpha=%{location}<extra></extra>",
           "hovertext": [
            "Puerto Rico",
            "United Kingdom",
            "Germany",
            "Sweden",
            "New Zealand",
            "Poland",
            "Croatia",
            "Czech Republic"
           ],
           "legendgroup": "Red",
           "locations": [
            "PRI",
            "GBR",
            "DEU",
            "SWE",
            "NZL",
            "POL",
            "HRV",
            "CZE"
           ],
           "marker": {
            "color": "#EF553B",
            "size": [
             1,
             31,
             1,
             1,
             1,
             1,
             1,
             1
            ],
            "sizemode": "area",
            "sizeref": 0.7725
           },
           "name": "Red",
           "showlegend": true,
           "type": "scattergeo"
          }
         ],
         "name": "2008"
        },
        {
         "data": [
          {
           "geo": "geo",
           "hovertemplate": "<b>%{hovertext}</b><br><br>color=Blue<br>Year=2009<br>Total=%{marker.size}<br>iso_alpha=%{location}<extra></extra>",
           "hovertext": [
            "United States",
            "Puerto Rico",
            "Brazil",
            "United Kingdom",
            "Ireland",
            "Germany",
            "United Arab Emirates",
            "Sweden",
            "Singapore",
            "New Zealand",
            "Philippines",
            "Poland",
            "Netherlands",
            "Croatia",
            "Argentina",
            "Czech Republic"
           ],
           "legendgroup": "Blue",
           "locations": [
            "USA",
            "PRI",
            "BRA",
            "GBR",
            "IRL",
            "DEU",
            null,
            "SWE",
            "SGP",
            "NZL",
            "PHL",
            "POL",
            "NLD",
            "HRV",
            "ARG",
            "CZE"
           ],
           "marker": {
            "color": "#636efa",
            "size": [
             160,
             1,
             1,
             21,
             10,
             12,
             1,
             1,
             1,
             1,
             1,
             1,
             1,
             1,
             1,
             1
            ],
            "sizemode": "area",
            "sizeref": 0.7725
           },
           "name": "Blue",
           "showlegend": true,
           "type": "scattergeo"
          },
          {
           "geo": "geo",
           "hovertemplate": "<b>%{hovertext}</b><br><br>color=Red<br>Year=2009<br>Total=%{marker.size}<br>iso_alpha=%{location}<extra></extra>",
           "hovertext": [
            "Japan",
            "Canada",
            "Australia",
            "China",
            "Mexico",
            "South Korea",
            "Chile"
           ],
           "legendgroup": "Red",
           "locations": [
            "JPN",
            "CAN",
            "AUS",
            "CHN",
            "MEX",
            null,
            "CHL"
           ],
           "marker": {
            "color": "#EF553B",
            "size": [
             1,
             12,
             1,
             1,
             1,
             1,
             1
            ],
            "sizemode": "area",
            "sizeref": 0.7725
           },
           "name": "Red",
           "showlegend": true,
           "type": "scattergeo"
          }
         ],
         "name": "2009"
        },
        {
         "data": [
          {
           "geo": "geo",
           "hovertemplate": "<b>%{hovertext}</b><br><br>color=Blue<br>Year=2010<br>Total=%{marker.size}<br>iso_alpha=%{location}<extra></extra>",
           "hovertext": [
            "Puerto Rico",
            "Japan",
            "United Kingdom",
            "Canada",
            "Germany",
            "Australia",
            "Sweden",
            "China",
            "New Zealand",
            "Mexico",
            "Poland",
            "South Korea",
            "Croatia",
            "Chile",
            "Czech Republic"
           ],
           "legendgroup": "Blue",
           "locations": [
            "PRI",
            "JPN",
            "GBR",
            "CAN",
            "DEU",
            "AUS",
            "SWE",
            "CHN",
            "NZL",
            "MEX",
            "POL",
            null,
            "HRV",
            "CHL",
            "CZE"
           ],
           "marker": {
            "color": "#636efa",
            "size": [
             1,
             1,
             10,
             33,
             10,
             9,
             1,
             1,
             1,
             1,
             1,
             1,
             1,
             1,
             1
            ],
            "sizemode": "area",
            "sizeref": 0.7725
           },
           "name": "Blue",
           "showlegend": true,
           "type": "scattergeo"
          },
          {
           "geo": "geo",
           "hovertemplate": "<b>%{hovertext}</b><br><br>color=Red<br>Year=2010<br>Total=%{marker.size}<br>iso_alpha=%{location}<extra></extra>",
           "hovertext": [
            "United States",
            "Brazil",
            "Ireland",
            "United Arab Emirates",
            "Singapore",
            "Philippines",
            "Netherlands",
            "Argentina"
           ],
           "legendgroup": "Red",
           "locations": [
            "USA",
            "BRA",
            "IRL",
            null,
            "SGP",
            "PHL",
            "NLD",
            "ARG"
           ],
           "marker": {
            "color": "#EF553B",
            "size": [
             181,
             1,
             1,
             10,
             1,
             1,
             1,
             1
            ],
            "sizemode": "area",
            "sizeref": 0.7725
           },
           "name": "Red",
           "showlegend": true,
           "type": "scattergeo"
          }
         ],
         "name": "2010"
        },
        {
         "data": [
          {
           "geo": "geo",
           "hovertemplate": "<b>%{hovertext}</b><br><br>color=Blue<br>Year=2011<br>Total=%{marker.size}<br>iso_alpha=%{location}<extra></extra>",
           "hovertext": [
            "United States",
            "Japan",
            "Brazil",
            "Canada",
            "Ireland",
            "Australia",
            "United Arab Emirates",
            "China",
            "Singapore",
            "Mexico",
            "Philippines",
            "South Korea",
            "Netherlands",
            "Chile",
            "Argentina"
           ],
           "legendgroup": "Blue",
           "locations": [
            "USA",
            "JPN",
            "BRA",
            "CAN",
            "IRL",
            "AUS",
            null,
            "CHN",
            "SGP",
            "MEX",
            "PHL",
            null,
            "NLD",
            "CHL",
            "ARG"
           ],
           "marker": {
            "color": "#636efa",
            "size": [
             230,
             1,
             12,
             36,
             1,
             12,
             1,
             1,
             1,
             1,
             1,
             1,
             1,
             1,
             1
            ],
            "sizemode": "area",
            "sizeref": 0.7725
           },
           "name": "Blue",
           "showlegend": true,
           "type": "scattergeo"
          },
          {
           "geo": "geo",
           "hovertemplate": "<b>%{hovertext}</b><br><br>color=Red<br>Year=2011<br>Total=%{marker.size}<br>iso_alpha=%{location}<extra></extra>",
           "hovertext": [
            "Puerto Rico",
            "United Kingdom",
            "Germany",
            "Sweden",
            "New Zealand",
            "Poland",
            "Croatia",
            "Czech Republic"
           ],
           "legendgroup": "Red",
           "locations": [
            "PRI",
            "GBR",
            "DEU",
            "SWE",
            "NZL",
            "POL",
            "HRV",
            "CZE"
           ],
           "marker": {
            "color": "#EF553B",
            "size": [
             1,
             10,
             1,
             1,
             1,
             1,
             1,
             1
            ],
            "sizemode": "area",
            "sizeref": 0.7725
           },
           "name": "Red",
           "showlegend": true,
           "type": "scattergeo"
          }
         ],
         "name": "2011"
        },
        {
         "data": [
          {
           "geo": "geo",
           "hovertemplate": "<b>%{hovertext}</b><br><br>color=Blue<br>Year=2012<br>Total=%{marker.size}<br>iso_alpha=%{location}<extra></extra>",
           "hovertext": [
            "United States",
            "Puerto Rico",
            "Brazil",
            "United Kingdom",
            "Ireland",
            "Germany",
            "United Arab Emirates",
            "Sweden",
            "Singapore",
            "New Zealand",
            "Philippines",
            "Poland",
            "Netherlands",
            "Croatia",
            "Argentina",
            "Czech Republic"
           ],
           "legendgroup": "Blue",
           "locations": [
            "USA",
            "PRI",
            "BRA",
            "GBR",
            "IRL",
            "DEU",
            null,
            "SWE",
            "SGP",
            "NZL",
            "PHL",
            "POL",
            "NLD",
            "HRV",
            "ARG",
            "CZE"
           ],
           "marker": {
            "color": "#636efa",
            "size": [
             208,
             1,
             33,
             11,
             1,
             1,
             1,
             12,
             1,
             1,
             1,
             1,
             1,
             1,
             1,
             1
            ],
            "sizemode": "area",
            "sizeref": 0.7725
           },
           "name": "Blue",
           "showlegend": true,
           "type": "scattergeo"
          },
          {
           "geo": "geo",
           "hovertemplate": "<b>%{hovertext}</b><br><br>color=Red<br>Year=2012<br>Total=%{marker.size}<br>iso_alpha=%{location}<extra></extra>",
           "hovertext": [
            "Japan",
            "Canada",
            "Australia",
            "China",
            "Mexico",
            "South Korea",
            "Chile"
           ],
           "legendgroup": "Red",
           "locations": [
            "JPN",
            "CAN",
            "AUS",
            "CHN",
            "MEX",
            null,
            "CHL"
           ],
           "marker": {
            "color": "#EF553B",
            "size": [
             12,
             35,
             21,
             9,
             1,
             1,
             1
            ],
            "sizemode": "area",
            "sizeref": 0.7725
           },
           "name": "Red",
           "showlegend": true,
           "type": "scattergeo"
          }
         ],
         "name": "2012"
        },
        {
         "data": [
          {
           "geo": "geo",
           "hovertemplate": "<b>%{hovertext}</b><br><br>color=Blue<br>Year=2013<br>Total=%{marker.size}<br>iso_alpha=%{location}<extra></extra>",
           "hovertext": [
            "Puerto Rico",
            "Japan",
            "United Kingdom",
            "Canada",
            "Germany",
            "Australia",
            "Sweden",
            "China",
            "New Zealand",
            "Mexico",
            "Poland",
            "South Korea",
            "Croatia",
            "Chile",
            "Czech Republic"
           ],
           "legendgroup": "Blue",
           "locations": [
            "PRI",
            "JPN",
            "GBR",
            "CAN",
            "DEU",
            "AUS",
            "SWE",
            "CHN",
            "NZL",
            "MEX",
            "POL",
            null,
            "HRV",
            "CHL",
            "CZE"
           ],
           "marker": {
            "color": "#636efa",
            "size": [
             1,
             11,
             24,
             36,
             1,
             11,
             13,
             1,
             1,
             1,
             1,
             1,
             1,
             1,
             1
            ],
            "sizemode": "area",
            "sizeref": 0.7725
           },
           "name": "Blue",
           "showlegend": true,
           "type": "scattergeo"
          },
          {
           "geo": "geo",
           "hovertemplate": "<b>%{hovertext}</b><br><br>color=Red<br>Year=2013<br>Total=%{marker.size}<br>iso_alpha=%{location}<extra></extra>",
           "hovertext": [
            "United States",
            "Brazil",
            "Ireland",
            "United Arab Emirates",
            "Singapore",
            "Philippines",
            "Netherlands",
            "Argentina"
           ],
           "legendgroup": "Red",
           "locations": [
            "USA",
            "BRA",
            "IRL",
            null,
            "SGP",
            "PHL",
            "NLD",
            "ARG"
           ],
           "marker": {
            "color": "#EF553B",
            "size": [
             211,
             1,
             1,
             1,
             1,
             1,
             1,
             1
            ],
            "sizemode": "area",
            "sizeref": 0.7725
           },
           "name": "Red",
           "showlegend": true,
           "type": "scattergeo"
          }
         ],
         "name": "2013"
        },
        {
         "data": [
          {
           "geo": "geo",
           "hovertemplate": "<b>%{hovertext}</b><br><br>color=Blue<br>Year=2014<br>Total=%{marker.size}<br>iso_alpha=%{location}<extra></extra>",
           "hovertext": [
            "United States",
            "Japan",
            "Brazil",
            "Canada",
            "Ireland",
            "Australia",
            "United Arab Emirates",
            "China",
            "Singapore",
            "Mexico",
            "Philippines",
            "South Korea",
            "Netherlands",
            "Chile",
            "Argentina"
           ],
           "legendgroup": "Blue",
           "locations": [
            "USA",
            "JPN",
            "BRA",
            "CAN",
            "IRL",
            "AUS",
            null,
            "CHN",
            "SGP",
            "MEX",
            "PHL",
            null,
            "NLD",
            "CHL",
            "ARG"
           ],
           "marker": {
            "color": "#636efa",
            "size": [
             268,
             12,
             79,
             35,
             10,
             11,
             8,
             18,
             10,
             11,
             1,
             1,
             1,
             1,
             1
            ],
            "sizemode": "area",
            "sizeref": 0.7725
           },
           "name": "Blue",
           "showlegend": true,
           "type": "scattergeo"
          },
          {
           "geo": "geo",
           "hovertemplate": "<b>%{hovertext}</b><br><br>color=Red<br>Year=2014<br>Total=%{marker.size}<br>iso_alpha=%{location}<extra></extra>",
           "hovertext": [
            "Puerto Rico",
            "United Kingdom",
            "Germany",
            "Sweden",
            "New Zealand",
            "Poland",
            "Croatia",
            "Czech Republic"
           ],
           "legendgroup": "Red",
           "locations": [
            "PRI",
            "GBR",
            "DEU",
            "SWE",
            "NZL",
            "POL",
            "HRV",
            "CZE"
           ],
           "marker": {
            "color": "#EF553B",
            "size": [
             1,
             9,
             10,
             11,
             10,
             1,
             1,
             1
            ],
            "sizemode": "area",
            "sizeref": 0.7725
           },
           "name": "Red",
           "showlegend": true,
           "type": "scattergeo"
          }
         ],
         "name": "2014"
        },
        {
         "data": [
          {
           "geo": "geo",
           "hovertemplate": "<b>%{hovertext}</b><br><br>color=Blue<br>Year=2015<br>Total=%{marker.size}<br>iso_alpha=%{location}<extra></extra>",
           "hovertext": [
            "United States",
            "Puerto Rico",
            "Brazil",
            "United Kingdom",
            "Ireland",
            "Germany",
            "United Arab Emirates",
            "Sweden",
            "Singapore",
            "New Zealand",
            "Philippines",
            "Poland",
            "Netherlands",
            "Croatia",
            "Argentina",
            "Czech Republic"
           ],
           "legendgroup": "Blue",
           "locations": [
            "USA",
            "PRI",
            "BRA",
            "GBR",
            "IRL",
            "DEU",
            null,
            "SWE",
            "SGP",
            "NZL",
            "PHL",
            "POL",
            "NLD",
            "HRV",
            "ARG",
            "CZE"
           ],
           "marker": {
            "color": "#636efa",
            "size": [
             249,
             1,
             61,
             12,
             10,
             11,
             1,
             12,
             1,
             1,
             12,
             12,
             1,
             1,
             1,
             1
            ],
            "sizemode": "area",
            "sizeref": 0.7725
           },
           "name": "Blue",
           "showlegend": true,
           "type": "scattergeo"
          },
          {
           "geo": "geo",
           "hovertemplate": "<b>%{hovertext}</b><br><br>color=Red<br>Year=2015<br>Total=%{marker.size}<br>iso_alpha=%{location}<extra></extra>",
           "hovertext": [
            "Japan",
            "Canada",
            "Australia",
            "China",
            "Mexico",
            "South Korea",
            "Chile"
           ],
           "legendgroup": "Red",
           "locations": [
            "JPN",
            "CAN",
            "AUS",
            "CHN",
            "MEX",
            null,
            "CHL"
           ],
           "marker": {
            "color": "#EF553B",
            "size": [
             10,
             24,
             25,
             1,
             24,
             11,
             1
            ],
            "sizemode": "area",
            "sizeref": 0.7725
           },
           "name": "Red",
           "showlegend": true,
           "type": "scattergeo"
          }
         ],
         "name": "2015"
        },
        {
         "data": [
          {
           "geo": "geo",
           "hovertemplate": "<b>%{hovertext}</b><br><br>color=Blue<br>Year=2016<br>Total=%{marker.size}<br>iso_alpha=%{location}<extra></extra>",
           "hovertext": [
            "Puerto Rico",
            "Japan",
            "United Kingdom",
            "Canada",
            "Germany",
            "Australia",
            "Sweden",
            "China",
            "New Zealand",
            "Mexico",
            "Poland",
            "South Korea",
            "Croatia",
            "Chile",
            "Czech Republic"
           ],
           "legendgroup": "Blue",
           "locations": [
            "PRI",
            "JPN",
            "GBR",
            "CAN",
            "DEU",
            "AUS",
            "SWE",
            "CHN",
            "NZL",
            "MEX",
            "POL",
            null,
            "HRV",
            "CHL",
            "CZE"
           ],
           "marker": {
            "color": "#636efa",
            "size": [
             1,
             1,
             37,
             35,
             11,
             25,
             1,
             1,
             1,
             13,
             1,
             1,
             13,
             1,
             1
            ],
            "sizemode": "area",
            "sizeref": 0.7725
           },
           "name": "Blue",
           "showlegend": true,
           "type": "scattergeo"
          },
          {
           "geo": "geo",
           "hovertemplate": "<b>%{hovertext}</b><br><br>color=Red<br>Year=2016<br>Total=%{marker.size}<br>iso_alpha=%{location}<extra></extra>",
           "hovertext": [
            "United States",
            "Brazil",
            "Ireland",
            "United Arab Emirates",
            "Singapore",
            "Philippines",
            "Netherlands",
            "Argentina"
           ],
           "legendgroup": "Red",
           "locations": [
            "USA",
            "BRA",
            "IRL",
            null,
            "SGP",
            "PHL",
            "NLD",
            "ARG"
           ],
           "marker": {
            "color": "#EF553B",
            "size": [
             309,
             37,
             1,
             1,
             1,
             1,
             13,
             1
            ],
            "sizemode": "area",
            "sizeref": 0.7725
           },
           "name": "Red",
           "showlegend": true,
           "type": "scattergeo"
          }
         ],
         "name": "2016"
        },
        {
         "data": [
          {
           "geo": "geo",
           "hovertemplate": "<b>%{hovertext}</b><br><br>color=Blue<br>Year=2017<br>Total=%{marker.size}<br>iso_alpha=%{location}<extra></extra>",
           "hovertext": [
            "United States",
            "Japan",
            "Brazil",
            "Canada",
            "Ireland",
            "Australia",
            "United Arab Emirates",
            "China",
            "Singapore",
            "Mexico",
            "Philippines",
            "South Korea",
            "Netherlands",
            "Chile",
            "Argentina"
           ],
           "legendgroup": "Blue",
           "locations": [
            "USA",
            "JPN",
            "BRA",
            "CAN",
            "IRL",
            "AUS",
            null,
            "CHN",
            "SGP",
            "MEX",
            "PHL",
            null,
            "NLD",
            "CHL",
            "ARG"
           ],
           "marker": {
            "color": "#636efa",
            "size": [
             257,
             10,
             34,
             33,
             1,
             13,
             1,
             12,
             11,
             12,
             1,
             1,
             12,
             1,
             1
            ],
            "sizemode": "area",
            "sizeref": 0.7725
           },
           "name": "Blue",
           "showlegend": true,
           "type": "scattergeo"
          },
          {
           "geo": "geo",
           "hovertemplate": "<b>%{hovertext}</b><br><br>color=Red<br>Year=2017<br>Total=%{marker.size}<br>iso_alpha=%{location}<extra></extra>",
           "hovertext": [
            "Puerto Rico",
            "United Kingdom",
            "Germany",
            "Sweden",
            "New Zealand",
            "Poland",
            "Croatia",
            "Czech Republic"
           ],
           "legendgroup": "Red",
           "locations": [
            "PRI",
            "GBR",
            "DEU",
            "SWE",
            "NZL",
            "POL",
            "HRV",
            "CZE"
           ],
           "marker": {
            "color": "#EF553B",
            "size": [
             1,
             23,
             1,
             12,
             11,
             11,
             1,
             1
            ],
            "sizemode": "area",
            "sizeref": 0.7725
           },
           "name": "Red",
           "showlegend": true,
           "type": "scattergeo"
          }
         ],
         "name": "2017"
        },
        {
         "data": [
          {
           "geo": "geo",
           "hovertemplate": "<b>%{hovertext}</b><br><br>color=Blue<br>Year=2018<br>Total=%{marker.size}<br>iso_alpha=%{location}<extra></extra>",
           "hovertext": [
            "United States",
            "Puerto Rico",
            "Brazil",
            "United Kingdom",
            "Ireland",
            "Germany",
            "United Arab Emirates",
            "Sweden",
            "Singapore",
            "New Zealand",
            "Philippines",
            "Poland",
            "Netherlands",
            "Croatia",
            "Argentina",
            "Czech Republic"
           ],
           "legendgroup": "Blue",
           "locations": [
            "USA",
            "PRI",
            "BRA",
            "GBR",
            "IRL",
            "DEU",
            null,
            "SWE",
            "SGP",
            "NZL",
            "PHL",
            "POL",
            "NLD",
            "HRV",
            "ARG",
            "CZE"
           ],
           "marker": {
            "color": "#636efa",
            "size": [
             277,
             1,
             38,
             21,
             1,
             13,
             1,
             1,
             13,
             1,
             1,
             1,
             1,
             1,
             12,
             1
            ],
            "sizemode": "area",
            "sizeref": 0.7725
           },
           "name": "Blue",
           "showlegend": true,
           "type": "scattergeo"
          },
          {
           "geo": "geo",
           "hovertemplate": "<b>%{hovertext}</b><br><br>color=Red<br>Year=2018<br>Total=%{marker.size}<br>iso_alpha=%{location}<extra></extra>",
           "hovertext": [
            "Japan",
            "Canada",
            "Australia",
            "China",
            "Mexico",
            "South Korea",
            "Chile"
           ],
           "legendgroup": "Red",
           "locations": [
            "JPN",
            "CAN",
            "AUS",
            "CHN",
            "MEX",
            null,
            "CHL"
           ],
           "marker": {
            "color": "#EF553B",
            "size": [
             1,
             39,
             24,
             12,
             1,
             1,
             13
            ],
            "sizemode": "area",
            "sizeref": 0.7725
           },
           "name": "Red",
           "showlegend": true,
           "type": "scattergeo"
          }
         ],
         "name": "2018"
        },
        {
         "data": [
          {
           "geo": "geo",
           "hovertemplate": "<b>%{hovertext}</b><br><br>color=Blue<br>Year=2019<br>Total=%{marker.size}<br>iso_alpha=%{location}<extra></extra>",
           "hovertext": [
            "Puerto Rico",
            "Japan",
            "United Kingdom",
            "Canada",
            "Germany",
            "Australia",
            "Sweden",
            "China",
            "New Zealand",
            "Mexico",
            "Poland",
            "South Korea",
            "Croatia",
            "Chile",
            "Czech Republic"
           ],
           "legendgroup": "Blue",
           "locations": [
            "PRI",
            "JPN",
            "GBR",
            "CAN",
            "DEU",
            "AUS",
            "SWE",
            "CHN",
            "NZL",
            "MEX",
            "POL",
            null,
            "HRV",
            "CHL",
            "CZE"
           ],
           "marker": {
            "color": "#636efa",
            "size": [
             1,
             1,
             12,
             12,
             1,
             11,
             12,
             1,
             1,
             1,
             1,
             1,
             1,
             1,
             13
            ],
            "sizemode": "area",
            "sizeref": 0.7725
           },
           "name": "Blue",
           "showlegend": true,
           "type": "scattergeo"
          },
          {
           "geo": "geo",
           "hovertemplate": "<b>%{hovertext}</b><br><br>color=Red<br>Year=2019<br>Total=%{marker.size}<br>iso_alpha=%{location}<extra></extra>",
           "hovertext": [
            "United States",
            "Brazil",
            "Ireland",
            "United Arab Emirates",
            "Singapore",
            "Philippines",
            "Netherlands",
            "Argentina"
           ],
           "legendgroup": "Red",
           "locations": [
            "USA",
            "BRA",
            "IRL",
            null,
            "SGP",
            "PHL",
            "NLD",
            "ARG"
           ],
           "marker": {
            "color": "#EF553B",
            "size": [
             127,
             25,
             1,
             1,
             1,
             1,
             1,
             1
            ],
            "sizemode": "area",
            "sizeref": 0.7725
           },
           "name": "Red",
           "showlegend": true,
           "type": "scattergeo"
          }
         ],
         "name": "2019"
        }
       ],
       "layout": {
        "geo": {
         "bgcolor": "rgb(64, 64, 64)",
         "center": {},
         "domain": {
          "x": [
           0,
           1
          ],
          "y": [
           0,
           1
          ]
         },
         "landcolor": "rgb(3, 0,0)"
        },
        "legend": {
         "itemsizing": "constant",
         "title": {
          "text": "color"
         },
         "tracegroupgap": 0
        },
        "margin": {
         "t": 60
        },
        "sliders": [
         {
          "active": 0,
          "currentvalue": {
           "prefix": "Year="
          },
          "len": 0.9,
          "pad": {
           "b": 10,
           "t": 60
          },
          "steps": [
           {
            "args": [
             [
              "1993"
             ],
             {
              "frame": {
               "duration": 0,
               "redraw": true
              },
              "fromcurrent": true,
              "mode": "immediate",
              "transition": {
               "duration": 0,
               "easing": "linear"
              }
             }
            ],
            "label": "1993",
            "method": "animate"
           },
           {
            "args": [
             [
              "1994"
             ],
             {
              "frame": {
               "duration": 0,
               "redraw": true
              },
              "fromcurrent": true,
              "mode": "immediate",
              "transition": {
               "duration": 0,
               "easing": "linear"
              }
             }
            ],
            "label": "1994",
            "method": "animate"
           },
           {
            "args": [
             [
              "1995"
             ],
             {
              "frame": {
               "duration": 0,
               "redraw": true
              },
              "fromcurrent": true,
              "mode": "immediate",
              "transition": {
               "duration": 0,
               "easing": "linear"
              }
             }
            ],
            "label": "1995",
            "method": "animate"
           },
           {
            "args": [
             [
              "1996"
             ],
             {
              "frame": {
               "duration": 0,
               "redraw": true
              },
              "fromcurrent": true,
              "mode": "immediate",
              "transition": {
               "duration": 0,
               "easing": "linear"
              }
             }
            ],
            "label": "1996",
            "method": "animate"
           },
           {
            "args": [
             [
              "1997"
             ],
             {
              "frame": {
               "duration": 0,
               "redraw": true
              },
              "fromcurrent": true,
              "mode": "immediate",
              "transition": {
               "duration": 0,
               "easing": "linear"
              }
             }
            ],
            "label": "1997",
            "method": "animate"
           },
           {
            "args": [
             [
              "1998"
             ],
             {
              "frame": {
               "duration": 0,
               "redraw": true
              },
              "fromcurrent": true,
              "mode": "immediate",
              "transition": {
               "duration": 0,
               "easing": "linear"
              }
             }
            ],
            "label": "1998",
            "method": "animate"
           },
           {
            "args": [
             [
              "1999"
             ],
             {
              "frame": {
               "duration": 0,
               "redraw": true
              },
              "fromcurrent": true,
              "mode": "immediate",
              "transition": {
               "duration": 0,
               "easing": "linear"
              }
             }
            ],
            "label": "1999",
            "method": "animate"
           },
           {
            "args": [
             [
              "2000"
             ],
             {
              "frame": {
               "duration": 0,
               "redraw": true
              },
              "fromcurrent": true,
              "mode": "immediate",
              "transition": {
               "duration": 0,
               "easing": "linear"
              }
             }
            ],
            "label": "2000",
            "method": "animate"
           },
           {
            "args": [
             [
              "2001"
             ],
             {
              "frame": {
               "duration": 0,
               "redraw": true
              },
              "fromcurrent": true,
              "mode": "immediate",
              "transition": {
               "duration": 0,
               "easing": "linear"
              }
             }
            ],
            "label": "2001",
            "method": "animate"
           },
           {
            "args": [
             [
              "2002"
             ],
             {
              "frame": {
               "duration": 0,
               "redraw": true
              },
              "fromcurrent": true,
              "mode": "immediate",
              "transition": {
               "duration": 0,
               "easing": "linear"
              }
             }
            ],
            "label": "2002",
            "method": "animate"
           },
           {
            "args": [
             [
              "2003"
             ],
             {
              "frame": {
               "duration": 0,
               "redraw": true
              },
              "fromcurrent": true,
              "mode": "immediate",
              "transition": {
               "duration": 0,
               "easing": "linear"
              }
             }
            ],
            "label": "2003",
            "method": "animate"
           },
           {
            "args": [
             [
              "2004"
             ],
             {
              "frame": {
               "duration": 0,
               "redraw": true
              },
              "fromcurrent": true,
              "mode": "immediate",
              "transition": {
               "duration": 0,
               "easing": "linear"
              }
             }
            ],
            "label": "2004",
            "method": "animate"
           },
           {
            "args": [
             [
              "2005"
             ],
             {
              "frame": {
               "duration": 0,
               "redraw": true
              },
              "fromcurrent": true,
              "mode": "immediate",
              "transition": {
               "duration": 0,
               "easing": "linear"
              }
             }
            ],
            "label": "2005",
            "method": "animate"
           },
           {
            "args": [
             [
              "2006"
             ],
             {
              "frame": {
               "duration": 0,
               "redraw": true
              },
              "fromcurrent": true,
              "mode": "immediate",
              "transition": {
               "duration": 0,
               "easing": "linear"
              }
             }
            ],
            "label": "2006",
            "method": "animate"
           },
           {
            "args": [
             [
              "2007"
             ],
             {
              "frame": {
               "duration": 0,
               "redraw": true
              },
              "fromcurrent": true,
              "mode": "immediate",
              "transition": {
               "duration": 0,
               "easing": "linear"
              }
             }
            ],
            "label": "2007",
            "method": "animate"
           },
           {
            "args": [
             [
              "2008"
             ],
             {
              "frame": {
               "duration": 0,
               "redraw": true
              },
              "fromcurrent": true,
              "mode": "immediate",
              "transition": {
               "duration": 0,
               "easing": "linear"
              }
             }
            ],
            "label": "2008",
            "method": "animate"
           },
           {
            "args": [
             [
              "2009"
             ],
             {
              "frame": {
               "duration": 0,
               "redraw": true
              },
              "fromcurrent": true,
              "mode": "immediate",
              "transition": {
               "duration": 0,
               "easing": "linear"
              }
             }
            ],
            "label": "2009",
            "method": "animate"
           },
           {
            "args": [
             [
              "2010"
             ],
             {
              "frame": {
               "duration": 0,
               "redraw": true
              },
              "fromcurrent": true,
              "mode": "immediate",
              "transition": {
               "duration": 0,
               "easing": "linear"
              }
             }
            ],
            "label": "2010",
            "method": "animate"
           },
           {
            "args": [
             [
              "2011"
             ],
             {
              "frame": {
               "duration": 0,
               "redraw": true
              },
              "fromcurrent": true,
              "mode": "immediate",
              "transition": {
               "duration": 0,
               "easing": "linear"
              }
             }
            ],
            "label": "2011",
            "method": "animate"
           },
           {
            "args": [
             [
              "2012"
             ],
             {
              "frame": {
               "duration": 0,
               "redraw": true
              },
              "fromcurrent": true,
              "mode": "immediate",
              "transition": {
               "duration": 0,
               "easing": "linear"
              }
             }
            ],
            "label": "2012",
            "method": "animate"
           },
           {
            "args": [
             [
              "2013"
             ],
             {
              "frame": {
               "duration": 0,
               "redraw": true
              },
              "fromcurrent": true,
              "mode": "immediate",
              "transition": {
               "duration": 0,
               "easing": "linear"
              }
             }
            ],
            "label": "2013",
            "method": "animate"
           },
           {
            "args": [
             [
              "2014"
             ],
             {
              "frame": {
               "duration": 0,
               "redraw": true
              },
              "fromcurrent": true,
              "mode": "immediate",
              "transition": {
               "duration": 0,
               "easing": "linear"
              }
             }
            ],
            "label": "2014",
            "method": "animate"
           },
           {
            "args": [
             [
              "2015"
             ],
             {
              "frame": {
               "duration": 0,
               "redraw": true
              },
              "fromcurrent": true,
              "mode": "immediate",
              "transition": {
               "duration": 0,
               "easing": "linear"
              }
             }
            ],
            "label": "2015",
            "method": "animate"
           },
           {
            "args": [
             [
              "2016"
             ],
             {
              "frame": {
               "duration": 0,
               "redraw": true
              },
              "fromcurrent": true,
              "mode": "immediate",
              "transition": {
               "duration": 0,
               "easing": "linear"
              }
             }
            ],
            "label": "2016",
            "method": "animate"
           },
           {
            "args": [
             [
              "2017"
             ],
             {
              "frame": {
               "duration": 0,
               "redraw": true
              },
              "fromcurrent": true,
              "mode": "immediate",
              "transition": {
               "duration": 0,
               "easing": "linear"
              }
             }
            ],
            "label": "2017",
            "method": "animate"
           },
           {
            "args": [
             [
              "2018"
             ],
             {
              "frame": {
               "duration": 0,
               "redraw": true
              },
              "fromcurrent": true,
              "mode": "immediate",
              "transition": {
               "duration": 0,
               "easing": "linear"
              }
             }
            ],
            "label": "2018",
            "method": "animate"
           },
           {
            "args": [
             [
              "2019"
             ],
             {
              "frame": {
               "duration": 0,
               "redraw": true
              },
              "fromcurrent": true,
              "mode": "immediate",
              "transition": {
               "duration": 0,
               "easing": "linear"
              }
             }
            ],
            "label": "2019",
            "method": "animate"
           }
          ],
          "x": 0.1,
          "xanchor": "left",
          "y": 0,
          "yanchor": "top"
         }
        ],
        "template": {
         "data": {
          "bar": [
           {
            "error_x": {
             "color": "#2a3f5f"
            },
            "error_y": {
             "color": "#2a3f5f"
            },
            "marker": {
             "line": {
              "color": "#E5ECF6",
              "width": 0.5
             }
            },
            "type": "bar"
           }
          ],
          "barpolar": [
           {
            "marker": {
             "line": {
              "color": "#E5ECF6",
              "width": 0.5
             }
            },
            "type": "barpolar"
           }
          ],
          "carpet": [
           {
            "aaxis": {
             "endlinecolor": "#2a3f5f",
             "gridcolor": "white",
             "linecolor": "white",
             "minorgridcolor": "white",
             "startlinecolor": "#2a3f5f"
            },
            "baxis": {
             "endlinecolor": "#2a3f5f",
             "gridcolor": "white",
             "linecolor": "white",
             "minorgridcolor": "white",
             "startlinecolor": "#2a3f5f"
            },
            "type": "carpet"
           }
          ],
          "choropleth": [
           {
            "colorbar": {
             "outlinewidth": 0,
             "ticks": ""
            },
            "type": "choropleth"
           }
          ],
          "contour": [
           {
            "colorbar": {
             "outlinewidth": 0,
             "ticks": ""
            },
            "colorscale": [
             [
              0,
              "#0d0887"
             ],
             [
              0.1111111111111111,
              "#46039f"
             ],
             [
              0.2222222222222222,
              "#7201a8"
             ],
             [
              0.3333333333333333,
              "#9c179e"
             ],
             [
              0.4444444444444444,
              "#bd3786"
             ],
             [
              0.5555555555555556,
              "#d8576b"
             ],
             [
              0.6666666666666666,
              "#ed7953"
             ],
             [
              0.7777777777777778,
              "#fb9f3a"
             ],
             [
              0.8888888888888888,
              "#fdca26"
             ],
             [
              1,
              "#f0f921"
             ]
            ],
            "type": "contour"
           }
          ],
          "contourcarpet": [
           {
            "colorbar": {
             "outlinewidth": 0,
             "ticks": ""
            },
            "type": "contourcarpet"
           }
          ],
          "heatmap": [
           {
            "colorbar": {
             "outlinewidth": 0,
             "ticks": ""
            },
            "colorscale": [
             [
              0,
              "#0d0887"
             ],
             [
              0.1111111111111111,
              "#46039f"
             ],
             [
              0.2222222222222222,
              "#7201a8"
             ],
             [
              0.3333333333333333,
              "#9c179e"
             ],
             [
              0.4444444444444444,
              "#bd3786"
             ],
             [
              0.5555555555555556,
              "#d8576b"
             ],
             [
              0.6666666666666666,
              "#ed7953"
             ],
             [
              0.7777777777777778,
              "#fb9f3a"
             ],
             [
              0.8888888888888888,
              "#fdca26"
             ],
             [
              1,
              "#f0f921"
             ]
            ],
            "type": "heatmap"
           }
          ],
          "heatmapgl": [
           {
            "colorbar": {
             "outlinewidth": 0,
             "ticks": ""
            },
            "colorscale": [
             [
              0,
              "#0d0887"
             ],
             [
              0.1111111111111111,
              "#46039f"
             ],
             [
              0.2222222222222222,
              "#7201a8"
             ],
             [
              0.3333333333333333,
              "#9c179e"
             ],
             [
              0.4444444444444444,
              "#bd3786"
             ],
             [
              0.5555555555555556,
              "#d8576b"
             ],
             [
              0.6666666666666666,
              "#ed7953"
             ],
             [
              0.7777777777777778,
              "#fb9f3a"
             ],
             [
              0.8888888888888888,
              "#fdca26"
             ],
             [
              1,
              "#f0f921"
             ]
            ],
            "type": "heatmapgl"
           }
          ],
          "histogram": [
           {
            "marker": {
             "colorbar": {
              "outlinewidth": 0,
              "ticks": ""
             }
            },
            "type": "histogram"
           }
          ],
          "histogram2d": [
           {
            "colorbar": {
             "outlinewidth": 0,
             "ticks": ""
            },
            "colorscale": [
             [
              0,
              "#0d0887"
             ],
             [
              0.1111111111111111,
              "#46039f"
             ],
             [
              0.2222222222222222,
              "#7201a8"
             ],
             [
              0.3333333333333333,
              "#9c179e"
             ],
             [
              0.4444444444444444,
              "#bd3786"
             ],
             [
              0.5555555555555556,
              "#d8576b"
             ],
             [
              0.6666666666666666,
              "#ed7953"
             ],
             [
              0.7777777777777778,
              "#fb9f3a"
             ],
             [
              0.8888888888888888,
              "#fdca26"
             ],
             [
              1,
              "#f0f921"
             ]
            ],
            "type": "histogram2d"
           }
          ],
          "histogram2dcontour": [
           {
            "colorbar": {
             "outlinewidth": 0,
             "ticks": ""
            },
            "colorscale": [
             [
              0,
              "#0d0887"
             ],
             [
              0.1111111111111111,
              "#46039f"
             ],
             [
              0.2222222222222222,
              "#7201a8"
             ],
             [
              0.3333333333333333,
              "#9c179e"
             ],
             [
              0.4444444444444444,
              "#bd3786"
             ],
             [
              0.5555555555555556,
              "#d8576b"
             ],
             [
              0.6666666666666666,
              "#ed7953"
             ],
             [
              0.7777777777777778,
              "#fb9f3a"
             ],
             [
              0.8888888888888888,
              "#fdca26"
             ],
             [
              1,
              "#f0f921"
             ]
            ],
            "type": "histogram2dcontour"
           }
          ],
          "mesh3d": [
           {
            "colorbar": {
             "outlinewidth": 0,
             "ticks": ""
            },
            "type": "mesh3d"
           }
          ],
          "parcoords": [
           {
            "line": {
             "colorbar": {
              "outlinewidth": 0,
              "ticks": ""
             }
            },
            "type": "parcoords"
           }
          ],
          "pie": [
           {
            "automargin": true,
            "type": "pie"
           }
          ],
          "scatter": [
           {
            "marker": {
             "colorbar": {
              "outlinewidth": 0,
              "ticks": ""
             }
            },
            "type": "scatter"
           }
          ],
          "scatter3d": [
           {
            "line": {
             "colorbar": {
              "outlinewidth": 0,
              "ticks": ""
             }
            },
            "marker": {
             "colorbar": {
              "outlinewidth": 0,
              "ticks": ""
             }
            },
            "type": "scatter3d"
           }
          ],
          "scattercarpet": [
           {
            "marker": {
             "colorbar": {
              "outlinewidth": 0,
              "ticks": ""
             }
            },
            "type": "scattercarpet"
           }
          ],
          "scattergeo": [
           {
            "marker": {
             "colorbar": {
              "outlinewidth": 0,
              "ticks": ""
             }
            },
            "type": "scattergeo"
           }
          ],
          "scattergl": [
           {
            "marker": {
             "colorbar": {
              "outlinewidth": 0,
              "ticks": ""
             }
            },
            "type": "scattergl"
           }
          ],
          "scattermapbox": [
           {
            "marker": {
             "colorbar": {
              "outlinewidth": 0,
              "ticks": ""
             }
            },
            "type": "scattermapbox"
           }
          ],
          "scatterpolar": [
           {
            "marker": {
             "colorbar": {
              "outlinewidth": 0,
              "ticks": ""
             }
            },
            "type": "scatterpolar"
           }
          ],
          "scatterpolargl": [
           {
            "marker": {
             "colorbar": {
              "outlinewidth": 0,
              "ticks": ""
             }
            },
            "type": "scatterpolargl"
           }
          ],
          "scatterternary": [
           {
            "marker": {
             "colorbar": {
              "outlinewidth": 0,
              "ticks": ""
             }
            },
            "type": "scatterternary"
           }
          ],
          "surface": [
           {
            "colorbar": {
             "outlinewidth": 0,
             "ticks": ""
            },
            "colorscale": [
             [
              0,
              "#0d0887"
             ],
             [
              0.1111111111111111,
              "#46039f"
             ],
             [
              0.2222222222222222,
              "#7201a8"
             ],
             [
              0.3333333333333333,
              "#9c179e"
             ],
             [
              0.4444444444444444,
              "#bd3786"
             ],
             [
              0.5555555555555556,
              "#d8576b"
             ],
             [
              0.6666666666666666,
              "#ed7953"
             ],
             [
              0.7777777777777778,
              "#fb9f3a"
             ],
             [
              0.8888888888888888,
              "#fdca26"
             ],
             [
              1,
              "#f0f921"
             ]
            ],
            "type": "surface"
           }
          ],
          "table": [
           {
            "cells": {
             "fill": {
              "color": "#EBF0F8"
             },
             "line": {
              "color": "white"
             }
            },
            "header": {
             "fill": {
              "color": "#C8D4E3"
             },
             "line": {
              "color": "white"
             }
            },
            "type": "table"
           }
          ]
         },
         "layout": {
          "annotationdefaults": {
           "arrowcolor": "#2a3f5f",
           "arrowhead": 0,
           "arrowwidth": 1
          },
          "coloraxis": {
           "colorbar": {
            "outlinewidth": 0,
            "ticks": ""
           }
          },
          "colorscale": {
           "diverging": [
            [
             0,
             "#8e0152"
            ],
            [
             0.1,
             "#c51b7d"
            ],
            [
             0.2,
             "#de77ae"
            ],
            [
             0.3,
             "#f1b6da"
            ],
            [
             0.4,
             "#fde0ef"
            ],
            [
             0.5,
             "#f7f7f7"
            ],
            [
             0.6,
             "#e6f5d0"
            ],
            [
             0.7,
             "#b8e186"
            ],
            [
             0.8,
             "#7fbc41"
            ],
            [
             0.9,
             "#4d9221"
            ],
            [
             1,
             "#276419"
            ]
           ],
           "sequential": [
            [
             0,
             "#0d0887"
            ],
            [
             0.1111111111111111,
             "#46039f"
            ],
            [
             0.2222222222222222,
             "#7201a8"
            ],
            [
             0.3333333333333333,
             "#9c179e"
            ],
            [
             0.4444444444444444,
             "#bd3786"
            ],
            [
             0.5555555555555556,
             "#d8576b"
            ],
            [
             0.6666666666666666,
             "#ed7953"
            ],
            [
             0.7777777777777778,
             "#fb9f3a"
            ],
            [
             0.8888888888888888,
             "#fdca26"
            ],
            [
             1,
             "#f0f921"
            ]
           ],
           "sequentialminus": [
            [
             0,
             "#0d0887"
            ],
            [
             0.1111111111111111,
             "#46039f"
            ],
            [
             0.2222222222222222,
             "#7201a8"
            ],
            [
             0.3333333333333333,
             "#9c179e"
            ],
            [
             0.4444444444444444,
             "#bd3786"
            ],
            [
             0.5555555555555556,
             "#d8576b"
            ],
            [
             0.6666666666666666,
             "#ed7953"
            ],
            [
             0.7777777777777778,
             "#fb9f3a"
            ],
            [
             0.8888888888888888,
             "#fdca26"
            ],
            [
             1,
             "#f0f921"
            ]
           ]
          },
          "colorway": [
           "#636efa",
           "#EF553B",
           "#00cc96",
           "#ab63fa",
           "#FFA15A",
           "#19d3f3",
           "#FF6692",
           "#B6E880",
           "#FF97FF",
           "#FECB52"
          ],
          "font": {
           "color": "#2a3f5f"
          },
          "geo": {
           "bgcolor": "white",
           "lakecolor": "white",
           "landcolor": "#E5ECF6",
           "showlakes": true,
           "showland": true,
           "subunitcolor": "white"
          },
          "hoverlabel": {
           "align": "left"
          },
          "hovermode": "closest",
          "mapbox": {
           "style": "light"
          },
          "paper_bgcolor": "white",
          "plot_bgcolor": "#E5ECF6",
          "polar": {
           "angularaxis": {
            "gridcolor": "white",
            "linecolor": "white",
            "ticks": ""
           },
           "bgcolor": "#E5ECF6",
           "radialaxis": {
            "gridcolor": "white",
            "linecolor": "white",
            "ticks": ""
           }
          },
          "scene": {
           "xaxis": {
            "backgroundcolor": "#E5ECF6",
            "gridcolor": "white",
            "gridwidth": 2,
            "linecolor": "white",
            "showbackground": true,
            "ticks": "",
            "zerolinecolor": "white"
           },
           "yaxis": {
            "backgroundcolor": "#E5ECF6",
            "gridcolor": "white",
            "gridwidth": 2,
            "linecolor": "white",
            "showbackground": true,
            "ticks": "",
            "zerolinecolor": "white"
           },
           "zaxis": {
            "backgroundcolor": "#E5ECF6",
            "gridcolor": "white",
            "gridwidth": 2,
            "linecolor": "white",
            "showbackground": true,
            "ticks": "",
            "zerolinecolor": "white"
           }
          },
          "shapedefaults": {
           "line": {
            "color": "#2a3f5f"
           }
          },
          "ternary": {
           "aaxis": {
            "gridcolor": "white",
            "linecolor": "white",
            "ticks": ""
           },
           "baxis": {
            "gridcolor": "white",
            "linecolor": "white",
            "ticks": ""
           },
           "bgcolor": "#E5ECF6",
           "caxis": {
            "gridcolor": "white",
            "linecolor": "white",
            "ticks": ""
           }
          },
          "title": {
           "x": 0.05
          },
          "xaxis": {
           "automargin": true,
           "gridcolor": "white",
           "linecolor": "white",
           "ticks": "",
           "title": {
            "standoff": 15
           },
           "zerolinecolor": "white",
           "zerolinewidth": 2
          },
          "yaxis": {
           "automargin": true,
           "gridcolor": "white",
           "linecolor": "white",
           "ticks": "",
           "title": {
            "standoff": 15
           },
           "zerolinecolor": "white",
           "zerolinewidth": 2
          }
         }
        },
        "title": {
         "text": "Total Fights by Country "
        },
        "updatemenus": [
         {
          "buttons": [
           {
            "args": [
             null,
             {
              "frame": {
               "duration": 500,
               "redraw": true
              },
              "fromcurrent": true,
              "mode": "immediate",
              "transition": {
               "duration": 500,
               "easing": "linear"
              }
             }
            ],
            "label": "&#9654;",
            "method": "animate"
           },
           {
            "args": [
             [
              null
             ],
             {
              "frame": {
               "duration": 0,
               "redraw": true
              },
              "fromcurrent": true,
              "mode": "immediate",
              "transition": {
               "duration": 0,
               "easing": "linear"
              }
             }
            ],
            "label": "&#9724;",
            "method": "animate"
           }
          ],
          "direction": "left",
          "pad": {
           "r": 10,
           "t": 70
          },
          "showactive": false,
          "type": "buttons",
          "x": 0.1,
          "xanchor": "right",
          "y": 0,
          "yanchor": "top"
         }
        ]
       }
      },
      "text/html": [
       "<div>\n",
       "        \n",
       "        \n",
       "            <div id=\"a0ccfdfb-94a9-419a-80b5-ac4fbd7bfb93\" class=\"plotly-graph-div\" style=\"height:525px; width:100%;\"></div>\n",
       "            <script type=\"text/javascript\">\n",
       "                require([\"plotly\"], function(Plotly) {\n",
       "                    window.PLOTLYENV=window.PLOTLYENV || {};\n",
       "                    \n",
       "                if (document.getElementById(\"a0ccfdfb-94a9-419a-80b5-ac4fbd7bfb93\")) {\n",
       "                    Plotly.newPlot(\n",
       "                        'a0ccfdfb-94a9-419a-80b5-ac4fbd7bfb93',\n",
       "                        [{\"geo\": \"geo\", \"hovertemplate\": \"<b>%{hovertext}</b><br><br>color=Blue<br>Year=1993<br>Total=%{marker.size}<br>iso_alpha=%{location}<extra></extra>\", \"hovertext\": [\"United States\", \"Japan\", \"Brazil\", \"Canada\", \"Ireland\", \"Australia\", \"United Arab Emirates\", \"China\", \"Singapore\", \"Mexico\", \"Philippines\", \"South Korea\", \"Netherlands\", \"Chile\", \"Argentina\"], \"legendgroup\": \"Blue\", \"locations\": [\"USA\", \"JPN\", \"BRA\", \"CAN\", \"IRL\", \"AUS\", null, \"CHN\", \"SGP\", \"MEX\", \"PHL\", null, \"NLD\", \"CHL\", \"ARG\"], \"marker\": {\"color\": \"#636efa\", \"size\": [8, 1, 1, 1, 1, 1, 1, 1, 1, 1, 1, 1, 1, 1, 1], \"sizemode\": \"area\", \"sizeref\": 0.7725}, \"name\": \"Blue\", \"showlegend\": true, \"type\": \"scattergeo\"}, {\"geo\": \"geo\", \"hovertemplate\": \"<b>%{hovertext}</b><br><br>color=Red<br>Year=1993<br>Total=%{marker.size}<br>iso_alpha=%{location}<extra></extra>\", \"hovertext\": [\"Puerto Rico\", \"United Kingdom\", \"Germany\", \"Sweden\", \"New Zealand\", \"Poland\", \"Croatia\", \"Czech Republic\"], \"legendgroup\": \"Red\", \"locations\": [\"PRI\", \"GBR\", \"DEU\", \"SWE\", \"NZL\", \"POL\", \"HRV\", \"CZE\"], \"marker\": {\"color\": \"#EF553B\", \"size\": [1, 1, 1, 1, 1, 1, 1, 1], \"sizemode\": \"area\", \"sizeref\": 0.7725}, \"name\": \"Red\", \"showlegend\": true, \"type\": \"scattergeo\"}],\n",
       "                        {\"geo\": {\"bgcolor\": \"rgb(64, 64, 64)\", \"center\": {}, \"domain\": {\"x\": [0.0, 1.0], \"y\": [0.0, 1.0]}, \"landcolor\": \"rgb(3, 0,0)\"}, \"legend\": {\"itemsizing\": \"constant\", \"title\": {\"text\": \"color\"}, \"tracegroupgap\": 0}, \"margin\": {\"t\": 60}, \"sliders\": [{\"active\": 0, \"currentvalue\": {\"prefix\": \"Year=\"}, \"len\": 0.9, \"pad\": {\"b\": 10, \"t\": 60}, \"steps\": [{\"args\": [[\"1993\"], {\"frame\": {\"duration\": 0, \"redraw\": true}, \"fromcurrent\": true, \"mode\": \"immediate\", \"transition\": {\"duration\": 0, \"easing\": \"linear\"}}], \"label\": \"1993\", \"method\": \"animate\"}, {\"args\": [[\"1994\"], {\"frame\": {\"duration\": 0, \"redraw\": true}, \"fromcurrent\": true, \"mode\": \"immediate\", \"transition\": {\"duration\": 0, \"easing\": \"linear\"}}], \"label\": \"1994\", \"method\": \"animate\"}, {\"args\": [[\"1995\"], {\"frame\": {\"duration\": 0, \"redraw\": true}, \"fromcurrent\": true, \"mode\": \"immediate\", \"transition\": {\"duration\": 0, \"easing\": \"linear\"}}], \"label\": \"1995\", \"method\": \"animate\"}, {\"args\": [[\"1996\"], {\"frame\": {\"duration\": 0, \"redraw\": true}, \"fromcurrent\": true, \"mode\": \"immediate\", \"transition\": {\"duration\": 0, \"easing\": \"linear\"}}], \"label\": \"1996\", \"method\": \"animate\"}, {\"args\": [[\"1997\"], {\"frame\": {\"duration\": 0, \"redraw\": true}, \"fromcurrent\": true, \"mode\": \"immediate\", \"transition\": {\"duration\": 0, \"easing\": \"linear\"}}], \"label\": \"1997\", \"method\": \"animate\"}, {\"args\": [[\"1998\"], {\"frame\": {\"duration\": 0, \"redraw\": true}, \"fromcurrent\": true, \"mode\": \"immediate\", \"transition\": {\"duration\": 0, \"easing\": \"linear\"}}], \"label\": \"1998\", \"method\": \"animate\"}, {\"args\": [[\"1999\"], {\"frame\": {\"duration\": 0, \"redraw\": true}, \"fromcurrent\": true, \"mode\": \"immediate\", \"transition\": {\"duration\": 0, \"easing\": \"linear\"}}], \"label\": \"1999\", \"method\": \"animate\"}, {\"args\": [[\"2000\"], {\"frame\": {\"duration\": 0, \"redraw\": true}, \"fromcurrent\": true, \"mode\": \"immediate\", \"transition\": {\"duration\": 0, \"easing\": \"linear\"}}], \"label\": \"2000\", \"method\": \"animate\"}, {\"args\": [[\"2001\"], {\"frame\": {\"duration\": 0, \"redraw\": true}, \"fromcurrent\": true, \"mode\": \"immediate\", \"transition\": {\"duration\": 0, \"easing\": \"linear\"}}], \"label\": \"2001\", \"method\": \"animate\"}, {\"args\": [[\"2002\"], {\"frame\": {\"duration\": 0, \"redraw\": true}, \"fromcurrent\": true, \"mode\": \"immediate\", \"transition\": {\"duration\": 0, \"easing\": \"linear\"}}], \"label\": \"2002\", \"method\": \"animate\"}, {\"args\": [[\"2003\"], {\"frame\": {\"duration\": 0, \"redraw\": true}, \"fromcurrent\": true, \"mode\": \"immediate\", \"transition\": {\"duration\": 0, \"easing\": \"linear\"}}], \"label\": \"2003\", \"method\": \"animate\"}, {\"args\": [[\"2004\"], {\"frame\": {\"duration\": 0, \"redraw\": true}, \"fromcurrent\": true, \"mode\": \"immediate\", \"transition\": {\"duration\": 0, \"easing\": \"linear\"}}], \"label\": \"2004\", \"method\": \"animate\"}, {\"args\": [[\"2005\"], {\"frame\": {\"duration\": 0, \"redraw\": true}, \"fromcurrent\": true, \"mode\": \"immediate\", \"transition\": {\"duration\": 0, \"easing\": \"linear\"}}], \"label\": \"2005\", \"method\": \"animate\"}, {\"args\": [[\"2006\"], {\"frame\": {\"duration\": 0, \"redraw\": true}, \"fromcurrent\": true, \"mode\": \"immediate\", \"transition\": {\"duration\": 0, \"easing\": \"linear\"}}], \"label\": \"2006\", \"method\": \"animate\"}, {\"args\": [[\"2007\"], {\"frame\": {\"duration\": 0, \"redraw\": true}, \"fromcurrent\": true, \"mode\": \"immediate\", \"transition\": {\"duration\": 0, \"easing\": \"linear\"}}], \"label\": \"2007\", \"method\": \"animate\"}, {\"args\": [[\"2008\"], {\"frame\": {\"duration\": 0, \"redraw\": true}, \"fromcurrent\": true, \"mode\": \"immediate\", \"transition\": {\"duration\": 0, \"easing\": \"linear\"}}], \"label\": \"2008\", \"method\": \"animate\"}, {\"args\": [[\"2009\"], {\"frame\": {\"duration\": 0, \"redraw\": true}, \"fromcurrent\": true, \"mode\": \"immediate\", \"transition\": {\"duration\": 0, \"easing\": \"linear\"}}], \"label\": \"2009\", \"method\": \"animate\"}, {\"args\": [[\"2010\"], {\"frame\": {\"duration\": 0, \"redraw\": true}, \"fromcurrent\": true, \"mode\": \"immediate\", \"transition\": {\"duration\": 0, \"easing\": \"linear\"}}], \"label\": \"2010\", \"method\": \"animate\"}, {\"args\": [[\"2011\"], {\"frame\": {\"duration\": 0, \"redraw\": true}, \"fromcurrent\": true, \"mode\": \"immediate\", \"transition\": {\"duration\": 0, \"easing\": \"linear\"}}], \"label\": \"2011\", \"method\": \"animate\"}, {\"args\": [[\"2012\"], {\"frame\": {\"duration\": 0, \"redraw\": true}, \"fromcurrent\": true, \"mode\": \"immediate\", \"transition\": {\"duration\": 0, \"easing\": \"linear\"}}], \"label\": \"2012\", \"method\": \"animate\"}, {\"args\": [[\"2013\"], {\"frame\": {\"duration\": 0, \"redraw\": true}, \"fromcurrent\": true, \"mode\": \"immediate\", \"transition\": {\"duration\": 0, \"easing\": \"linear\"}}], \"label\": \"2013\", \"method\": \"animate\"}, {\"args\": [[\"2014\"], {\"frame\": {\"duration\": 0, \"redraw\": true}, \"fromcurrent\": true, \"mode\": \"immediate\", \"transition\": {\"duration\": 0, \"easing\": \"linear\"}}], \"label\": \"2014\", \"method\": \"animate\"}, {\"args\": [[\"2015\"], {\"frame\": {\"duration\": 0, \"redraw\": true}, \"fromcurrent\": true, \"mode\": \"immediate\", \"transition\": {\"duration\": 0, \"easing\": \"linear\"}}], \"label\": \"2015\", \"method\": \"animate\"}, {\"args\": [[\"2016\"], {\"frame\": {\"duration\": 0, \"redraw\": true}, \"fromcurrent\": true, \"mode\": \"immediate\", \"transition\": {\"duration\": 0, \"easing\": \"linear\"}}], \"label\": \"2016\", \"method\": \"animate\"}, {\"args\": [[\"2017\"], {\"frame\": {\"duration\": 0, \"redraw\": true}, \"fromcurrent\": true, \"mode\": \"immediate\", \"transition\": {\"duration\": 0, \"easing\": \"linear\"}}], \"label\": \"2017\", \"method\": \"animate\"}, {\"args\": [[\"2018\"], {\"frame\": {\"duration\": 0, \"redraw\": true}, \"fromcurrent\": true, \"mode\": \"immediate\", \"transition\": {\"duration\": 0, \"easing\": \"linear\"}}], \"label\": \"2018\", \"method\": \"animate\"}, {\"args\": [[\"2019\"], {\"frame\": {\"duration\": 0, \"redraw\": true}, \"fromcurrent\": true, \"mode\": \"immediate\", \"transition\": {\"duration\": 0, \"easing\": \"linear\"}}], \"label\": \"2019\", \"method\": \"animate\"}], \"x\": 0.1, \"xanchor\": \"left\", \"y\": 0, \"yanchor\": \"top\"}], \"template\": {\"data\": {\"bar\": [{\"error_x\": {\"color\": \"#2a3f5f\"}, \"error_y\": {\"color\": \"#2a3f5f\"}, \"marker\": {\"line\": {\"color\": \"#E5ECF6\", \"width\": 0.5}}, \"type\": \"bar\"}], \"barpolar\": [{\"marker\": {\"line\": {\"color\": \"#E5ECF6\", \"width\": 0.5}}, \"type\": \"barpolar\"}], \"carpet\": [{\"aaxis\": {\"endlinecolor\": \"#2a3f5f\", \"gridcolor\": \"white\", \"linecolor\": \"white\", \"minorgridcolor\": \"white\", \"startlinecolor\": \"#2a3f5f\"}, \"baxis\": {\"endlinecolor\": \"#2a3f5f\", \"gridcolor\": \"white\", \"linecolor\": \"white\", \"minorgridcolor\": \"white\", \"startlinecolor\": \"#2a3f5f\"}, \"type\": \"carpet\"}], \"choropleth\": [{\"colorbar\": {\"outlinewidth\": 0, \"ticks\": \"\"}, \"type\": \"choropleth\"}], \"contour\": [{\"colorbar\": {\"outlinewidth\": 0, \"ticks\": \"\"}, \"colorscale\": [[0.0, \"#0d0887\"], [0.1111111111111111, \"#46039f\"], [0.2222222222222222, \"#7201a8\"], [0.3333333333333333, \"#9c179e\"], [0.4444444444444444, \"#bd3786\"], [0.5555555555555556, \"#d8576b\"], [0.6666666666666666, \"#ed7953\"], [0.7777777777777778, \"#fb9f3a\"], [0.8888888888888888, \"#fdca26\"], [1.0, \"#f0f921\"]], \"type\": \"contour\"}], \"contourcarpet\": [{\"colorbar\": {\"outlinewidth\": 0, \"ticks\": \"\"}, \"type\": \"contourcarpet\"}], \"heatmap\": [{\"colorbar\": {\"outlinewidth\": 0, \"ticks\": \"\"}, \"colorscale\": [[0.0, \"#0d0887\"], [0.1111111111111111, \"#46039f\"], [0.2222222222222222, \"#7201a8\"], [0.3333333333333333, \"#9c179e\"], [0.4444444444444444, \"#bd3786\"], [0.5555555555555556, \"#d8576b\"], [0.6666666666666666, \"#ed7953\"], [0.7777777777777778, \"#fb9f3a\"], [0.8888888888888888, \"#fdca26\"], [1.0, \"#f0f921\"]], \"type\": \"heatmap\"}], \"heatmapgl\": [{\"colorbar\": {\"outlinewidth\": 0, \"ticks\": \"\"}, \"colorscale\": [[0.0, \"#0d0887\"], [0.1111111111111111, \"#46039f\"], [0.2222222222222222, \"#7201a8\"], [0.3333333333333333, \"#9c179e\"], [0.4444444444444444, \"#bd3786\"], [0.5555555555555556, \"#d8576b\"], [0.6666666666666666, \"#ed7953\"], [0.7777777777777778, \"#fb9f3a\"], [0.8888888888888888, \"#fdca26\"], [1.0, \"#f0f921\"]], \"type\": \"heatmapgl\"}], \"histogram\": [{\"marker\": {\"colorbar\": {\"outlinewidth\": 0, \"ticks\": \"\"}}, \"type\": \"histogram\"}], \"histogram2d\": [{\"colorbar\": {\"outlinewidth\": 0, \"ticks\": \"\"}, \"colorscale\": [[0.0, \"#0d0887\"], [0.1111111111111111, \"#46039f\"], [0.2222222222222222, \"#7201a8\"], [0.3333333333333333, \"#9c179e\"], [0.4444444444444444, \"#bd3786\"], [0.5555555555555556, \"#d8576b\"], [0.6666666666666666, \"#ed7953\"], [0.7777777777777778, \"#fb9f3a\"], [0.8888888888888888, \"#fdca26\"], [1.0, \"#f0f921\"]], \"type\": \"histogram2d\"}], \"histogram2dcontour\": [{\"colorbar\": {\"outlinewidth\": 0, \"ticks\": \"\"}, \"colorscale\": [[0.0, \"#0d0887\"], [0.1111111111111111, \"#46039f\"], [0.2222222222222222, \"#7201a8\"], [0.3333333333333333, \"#9c179e\"], [0.4444444444444444, \"#bd3786\"], [0.5555555555555556, \"#d8576b\"], [0.6666666666666666, \"#ed7953\"], [0.7777777777777778, \"#fb9f3a\"], [0.8888888888888888, \"#fdca26\"], [1.0, \"#f0f921\"]], \"type\": \"histogram2dcontour\"}], \"mesh3d\": [{\"colorbar\": {\"outlinewidth\": 0, \"ticks\": \"\"}, \"type\": \"mesh3d\"}], \"parcoords\": [{\"line\": {\"colorbar\": {\"outlinewidth\": 0, \"ticks\": \"\"}}, \"type\": \"parcoords\"}], \"pie\": [{\"automargin\": true, \"type\": \"pie\"}], \"scatter\": [{\"marker\": {\"colorbar\": {\"outlinewidth\": 0, \"ticks\": \"\"}}, \"type\": \"scatter\"}], \"scatter3d\": [{\"line\": {\"colorbar\": {\"outlinewidth\": 0, \"ticks\": \"\"}}, \"marker\": {\"colorbar\": {\"outlinewidth\": 0, \"ticks\": \"\"}}, \"type\": \"scatter3d\"}], \"scattercarpet\": [{\"marker\": {\"colorbar\": {\"outlinewidth\": 0, \"ticks\": \"\"}}, \"type\": \"scattercarpet\"}], \"scattergeo\": [{\"marker\": {\"colorbar\": {\"outlinewidth\": 0, \"ticks\": \"\"}}, \"type\": \"scattergeo\"}], \"scattergl\": [{\"marker\": {\"colorbar\": {\"outlinewidth\": 0, \"ticks\": \"\"}}, \"type\": \"scattergl\"}], \"scattermapbox\": [{\"marker\": {\"colorbar\": {\"outlinewidth\": 0, \"ticks\": \"\"}}, \"type\": \"scattermapbox\"}], \"scatterpolar\": [{\"marker\": {\"colorbar\": {\"outlinewidth\": 0, \"ticks\": \"\"}}, \"type\": \"scatterpolar\"}], \"scatterpolargl\": [{\"marker\": {\"colorbar\": {\"outlinewidth\": 0, \"ticks\": \"\"}}, \"type\": \"scatterpolargl\"}], \"scatterternary\": [{\"marker\": {\"colorbar\": {\"outlinewidth\": 0, \"ticks\": \"\"}}, \"type\": \"scatterternary\"}], \"surface\": [{\"colorbar\": {\"outlinewidth\": 0, \"ticks\": \"\"}, \"colorscale\": [[0.0, \"#0d0887\"], [0.1111111111111111, \"#46039f\"], [0.2222222222222222, \"#7201a8\"], [0.3333333333333333, \"#9c179e\"], [0.4444444444444444, \"#bd3786\"], [0.5555555555555556, \"#d8576b\"], [0.6666666666666666, \"#ed7953\"], [0.7777777777777778, \"#fb9f3a\"], [0.8888888888888888, \"#fdca26\"], [1.0, \"#f0f921\"]], \"type\": \"surface\"}], \"table\": [{\"cells\": {\"fill\": {\"color\": \"#EBF0F8\"}, \"line\": {\"color\": \"white\"}}, \"header\": {\"fill\": {\"color\": \"#C8D4E3\"}, \"line\": {\"color\": \"white\"}}, \"type\": \"table\"}]}, \"layout\": {\"annotationdefaults\": {\"arrowcolor\": \"#2a3f5f\", \"arrowhead\": 0, \"arrowwidth\": 1}, \"coloraxis\": {\"colorbar\": {\"outlinewidth\": 0, \"ticks\": \"\"}}, \"colorscale\": {\"diverging\": [[0, \"#8e0152\"], [0.1, \"#c51b7d\"], [0.2, \"#de77ae\"], [0.3, \"#f1b6da\"], [0.4, \"#fde0ef\"], [0.5, \"#f7f7f7\"], [0.6, \"#e6f5d0\"], [0.7, \"#b8e186\"], [0.8, \"#7fbc41\"], [0.9, \"#4d9221\"], [1, \"#276419\"]], \"sequential\": [[0.0, \"#0d0887\"], [0.1111111111111111, \"#46039f\"], [0.2222222222222222, \"#7201a8\"], [0.3333333333333333, \"#9c179e\"], [0.4444444444444444, \"#bd3786\"], [0.5555555555555556, \"#d8576b\"], [0.6666666666666666, \"#ed7953\"], [0.7777777777777778, \"#fb9f3a\"], [0.8888888888888888, \"#fdca26\"], [1.0, \"#f0f921\"]], \"sequentialminus\": [[0.0, \"#0d0887\"], [0.1111111111111111, \"#46039f\"], [0.2222222222222222, \"#7201a8\"], [0.3333333333333333, \"#9c179e\"], [0.4444444444444444, \"#bd3786\"], [0.5555555555555556, \"#d8576b\"], [0.6666666666666666, \"#ed7953\"], [0.7777777777777778, \"#fb9f3a\"], [0.8888888888888888, \"#fdca26\"], [1.0, \"#f0f921\"]]}, \"colorway\": [\"#636efa\", \"#EF553B\", \"#00cc96\", \"#ab63fa\", \"#FFA15A\", \"#19d3f3\", \"#FF6692\", \"#B6E880\", \"#FF97FF\", \"#FECB52\"], \"font\": {\"color\": \"#2a3f5f\"}, \"geo\": {\"bgcolor\": \"white\", \"lakecolor\": \"white\", \"landcolor\": \"#E5ECF6\", \"showlakes\": true, \"showland\": true, \"subunitcolor\": \"white\"}, \"hoverlabel\": {\"align\": \"left\"}, \"hovermode\": \"closest\", \"mapbox\": {\"style\": \"light\"}, \"paper_bgcolor\": \"white\", \"plot_bgcolor\": \"#E5ECF6\", \"polar\": {\"angularaxis\": {\"gridcolor\": \"white\", \"linecolor\": \"white\", \"ticks\": \"\"}, \"bgcolor\": \"#E5ECF6\", \"radialaxis\": {\"gridcolor\": \"white\", \"linecolor\": \"white\", \"ticks\": \"\"}}, \"scene\": {\"xaxis\": {\"backgroundcolor\": \"#E5ECF6\", \"gridcolor\": \"white\", \"gridwidth\": 2, \"linecolor\": \"white\", \"showbackground\": true, \"ticks\": \"\", \"zerolinecolor\": \"white\"}, \"yaxis\": {\"backgroundcolor\": \"#E5ECF6\", \"gridcolor\": \"white\", \"gridwidth\": 2, \"linecolor\": \"white\", \"showbackground\": true, \"ticks\": \"\", \"zerolinecolor\": \"white\"}, \"zaxis\": {\"backgroundcolor\": \"#E5ECF6\", \"gridcolor\": \"white\", \"gridwidth\": 2, \"linecolor\": \"white\", \"showbackground\": true, \"ticks\": \"\", \"zerolinecolor\": \"white\"}}, \"shapedefaults\": {\"line\": {\"color\": \"#2a3f5f\"}}, \"ternary\": {\"aaxis\": {\"gridcolor\": \"white\", \"linecolor\": \"white\", \"ticks\": \"\"}, \"baxis\": {\"gridcolor\": \"white\", \"linecolor\": \"white\", \"ticks\": \"\"}, \"bgcolor\": \"#E5ECF6\", \"caxis\": {\"gridcolor\": \"white\", \"linecolor\": \"white\", \"ticks\": \"\"}}, \"title\": {\"x\": 0.05}, \"xaxis\": {\"automargin\": true, \"gridcolor\": \"white\", \"linecolor\": \"white\", \"ticks\": \"\", \"title\": {\"standoff\": 15}, \"zerolinecolor\": \"white\", \"zerolinewidth\": 2}, \"yaxis\": {\"automargin\": true, \"gridcolor\": \"white\", \"linecolor\": \"white\", \"ticks\": \"\", \"title\": {\"standoff\": 15}, \"zerolinecolor\": \"white\", \"zerolinewidth\": 2}}}, \"title\": {\"text\": \"Total Fights by Country \"}, \"updatemenus\": [{\"buttons\": [{\"args\": [null, {\"frame\": {\"duration\": 500, \"redraw\": true}, \"fromcurrent\": true, \"mode\": \"immediate\", \"transition\": {\"duration\": 500, \"easing\": \"linear\"}}], \"label\": \"&#9654;\", \"method\": \"animate\"}, {\"args\": [[null], {\"frame\": {\"duration\": 0, \"redraw\": true}, \"fromcurrent\": true, \"mode\": \"immediate\", \"transition\": {\"duration\": 0, \"easing\": \"linear\"}}], \"label\": \"&#9724;\", \"method\": \"animate\"}], \"direction\": \"left\", \"pad\": {\"r\": 10, \"t\": 70}, \"showactive\": false, \"type\": \"buttons\", \"x\": 0.1, \"xanchor\": \"right\", \"y\": 0, \"yanchor\": \"top\"}]},\n",
       "                        {\"responsive\": true}\n",
       "                    ).then(function(){\n",
       "                            Plotly.addFrames('a0ccfdfb-94a9-419a-80b5-ac4fbd7bfb93', [{\"data\": [{\"geo\": \"geo\", \"hovertemplate\": \"<b>%{hovertext}</b><br><br>color=Blue<br>Year=1993<br>Total=%{marker.size}<br>iso_alpha=%{location}<extra></extra>\", \"hovertext\": [\"United States\", \"Japan\", \"Brazil\", \"Canada\", \"Ireland\", \"Australia\", \"United Arab Emirates\", \"China\", \"Singapore\", \"Mexico\", \"Philippines\", \"South Korea\", \"Netherlands\", \"Chile\", \"Argentina\"], \"legendgroup\": \"Blue\", \"locations\": [\"USA\", \"JPN\", \"BRA\", \"CAN\", \"IRL\", \"AUS\", null, \"CHN\", \"SGP\", \"MEX\", \"PHL\", null, \"NLD\", \"CHL\", \"ARG\"], \"marker\": {\"color\": \"#636efa\", \"size\": [8, 1, 1, 1, 1, 1, 1, 1, 1, 1, 1, 1, 1, 1, 1], \"sizemode\": \"area\", \"sizeref\": 0.7725}, \"name\": \"Blue\", \"showlegend\": true, \"type\": \"scattergeo\"}, {\"geo\": \"geo\", \"hovertemplate\": \"<b>%{hovertext}</b><br><br>color=Red<br>Year=1993<br>Total=%{marker.size}<br>iso_alpha=%{location}<extra></extra>\", \"hovertext\": [\"Puerto Rico\", \"United Kingdom\", \"Germany\", \"Sweden\", \"New Zealand\", \"Poland\", \"Croatia\", \"Czech Republic\"], \"legendgroup\": \"Red\", \"locations\": [\"PRI\", \"GBR\", \"DEU\", \"SWE\", \"NZL\", \"POL\", \"HRV\", \"CZE\"], \"marker\": {\"color\": \"#EF553B\", \"size\": [1, 1, 1, 1, 1, 1, 1, 1], \"sizemode\": \"area\", \"sizeref\": 0.7725}, \"name\": \"Red\", \"showlegend\": true, \"type\": \"scattergeo\"}], \"name\": \"1993\"}, {\"data\": [{\"geo\": \"geo\", \"hovertemplate\": \"<b>%{hovertext}</b><br><br>color=Blue<br>Year=1994<br>Total=%{marker.size}<br>iso_alpha=%{location}<extra></extra>\", \"hovertext\": [\"United States\", \"Puerto Rico\", \"Brazil\", \"United Kingdom\", \"Ireland\", \"Germany\", \"United Arab Emirates\", \"Sweden\", \"Singapore\", \"New Zealand\", \"Philippines\", \"Poland\", \"Netherlands\", \"Croatia\", \"Argentina\", \"Czech Republic\"], \"legendgroup\": \"Blue\", \"locations\": [\"USA\", \"PRI\", \"BRA\", \"GBR\", \"IRL\", \"DEU\", null, \"SWE\", \"SGP\", \"NZL\", \"PHL\", \"POL\", \"NLD\", \"HRV\", \"ARG\", \"CZE\"], \"marker\": {\"color\": \"#636efa\", \"size\": [29, 1, 1, 1, 1, 1, 1, 1, 1, 1, 1, 1, 1, 1, 1, 1], \"sizemode\": \"area\", \"sizeref\": 0.7725}, \"name\": \"Blue\", \"showlegend\": true, \"type\": \"scattergeo\"}, {\"geo\": \"geo\", \"hovertemplate\": \"<b>%{hovertext}</b><br><br>color=Red<br>Year=1994<br>Total=%{marker.size}<br>iso_alpha=%{location}<extra></extra>\", \"hovertext\": [\"Japan\", \"Canada\", \"Australia\", \"China\", \"Mexico\", \"South Korea\", \"Chile\"], \"legendgroup\": \"Red\", \"locations\": [\"JPN\", \"CAN\", \"AUS\", \"CHN\", \"MEX\", null, \"CHL\"], \"marker\": {\"color\": \"#EF553B\", \"size\": [1, 1, 1, 1, 1, 1, 1], \"sizemode\": \"area\", \"sizeref\": 0.7725}, \"name\": \"Red\", \"showlegend\": true, \"type\": \"scattergeo\"}], \"name\": \"1994\"}, {\"data\": [{\"geo\": \"geo\", \"hovertemplate\": \"<b>%{hovertext}</b><br><br>color=Blue<br>Year=1995<br>Total=%{marker.size}<br>iso_alpha=%{location}<extra></extra>\", \"hovertext\": [\"Puerto Rico\", \"Japan\", \"United Kingdom\", \"Canada\", \"Germany\", \"Australia\", \"Sweden\", \"China\", \"New Zealand\", \"Mexico\", \"Poland\", \"South Korea\", \"Croatia\", \"Chile\", \"Czech Republic\"], \"legendgroup\": \"Blue\", \"locations\": [\"PRI\", \"JPN\", \"GBR\", \"CAN\", \"DEU\", \"AUS\", \"SWE\", \"CHN\", \"NZL\", \"MEX\", \"POL\", null, \"HRV\", \"CHL\", \"CZE\"], \"marker\": {\"color\": \"#636efa\", \"size\": [1, 1, 1, 1, 1, 1, 1, 1, 1, 1, 1, 1, 1, 1, 1], \"sizemode\": \"area\", \"sizeref\": 0.7725}, \"name\": \"Blue\", \"showlegend\": true, \"type\": \"scattergeo\"}, {\"geo\": \"geo\", \"hovertemplate\": \"<b>%{hovertext}</b><br><br>color=Red<br>Year=1995<br>Total=%{marker.size}<br>iso_alpha=%{location}<extra></extra>\", \"hovertext\": [\"United States\", \"Brazil\", \"Ireland\", \"United Arab Emirates\", \"Singapore\", \"Philippines\", \"Netherlands\", \"Argentina\"], \"legendgroup\": \"Red\", \"locations\": [\"USA\", \"BRA\", \"IRL\", null, \"SGP\", \"PHL\", \"NLD\", \"ARG\"], \"marker\": {\"color\": \"#EF553B\", \"size\": [33, 1, 1, 1, 1, 1, 1, 1], \"sizemode\": \"area\", \"sizeref\": 0.7725}, \"name\": \"Red\", \"showlegend\": true, \"type\": \"scattergeo\"}], \"name\": \"1995\"}, {\"data\": [{\"geo\": \"geo\", \"hovertemplate\": \"<b>%{hovertext}</b><br><br>color=Blue<br>Year=1996<br>Total=%{marker.size}<br>iso_alpha=%{location}<extra></extra>\", \"hovertext\": [\"United States\", \"Japan\", \"Brazil\", \"Canada\", \"Ireland\", \"Australia\", \"United Arab Emirates\", \"China\", \"Singapore\", \"Mexico\", \"Philippines\", \"South Korea\", \"Netherlands\", \"Chile\", \"Argentina\"], \"legendgroup\": \"Blue\", \"locations\": [\"USA\", \"JPN\", \"BRA\", \"CAN\", \"IRL\", \"AUS\", null, \"CHN\", \"SGP\", \"MEX\", \"PHL\", null, \"NLD\", \"CHL\", \"ARG\"], \"marker\": {\"color\": \"#636efa\", \"size\": [28, 1, 1, 1, 1, 1, 1, 1, 1, 1, 1, 1, 1, 1, 1], \"sizemode\": \"area\", \"sizeref\": 0.7725}, \"name\": \"Blue\", \"showlegend\": true, \"type\": \"scattergeo\"}, {\"geo\": \"geo\", \"hovertemplate\": \"<b>%{hovertext}</b><br><br>color=Red<br>Year=1996<br>Total=%{marker.size}<br>iso_alpha=%{location}<extra></extra>\", \"hovertext\": [\"Puerto Rico\", \"United Kingdom\", \"Germany\", \"Sweden\", \"New Zealand\", \"Poland\", \"Croatia\", \"Czech Republic\"], \"legendgroup\": \"Red\", \"locations\": [\"PRI\", \"GBR\", \"DEU\", \"SWE\", \"NZL\", \"POL\", \"HRV\", \"CZE\"], \"marker\": {\"color\": \"#EF553B\", \"size\": [8, 1, 1, 1, 1, 1, 1, 1], \"sizemode\": \"area\", \"sizeref\": 0.7725}, \"name\": \"Red\", \"showlegend\": true, \"type\": \"scattergeo\"}], \"name\": \"1996\"}, {\"data\": [{\"geo\": \"geo\", \"hovertemplate\": \"<b>%{hovertext}</b><br><br>color=Blue<br>Year=1997<br>Total=%{marker.size}<br>iso_alpha=%{location}<extra></extra>\", \"hovertext\": [\"United States\", \"Puerto Rico\", \"Brazil\", \"United Kingdom\", \"Ireland\", \"Germany\", \"United Arab Emirates\", \"Sweden\", \"Singapore\", \"New Zealand\", \"Philippines\", \"Poland\", \"Netherlands\", \"Croatia\", \"Argentina\", \"Czech Republic\"], \"legendgroup\": \"Blue\", \"locations\": [\"USA\", \"PRI\", \"BRA\", \"GBR\", \"IRL\", \"DEU\", null, \"SWE\", \"SGP\", \"NZL\", \"PHL\", \"POL\", \"NLD\", \"HRV\", \"ARG\", \"CZE\"], \"marker\": {\"color\": \"#636efa\", \"size\": [32, 1, 1, 1, 1, 1, 1, 1, 1, 1, 1, 1, 1, 1, 1, 1], \"sizemode\": \"area\", \"sizeref\": 0.7725}, \"name\": \"Blue\", \"showlegend\": true, \"type\": \"scattergeo\"}, {\"geo\": \"geo\", \"hovertemplate\": \"<b>%{hovertext}</b><br><br>color=Red<br>Year=1997<br>Total=%{marker.size}<br>iso_alpha=%{location}<extra></extra>\", \"hovertext\": [\"Japan\", \"Canada\", \"Australia\", \"China\", \"Mexico\", \"South Korea\", \"Chile\"], \"legendgroup\": \"Red\", \"locations\": [\"JPN\", \"CAN\", \"AUS\", \"CHN\", \"MEX\", null, \"CHL\"], \"marker\": {\"color\": \"#EF553B\", \"size\": [7, 1, 1, 1, 1, 1, 1], \"sizemode\": \"area\", \"sizeref\": 0.7725}, \"name\": \"Red\", \"showlegend\": true, \"type\": \"scattergeo\"}], \"name\": \"1997\"}, {\"data\": [{\"geo\": \"geo\", \"hovertemplate\": \"<b>%{hovertext}</b><br><br>color=Blue<br>Year=1998<br>Total=%{marker.size}<br>iso_alpha=%{location}<extra></extra>\", \"hovertext\": [\"Puerto Rico\", \"Japan\", \"United Kingdom\", \"Canada\", \"Germany\", \"Australia\", \"Sweden\", \"China\", \"New Zealand\", \"Mexico\", \"Poland\", \"South Korea\", \"Croatia\", \"Chile\", \"Czech Republic\"], \"legendgroup\": \"Blue\", \"locations\": [\"PRI\", \"JPN\", \"GBR\", \"CAN\", \"DEU\", \"AUS\", \"SWE\", \"CHN\", \"NZL\", \"MEX\", \"POL\", null, \"HRV\", \"CHL\", \"CZE\"], \"marker\": {\"color\": \"#636efa\", \"size\": [1, 1, 1, 1, 1, 1, 1, 1, 1, 1, 1, 1, 1, 1, 1], \"sizemode\": \"area\", \"sizeref\": 0.7725}, \"name\": \"Blue\", \"showlegend\": true, \"type\": \"scattergeo\"}, {\"geo\": \"geo\", \"hovertemplate\": \"<b>%{hovertext}</b><br><br>color=Red<br>Year=1998<br>Total=%{marker.size}<br>iso_alpha=%{location}<extra></extra>\", \"hovertext\": [\"United States\", \"Brazil\", \"Ireland\", \"United Arab Emirates\", \"Singapore\", \"Philippines\", \"Netherlands\", \"Argentina\"], \"legendgroup\": \"Red\", \"locations\": [\"USA\", \"BRA\", \"IRL\", null, \"SGP\", \"PHL\", \"NLD\", \"ARG\"], \"marker\": {\"color\": \"#EF553B\", \"size\": [14, 1, 1, 1, 1, 1, 1, 1], \"sizemode\": \"area\", \"sizeref\": 0.7725}, \"name\": \"Red\", \"showlegend\": true, \"type\": \"scattergeo\"}], \"name\": \"1998\"}, {\"data\": [{\"geo\": \"geo\", \"hovertemplate\": \"<b>%{hovertext}</b><br><br>color=Blue<br>Year=1999<br>Total=%{marker.size}<br>iso_alpha=%{location}<extra></extra>\", \"hovertext\": [\"United States\", \"Japan\", \"Brazil\", \"Canada\", \"Ireland\", \"Australia\", \"United Arab Emirates\", \"China\", \"Singapore\", \"Mexico\", \"Philippines\", \"South Korea\", \"Netherlands\", \"Chile\", \"Argentina\"], \"legendgroup\": \"Blue\", \"locations\": [\"USA\", \"JPN\", \"BRA\", \"CAN\", \"IRL\", \"AUS\", null, \"CHN\", \"SGP\", \"MEX\", \"PHL\", null, \"NLD\", \"CHL\", \"ARG\"], \"marker\": {\"color\": \"#636efa\", \"size\": [36, 7, 1, 1, 1, 1, 1, 1, 1, 1, 1, 1, 1, 1, 1], \"sizemode\": \"area\", \"sizeref\": 0.7725}, \"name\": \"Blue\", \"showlegend\": true, \"type\": \"scattergeo\"}, {\"geo\": \"geo\", \"hovertemplate\": \"<b>%{hovertext}</b><br><br>color=Red<br>Year=1999<br>Total=%{marker.size}<br>iso_alpha=%{location}<extra></extra>\", \"hovertext\": [\"Puerto Rico\", \"United Kingdom\", \"Germany\", \"Sweden\", \"New Zealand\", \"Poland\", \"Croatia\", \"Czech Republic\"], \"legendgroup\": \"Red\", \"locations\": [\"PRI\", \"GBR\", \"DEU\", \"SWE\", \"NZL\", \"POL\", \"HRV\", \"CZE\"], \"marker\": {\"color\": \"#EF553B\", \"size\": [1, 1, 1, 1, 1, 1, 1, 1], \"sizemode\": \"area\", \"sizeref\": 0.7725}, \"name\": \"Red\", \"showlegend\": true, \"type\": \"scattergeo\"}], \"name\": \"1999\"}, {\"data\": [{\"geo\": \"geo\", \"hovertemplate\": \"<b>%{hovertext}</b><br><br>color=Blue<br>Year=2000<br>Total=%{marker.size}<br>iso_alpha=%{location}<extra></extra>\", \"hovertext\": [\"United States\", \"Puerto Rico\", \"Brazil\", \"United Kingdom\", \"Ireland\", \"Germany\", \"United Arab Emirates\", \"Sweden\", \"Singapore\", \"New Zealand\", \"Philippines\", \"Poland\", \"Netherlands\", \"Croatia\", \"Argentina\", \"Czech Republic\"], \"legendgroup\": \"Blue\", \"locations\": [\"USA\", \"PRI\", \"BRA\", \"GBR\", \"IRL\", \"DEU\", null, \"SWE\", \"SGP\", \"NZL\", \"PHL\", \"POL\", \"NLD\", \"HRV\", \"ARG\", \"CZE\"], \"marker\": {\"color\": \"#636efa\", \"size\": [28, 1, 1, 1, 1, 1, 1, 1, 1, 1, 1, 1, 1, 1, 1, 1], \"sizemode\": \"area\", \"sizeref\": 0.7725}, \"name\": \"Blue\", \"showlegend\": true, \"type\": \"scattergeo\"}, {\"geo\": \"geo\", \"hovertemplate\": \"<b>%{hovertext}</b><br><br>color=Red<br>Year=2000<br>Total=%{marker.size}<br>iso_alpha=%{location}<extra></extra>\", \"hovertext\": [\"Japan\", \"Canada\", \"Australia\", \"China\", \"Mexico\", \"South Korea\", \"Chile\"], \"legendgroup\": \"Red\", \"locations\": [\"JPN\", \"CAN\", \"AUS\", \"CHN\", \"MEX\", null, \"CHL\"], \"marker\": {\"color\": \"#EF553B\", \"size\": [13, 1, 1, 1, 1, 1, 1], \"sizemode\": \"area\", \"sizeref\": 0.7725}, \"name\": \"Red\", \"showlegend\": true, \"type\": \"scattergeo\"}], \"name\": \"2000\"}, {\"data\": [{\"geo\": \"geo\", \"hovertemplate\": \"<b>%{hovertext}</b><br><br>color=Blue<br>Year=2001<br>Total=%{marker.size}<br>iso_alpha=%{location}<extra></extra>\", \"hovertext\": [\"Puerto Rico\", \"Japan\", \"United Kingdom\", \"Canada\", \"Germany\", \"Australia\", \"Sweden\", \"China\", \"New Zealand\", \"Mexico\", \"Poland\", \"South Korea\", \"Croatia\", \"Chile\", \"Czech Republic\"], \"legendgroup\": \"Blue\", \"locations\": [\"PRI\", \"JPN\", \"GBR\", \"CAN\", \"DEU\", \"AUS\", \"SWE\", \"CHN\", \"NZL\", \"MEX\", \"POL\", null, \"HRV\", \"CHL\", \"CZE\"], \"marker\": {\"color\": \"#636efa\", \"size\": [1, 1, 1, 1, 1, 1, 1, 1, 1, 1, 1, 1, 1, 1, 1], \"sizemode\": \"area\", \"sizeref\": 0.7725}, \"name\": \"Blue\", \"showlegend\": true, \"type\": \"scattergeo\"}, {\"geo\": \"geo\", \"hovertemplate\": \"<b>%{hovertext}</b><br><br>color=Red<br>Year=2001<br>Total=%{marker.size}<br>iso_alpha=%{location}<extra></extra>\", \"hovertext\": [\"United States\", \"Brazil\", \"Ireland\", \"United Arab Emirates\", \"Singapore\", \"Philippines\", \"Netherlands\", \"Argentina\"], \"legendgroup\": \"Red\", \"locations\": [\"USA\", \"BRA\", \"IRL\", null, \"SGP\", \"PHL\", \"NLD\", \"ARG\"], \"marker\": {\"color\": \"#EF553B\", \"size\": [40, 1, 1, 1, 1, 1, 1, 1], \"sizemode\": \"area\", \"sizeref\": 0.7725}, \"name\": \"Red\", \"showlegend\": true, \"type\": \"scattergeo\"}], \"name\": \"2001\"}, {\"data\": [{\"geo\": \"geo\", \"hovertemplate\": \"<b>%{hovertext}</b><br><br>color=Blue<br>Year=2002<br>Total=%{marker.size}<br>iso_alpha=%{location}<extra></extra>\", \"hovertext\": [\"United States\", \"Japan\", \"Brazil\", \"Canada\", \"Ireland\", \"Australia\", \"United Arab Emirates\", \"China\", \"Singapore\", \"Mexico\", \"Philippines\", \"South Korea\", \"Netherlands\", \"Chile\", \"Argentina\"], \"legendgroup\": \"Blue\", \"locations\": [\"USA\", \"JPN\", \"BRA\", \"CAN\", \"IRL\", \"AUS\", null, \"CHN\", \"SGP\", \"MEX\", \"PHL\", null, \"NLD\", \"CHL\", \"ARG\"], \"marker\": {\"color\": \"#636efa\", \"size\": [46, 1, 1, 1, 1, 1, 1, 1, 1, 1, 1, 1, 1, 1, 1], \"sizemode\": \"area\", \"sizeref\": 0.7725}, \"name\": \"Blue\", \"showlegend\": true, \"type\": \"scattergeo\"}, {\"geo\": \"geo\", \"hovertemplate\": \"<b>%{hovertext}</b><br><br>color=Red<br>Year=2002<br>Total=%{marker.size}<br>iso_alpha=%{location}<extra></extra>\", \"hovertext\": [\"Puerto Rico\", \"United Kingdom\", \"Germany\", \"Sweden\", \"New Zealand\", \"Poland\", \"Croatia\", \"Czech Republic\"], \"legendgroup\": \"Red\", \"locations\": [\"PRI\", \"GBR\", \"DEU\", \"SWE\", \"NZL\", \"POL\", \"HRV\", \"CZE\"], \"marker\": {\"color\": \"#EF553B\", \"size\": [1, 7, 1, 1, 1, 1, 1, 1], \"sizemode\": \"area\", \"sizeref\": 0.7725}, \"name\": \"Red\", \"showlegend\": true, \"type\": \"scattergeo\"}], \"name\": \"2002\"}, {\"data\": [{\"geo\": \"geo\", \"hovertemplate\": \"<b>%{hovertext}</b><br><br>color=Blue<br>Year=2003<br>Total=%{marker.size}<br>iso_alpha=%{location}<extra></extra>\", \"hovertext\": [\"United States\", \"Puerto Rico\", \"Brazil\", \"United Kingdom\", \"Ireland\", \"Germany\", \"United Arab Emirates\", \"Sweden\", \"Singapore\", \"New Zealand\", \"Philippines\", \"Poland\", \"Netherlands\", \"Croatia\", \"Argentina\", \"Czech Republic\"], \"legendgroup\": \"Blue\", \"locations\": [\"USA\", \"PRI\", \"BRA\", \"GBR\", \"IRL\", \"DEU\", null, \"SWE\", \"SGP\", \"NZL\", \"PHL\", \"POL\", \"NLD\", \"HRV\", \"ARG\", \"CZE\"], \"marker\": {\"color\": \"#636efa\", \"size\": [41, 1, 1, 1, 1, 1, 1, 1, 1, 1, 1, 1, 1, 1, 1, 1], \"sizemode\": \"area\", \"sizeref\": 0.7725}, \"name\": \"Blue\", \"showlegend\": true, \"type\": \"scattergeo\"}, {\"geo\": \"geo\", \"hovertemplate\": \"<b>%{hovertext}</b><br><br>color=Red<br>Year=2003<br>Total=%{marker.size}<br>iso_alpha=%{location}<extra></extra>\", \"hovertext\": [\"Japan\", \"Canada\", \"Australia\", \"China\", \"Mexico\", \"South Korea\", \"Chile\"], \"legendgroup\": \"Red\", \"locations\": [\"JPN\", \"CAN\", \"AUS\", \"CHN\", \"MEX\", null, \"CHL\"], \"marker\": {\"color\": \"#EF553B\", \"size\": [1, 1, 1, 1, 1, 1, 1], \"sizemode\": \"area\", \"sizeref\": 0.7725}, \"name\": \"Red\", \"showlegend\": true, \"type\": \"scattergeo\"}], \"name\": \"2003\"}, {\"data\": [{\"geo\": \"geo\", \"hovertemplate\": \"<b>%{hovertext}</b><br><br>color=Blue<br>Year=2004<br>Total=%{marker.size}<br>iso_alpha=%{location}<extra></extra>\", \"hovertext\": [\"Puerto Rico\", \"Japan\", \"United Kingdom\", \"Canada\", \"Germany\", \"Australia\", \"Sweden\", \"China\", \"New Zealand\", \"Mexico\", \"Poland\", \"South Korea\", \"Croatia\", \"Chile\", \"Czech Republic\"], \"legendgroup\": \"Blue\", \"locations\": [\"PRI\", \"JPN\", \"GBR\", \"CAN\", \"DEU\", \"AUS\", \"SWE\", \"CHN\", \"NZL\", \"MEX\", \"POL\", null, \"HRV\", \"CHL\", \"CZE\"], \"marker\": {\"color\": \"#636efa\", \"size\": [1, 1, 1, 1, 1, 1, 1, 1, 1, 1, 1, 1, 1, 1, 1], \"sizemode\": \"area\", \"sizeref\": 0.7725}, \"name\": \"Blue\", \"showlegend\": true, \"type\": \"scattergeo\"}, {\"geo\": \"geo\", \"hovertemplate\": \"<b>%{hovertext}</b><br><br>color=Red<br>Year=2004<br>Total=%{marker.size}<br>iso_alpha=%{location}<extra></extra>\", \"hovertext\": [\"United States\", \"Brazil\", \"Ireland\", \"United Arab Emirates\", \"Singapore\", \"Philippines\", \"Netherlands\", \"Argentina\"], \"legendgroup\": \"Red\", \"locations\": [\"USA\", \"BRA\", \"IRL\", null, \"SGP\", \"PHL\", \"NLD\", \"ARG\"], \"marker\": {\"color\": \"#EF553B\", \"size\": [39, 1, 1, 1, 1, 1, 1, 1], \"sizemode\": \"area\", \"sizeref\": 0.7725}, \"name\": \"Red\", \"showlegend\": true, \"type\": \"scattergeo\"}], \"name\": \"2004\"}, {\"data\": [{\"geo\": \"geo\", \"hovertemplate\": \"<b>%{hovertext}</b><br><br>color=Blue<br>Year=2005<br>Total=%{marker.size}<br>iso_alpha=%{location}<extra></extra>\", \"hovertext\": [\"United States\", \"Japan\", \"Brazil\", \"Canada\", \"Ireland\", \"Australia\", \"United Arab Emirates\", \"China\", \"Singapore\", \"Mexico\", \"Philippines\", \"South Korea\", \"Netherlands\", \"Chile\", \"Argentina\"], \"legendgroup\": \"Blue\", \"locations\": [\"USA\", \"JPN\", \"BRA\", \"CAN\", \"IRL\", \"AUS\", null, \"CHN\", \"SGP\", \"MEX\", \"PHL\", null, \"NLD\", \"CHL\", \"ARG\"], \"marker\": {\"color\": \"#636efa\", \"size\": [80, 1, 1, 1, 1, 1, 1, 1, 1, 1, 1, 1, 1, 1, 1], \"sizemode\": \"area\", \"sizeref\": 0.7725}, \"name\": \"Blue\", \"showlegend\": true, \"type\": \"scattergeo\"}, {\"geo\": \"geo\", \"hovertemplate\": \"<b>%{hovertext}</b><br><br>color=Red<br>Year=2005<br>Total=%{marker.size}<br>iso_alpha=%{location}<extra></extra>\", \"hovertext\": [\"Puerto Rico\", \"United Kingdom\", \"Germany\", \"Sweden\", \"New Zealand\", \"Poland\", \"Croatia\", \"Czech Republic\"], \"legendgroup\": \"Red\", \"locations\": [\"PRI\", \"GBR\", \"DEU\", \"SWE\", \"NZL\", \"POL\", \"HRV\", \"CZE\"], \"marker\": {\"color\": \"#EF553B\", \"size\": [1, 1, 1, 1, 1, 1, 1, 1], \"sizemode\": \"area\", \"sizeref\": 0.7725}, \"name\": \"Red\", \"showlegend\": true, \"type\": \"scattergeo\"}], \"name\": \"2005\"}, {\"data\": [{\"geo\": \"geo\", \"hovertemplate\": \"<b>%{hovertext}</b><br><br>color=Blue<br>Year=2006<br>Total=%{marker.size}<br>iso_alpha=%{location}<extra></extra>\", \"hovertext\": [\"United States\", \"Puerto Rico\", \"Brazil\", \"United Kingdom\", \"Ireland\", \"Germany\", \"United Arab Emirates\", \"Sweden\", \"Singapore\", \"New Zealand\", \"Philippines\", \"Poland\", \"Netherlands\", \"Croatia\", \"Argentina\", \"Czech Republic\"], \"legendgroup\": \"Blue\", \"locations\": [\"USA\", \"PRI\", \"BRA\", \"GBR\", \"IRL\", \"DEU\", null, \"SWE\", \"SGP\", \"NZL\", \"PHL\", \"POL\", \"NLD\", \"HRV\", \"ARG\", \"CZE\"], \"marker\": {\"color\": \"#636efa\", \"size\": [158, 1, 1, 1, 1, 1, 1, 1, 1, 1, 1, 1, 1, 1, 1, 1], \"sizemode\": \"area\", \"sizeref\": 0.7725}, \"name\": \"Blue\", \"showlegend\": true, \"type\": \"scattergeo\"}, {\"geo\": \"geo\", \"hovertemplate\": \"<b>%{hovertext}</b><br><br>color=Red<br>Year=2006<br>Total=%{marker.size}<br>iso_alpha=%{location}<extra></extra>\", \"hovertext\": [\"Japan\", \"Canada\", \"Australia\", \"China\", \"Mexico\", \"South Korea\", \"Chile\"], \"legendgroup\": \"Red\", \"locations\": [\"JPN\", \"CAN\", \"AUS\", \"CHN\", \"MEX\", null, \"CHL\"], \"marker\": {\"color\": \"#EF553B\", \"size\": [1, 1, 1, 1, 1, 1, 1], \"sizemode\": \"area\", \"sizeref\": 0.7725}, \"name\": \"Red\", \"showlegend\": true, \"type\": \"scattergeo\"}], \"name\": \"2006\"}, {\"data\": [{\"geo\": \"geo\", \"hovertemplate\": \"<b>%{hovertext}</b><br><br>color=Blue<br>Year=2007<br>Total=%{marker.size}<br>iso_alpha=%{location}<extra></extra>\", \"hovertext\": [\"United States\", \"Japan\", \"United Kingdom\", \"Canada\", \"Germany\", \"Australia\", \"Sweden\", \"China\", \"New Zealand\", \"Mexico\", \"Poland\", \"South Korea\", \"Croatia\", \"Chile\", \"Czech Republic\"], \"legendgroup\": \"Blue\", \"locations\": [\"USA\", \"JPN\", \"GBR\", \"CAN\", \"DEU\", \"AUS\", \"SWE\", \"CHN\", \"NZL\", \"MEX\", \"POL\", null, \"HRV\", \"CHL\", \"CZE\"], \"marker\": {\"color\": \"#636efa\", \"size\": [1, 1, 27, 1, 1, 1, 1, 1, 1, 1, 1, 1, 1, 1, 1], \"sizemode\": \"area\", \"sizeref\": 0.7725}, \"name\": \"Blue\", \"showlegend\": true, \"type\": \"scattergeo\"}, {\"geo\": \"geo\", \"hovertemplate\": \"<b>%{hovertext}</b><br><br>color=Red<br>Year=2007<br>Total=%{marker.size}<br>iso_alpha=%{location}<extra></extra>\", \"hovertext\": [\"USA\", \"Brazil\", \"Ireland\", \"United Arab Emirates\", \"Singapore\", \"Philippines\", \"Netherlands\", \"Argentina\"], \"legendgroup\": \"Red\", \"locations\": [null, \"BRA\", \"IRL\", null, \"SGP\", \"PHL\", \"NLD\", \"ARG\"], \"marker\": {\"color\": \"#EF553B\", \"size\": [144, 1, 1, 1, 1, 1, 1, 1], \"sizemode\": \"area\", \"sizeref\": 0.7725}, \"name\": \"Red\", \"showlegend\": true, \"type\": \"scattergeo\"}], \"name\": \"2007\"}, {\"data\": [{\"geo\": \"geo\", \"hovertemplate\": \"<b>%{hovertext}</b><br><br>color=Blue<br>Year=2008<br>Total=%{marker.size}<br>iso_alpha=%{location}<extra></extra>\", \"hovertext\": [\"United States\", \"Japan\", \"Brazil\", \"Canada\", \"Ireland\", \"Australia\", \"United Arab Emirates\", \"China\", \"Singapore\", \"Mexico\", \"Philippines\", \"South Korea\", \"Netherlands\", \"Chile\", \"Argentina\"], \"legendgroup\": \"Blue\", \"locations\": [\"USA\", \"JPN\", \"BRA\", \"CAN\", \"IRL\", \"AUS\", null, \"CHN\", \"SGP\", \"MEX\", \"PHL\", null, \"NLD\", \"CHL\", \"ARG\"], \"marker\": {\"color\": \"#636efa\", \"size\": [159, 1, 1, 11, 1, 1, 1, 1, 1, 1, 1, 1, 1, 1, 1], \"sizemode\": \"area\", \"sizeref\": 0.7725}, \"name\": \"Blue\", \"showlegend\": true, \"type\": \"scattergeo\"}, {\"geo\": \"geo\", \"hovertemplate\": \"<b>%{hovertext}</b><br><br>color=Red<br>Year=2008<br>Total=%{marker.size}<br>iso_alpha=%{location}<extra></extra>\", \"hovertext\": [\"Puerto Rico\", \"United Kingdom\", \"Germany\", \"Sweden\", \"New Zealand\", \"Poland\", \"Croatia\", \"Czech Republic\"], \"legendgroup\": \"Red\", \"locations\": [\"PRI\", \"GBR\", \"DEU\", \"SWE\", \"NZL\", \"POL\", \"HRV\", \"CZE\"], \"marker\": {\"color\": \"#EF553B\", \"size\": [1, 31, 1, 1, 1, 1, 1, 1], \"sizemode\": \"area\", \"sizeref\": 0.7725}, \"name\": \"Red\", \"showlegend\": true, \"type\": \"scattergeo\"}], \"name\": \"2008\"}, {\"data\": [{\"geo\": \"geo\", \"hovertemplate\": \"<b>%{hovertext}</b><br><br>color=Blue<br>Year=2009<br>Total=%{marker.size}<br>iso_alpha=%{location}<extra></extra>\", \"hovertext\": [\"United States\", \"Puerto Rico\", \"Brazil\", \"United Kingdom\", \"Ireland\", \"Germany\", \"United Arab Emirates\", \"Sweden\", \"Singapore\", \"New Zealand\", \"Philippines\", \"Poland\", \"Netherlands\", \"Croatia\", \"Argentina\", \"Czech Republic\"], \"legendgroup\": \"Blue\", \"locations\": [\"USA\", \"PRI\", \"BRA\", \"GBR\", \"IRL\", \"DEU\", null, \"SWE\", \"SGP\", \"NZL\", \"PHL\", \"POL\", \"NLD\", \"HRV\", \"ARG\", \"CZE\"], \"marker\": {\"color\": \"#636efa\", \"size\": [160, 1, 1, 21, 10, 12, 1, 1, 1, 1, 1, 1, 1, 1, 1, 1], \"sizemode\": \"area\", \"sizeref\": 0.7725}, \"name\": \"Blue\", \"showlegend\": true, \"type\": \"scattergeo\"}, {\"geo\": \"geo\", \"hovertemplate\": \"<b>%{hovertext}</b><br><br>color=Red<br>Year=2009<br>Total=%{marker.size}<br>iso_alpha=%{location}<extra></extra>\", \"hovertext\": [\"Japan\", \"Canada\", \"Australia\", \"China\", \"Mexico\", \"South Korea\", \"Chile\"], \"legendgroup\": \"Red\", \"locations\": [\"JPN\", \"CAN\", \"AUS\", \"CHN\", \"MEX\", null, \"CHL\"], \"marker\": {\"color\": \"#EF553B\", \"size\": [1, 12, 1, 1, 1, 1, 1], \"sizemode\": \"area\", \"sizeref\": 0.7725}, \"name\": \"Red\", \"showlegend\": true, \"type\": \"scattergeo\"}], \"name\": \"2009\"}, {\"data\": [{\"geo\": \"geo\", \"hovertemplate\": \"<b>%{hovertext}</b><br><br>color=Blue<br>Year=2010<br>Total=%{marker.size}<br>iso_alpha=%{location}<extra></extra>\", \"hovertext\": [\"Puerto Rico\", \"Japan\", \"United Kingdom\", \"Canada\", \"Germany\", \"Australia\", \"Sweden\", \"China\", \"New Zealand\", \"Mexico\", \"Poland\", \"South Korea\", \"Croatia\", \"Chile\", \"Czech Republic\"], \"legendgroup\": \"Blue\", \"locations\": [\"PRI\", \"JPN\", \"GBR\", \"CAN\", \"DEU\", \"AUS\", \"SWE\", \"CHN\", \"NZL\", \"MEX\", \"POL\", null, \"HRV\", \"CHL\", \"CZE\"], \"marker\": {\"color\": \"#636efa\", \"size\": [1, 1, 10, 33, 10, 9, 1, 1, 1, 1, 1, 1, 1, 1, 1], \"sizemode\": \"area\", \"sizeref\": 0.7725}, \"name\": \"Blue\", \"showlegend\": true, \"type\": \"scattergeo\"}, {\"geo\": \"geo\", \"hovertemplate\": \"<b>%{hovertext}</b><br><br>color=Red<br>Year=2010<br>Total=%{marker.size}<br>iso_alpha=%{location}<extra></extra>\", \"hovertext\": [\"United States\", \"Brazil\", \"Ireland\", \"United Arab Emirates\", \"Singapore\", \"Philippines\", \"Netherlands\", \"Argentina\"], \"legendgroup\": \"Red\", \"locations\": [\"USA\", \"BRA\", \"IRL\", null, \"SGP\", \"PHL\", \"NLD\", \"ARG\"], \"marker\": {\"color\": \"#EF553B\", \"size\": [181, 1, 1, 10, 1, 1, 1, 1], \"sizemode\": \"area\", \"sizeref\": 0.7725}, \"name\": \"Red\", \"showlegend\": true, \"type\": \"scattergeo\"}], \"name\": \"2010\"}, {\"data\": [{\"geo\": \"geo\", \"hovertemplate\": \"<b>%{hovertext}</b><br><br>color=Blue<br>Year=2011<br>Total=%{marker.size}<br>iso_alpha=%{location}<extra></extra>\", \"hovertext\": [\"United States\", \"Japan\", \"Brazil\", \"Canada\", \"Ireland\", \"Australia\", \"United Arab Emirates\", \"China\", \"Singapore\", \"Mexico\", \"Philippines\", \"South Korea\", \"Netherlands\", \"Chile\", \"Argentina\"], \"legendgroup\": \"Blue\", \"locations\": [\"USA\", \"JPN\", \"BRA\", \"CAN\", \"IRL\", \"AUS\", null, \"CHN\", \"SGP\", \"MEX\", \"PHL\", null, \"NLD\", \"CHL\", \"ARG\"], \"marker\": {\"color\": \"#636efa\", \"size\": [230, 1, 12, 36, 1, 12, 1, 1, 1, 1, 1, 1, 1, 1, 1], \"sizemode\": \"area\", \"sizeref\": 0.7725}, \"name\": \"Blue\", \"showlegend\": true, \"type\": \"scattergeo\"}, {\"geo\": \"geo\", \"hovertemplate\": \"<b>%{hovertext}</b><br><br>color=Red<br>Year=2011<br>Total=%{marker.size}<br>iso_alpha=%{location}<extra></extra>\", \"hovertext\": [\"Puerto Rico\", \"United Kingdom\", \"Germany\", \"Sweden\", \"New Zealand\", \"Poland\", \"Croatia\", \"Czech Republic\"], \"legendgroup\": \"Red\", \"locations\": [\"PRI\", \"GBR\", \"DEU\", \"SWE\", \"NZL\", \"POL\", \"HRV\", \"CZE\"], \"marker\": {\"color\": \"#EF553B\", \"size\": [1, 10, 1, 1, 1, 1, 1, 1], \"sizemode\": \"area\", \"sizeref\": 0.7725}, \"name\": \"Red\", \"showlegend\": true, \"type\": \"scattergeo\"}], \"name\": \"2011\"}, {\"data\": [{\"geo\": \"geo\", \"hovertemplate\": \"<b>%{hovertext}</b><br><br>color=Blue<br>Year=2012<br>Total=%{marker.size}<br>iso_alpha=%{location}<extra></extra>\", \"hovertext\": [\"United States\", \"Puerto Rico\", \"Brazil\", \"United Kingdom\", \"Ireland\", \"Germany\", \"United Arab Emirates\", \"Sweden\", \"Singapore\", \"New Zealand\", \"Philippines\", \"Poland\", \"Netherlands\", \"Croatia\", \"Argentina\", \"Czech Republic\"], \"legendgroup\": \"Blue\", \"locations\": [\"USA\", \"PRI\", \"BRA\", \"GBR\", \"IRL\", \"DEU\", null, \"SWE\", \"SGP\", \"NZL\", \"PHL\", \"POL\", \"NLD\", \"HRV\", \"ARG\", \"CZE\"], \"marker\": {\"color\": \"#636efa\", \"size\": [208, 1, 33, 11, 1, 1, 1, 12, 1, 1, 1, 1, 1, 1, 1, 1], \"sizemode\": \"area\", \"sizeref\": 0.7725}, \"name\": \"Blue\", \"showlegend\": true, \"type\": \"scattergeo\"}, {\"geo\": \"geo\", \"hovertemplate\": \"<b>%{hovertext}</b><br><br>color=Red<br>Year=2012<br>Total=%{marker.size}<br>iso_alpha=%{location}<extra></extra>\", \"hovertext\": [\"Japan\", \"Canada\", \"Australia\", \"China\", \"Mexico\", \"South Korea\", \"Chile\"], \"legendgroup\": \"Red\", \"locations\": [\"JPN\", \"CAN\", \"AUS\", \"CHN\", \"MEX\", null, \"CHL\"], \"marker\": {\"color\": \"#EF553B\", \"size\": [12, 35, 21, 9, 1, 1, 1], \"sizemode\": \"area\", \"sizeref\": 0.7725}, \"name\": \"Red\", \"showlegend\": true, \"type\": \"scattergeo\"}], \"name\": \"2012\"}, {\"data\": [{\"geo\": \"geo\", \"hovertemplate\": \"<b>%{hovertext}</b><br><br>color=Blue<br>Year=2013<br>Total=%{marker.size}<br>iso_alpha=%{location}<extra></extra>\", \"hovertext\": [\"Puerto Rico\", \"Japan\", \"United Kingdom\", \"Canada\", \"Germany\", \"Australia\", \"Sweden\", \"China\", \"New Zealand\", \"Mexico\", \"Poland\", \"South Korea\", \"Croatia\", \"Chile\", \"Czech Republic\"], \"legendgroup\": \"Blue\", \"locations\": [\"PRI\", \"JPN\", \"GBR\", \"CAN\", \"DEU\", \"AUS\", \"SWE\", \"CHN\", \"NZL\", \"MEX\", \"POL\", null, \"HRV\", \"CHL\", \"CZE\"], \"marker\": {\"color\": \"#636efa\", \"size\": [1, 11, 24, 36, 1, 11, 13, 1, 1, 1, 1, 1, 1, 1, 1], \"sizemode\": \"area\", \"sizeref\": 0.7725}, \"name\": \"Blue\", \"showlegend\": true, \"type\": \"scattergeo\"}, {\"geo\": \"geo\", \"hovertemplate\": \"<b>%{hovertext}</b><br><br>color=Red<br>Year=2013<br>Total=%{marker.size}<br>iso_alpha=%{location}<extra></extra>\", \"hovertext\": [\"United States\", \"Brazil\", \"Ireland\", \"United Arab Emirates\", \"Singapore\", \"Philippines\", \"Netherlands\", \"Argentina\"], \"legendgroup\": \"Red\", \"locations\": [\"USA\", \"BRA\", \"IRL\", null, \"SGP\", \"PHL\", \"NLD\", \"ARG\"], \"marker\": {\"color\": \"#EF553B\", \"size\": [211, 1, 1, 1, 1, 1, 1, 1], \"sizemode\": \"area\", \"sizeref\": 0.7725}, \"name\": \"Red\", \"showlegend\": true, \"type\": \"scattergeo\"}], \"name\": \"2013\"}, {\"data\": [{\"geo\": \"geo\", \"hovertemplate\": \"<b>%{hovertext}</b><br><br>color=Blue<br>Year=2014<br>Total=%{marker.size}<br>iso_alpha=%{location}<extra></extra>\", \"hovertext\": [\"United States\", \"Japan\", \"Brazil\", \"Canada\", \"Ireland\", \"Australia\", \"United Arab Emirates\", \"China\", \"Singapore\", \"Mexico\", \"Philippines\", \"South Korea\", \"Netherlands\", \"Chile\", \"Argentina\"], \"legendgroup\": \"Blue\", \"locations\": [\"USA\", \"JPN\", \"BRA\", \"CAN\", \"IRL\", \"AUS\", null, \"CHN\", \"SGP\", \"MEX\", \"PHL\", null, \"NLD\", \"CHL\", \"ARG\"], \"marker\": {\"color\": \"#636efa\", \"size\": [268, 12, 79, 35, 10, 11, 8, 18, 10, 11, 1, 1, 1, 1, 1], \"sizemode\": \"area\", \"sizeref\": 0.7725}, \"name\": \"Blue\", \"showlegend\": true, \"type\": \"scattergeo\"}, {\"geo\": \"geo\", \"hovertemplate\": \"<b>%{hovertext}</b><br><br>color=Red<br>Year=2014<br>Total=%{marker.size}<br>iso_alpha=%{location}<extra></extra>\", \"hovertext\": [\"Puerto Rico\", \"United Kingdom\", \"Germany\", \"Sweden\", \"New Zealand\", \"Poland\", \"Croatia\", \"Czech Republic\"], \"legendgroup\": \"Red\", \"locations\": [\"PRI\", \"GBR\", \"DEU\", \"SWE\", \"NZL\", \"POL\", \"HRV\", \"CZE\"], \"marker\": {\"color\": \"#EF553B\", \"size\": [1, 9, 10, 11, 10, 1, 1, 1], \"sizemode\": \"area\", \"sizeref\": 0.7725}, \"name\": \"Red\", \"showlegend\": true, \"type\": \"scattergeo\"}], \"name\": \"2014\"}, {\"data\": [{\"geo\": \"geo\", \"hovertemplate\": \"<b>%{hovertext}</b><br><br>color=Blue<br>Year=2015<br>Total=%{marker.size}<br>iso_alpha=%{location}<extra></extra>\", \"hovertext\": [\"United States\", \"Puerto Rico\", \"Brazil\", \"United Kingdom\", \"Ireland\", \"Germany\", \"United Arab Emirates\", \"Sweden\", \"Singapore\", \"New Zealand\", \"Philippines\", \"Poland\", \"Netherlands\", \"Croatia\", \"Argentina\", \"Czech Republic\"], \"legendgroup\": \"Blue\", \"locations\": [\"USA\", \"PRI\", \"BRA\", \"GBR\", \"IRL\", \"DEU\", null, \"SWE\", \"SGP\", \"NZL\", \"PHL\", \"POL\", \"NLD\", \"HRV\", \"ARG\", \"CZE\"], \"marker\": {\"color\": \"#636efa\", \"size\": [249, 1, 61, 12, 10, 11, 1, 12, 1, 1, 12, 12, 1, 1, 1, 1], \"sizemode\": \"area\", \"sizeref\": 0.7725}, \"name\": \"Blue\", \"showlegend\": true, \"type\": \"scattergeo\"}, {\"geo\": \"geo\", \"hovertemplate\": \"<b>%{hovertext}</b><br><br>color=Red<br>Year=2015<br>Total=%{marker.size}<br>iso_alpha=%{location}<extra></extra>\", \"hovertext\": [\"Japan\", \"Canada\", \"Australia\", \"China\", \"Mexico\", \"South Korea\", \"Chile\"], \"legendgroup\": \"Red\", \"locations\": [\"JPN\", \"CAN\", \"AUS\", \"CHN\", \"MEX\", null, \"CHL\"], \"marker\": {\"color\": \"#EF553B\", \"size\": [10, 24, 25, 1, 24, 11, 1], \"sizemode\": \"area\", \"sizeref\": 0.7725}, \"name\": \"Red\", \"showlegend\": true, \"type\": \"scattergeo\"}], \"name\": \"2015\"}, {\"data\": [{\"geo\": \"geo\", \"hovertemplate\": \"<b>%{hovertext}</b><br><br>color=Blue<br>Year=2016<br>Total=%{marker.size}<br>iso_alpha=%{location}<extra></extra>\", \"hovertext\": [\"Puerto Rico\", \"Japan\", \"United Kingdom\", \"Canada\", \"Germany\", \"Australia\", \"Sweden\", \"China\", \"New Zealand\", \"Mexico\", \"Poland\", \"South Korea\", \"Croatia\", \"Chile\", \"Czech Republic\"], \"legendgroup\": \"Blue\", \"locations\": [\"PRI\", \"JPN\", \"GBR\", \"CAN\", \"DEU\", \"AUS\", \"SWE\", \"CHN\", \"NZL\", \"MEX\", \"POL\", null, \"HRV\", \"CHL\", \"CZE\"], \"marker\": {\"color\": \"#636efa\", \"size\": [1, 1, 37, 35, 11, 25, 1, 1, 1, 13, 1, 1, 13, 1, 1], \"sizemode\": \"area\", \"sizeref\": 0.7725}, \"name\": \"Blue\", \"showlegend\": true, \"type\": \"scattergeo\"}, {\"geo\": \"geo\", \"hovertemplate\": \"<b>%{hovertext}</b><br><br>color=Red<br>Year=2016<br>Total=%{marker.size}<br>iso_alpha=%{location}<extra></extra>\", \"hovertext\": [\"United States\", \"Brazil\", \"Ireland\", \"United Arab Emirates\", \"Singapore\", \"Philippines\", \"Netherlands\", \"Argentina\"], \"legendgroup\": \"Red\", \"locations\": [\"USA\", \"BRA\", \"IRL\", null, \"SGP\", \"PHL\", \"NLD\", \"ARG\"], \"marker\": {\"color\": \"#EF553B\", \"size\": [309, 37, 1, 1, 1, 1, 13, 1], \"sizemode\": \"area\", \"sizeref\": 0.7725}, \"name\": \"Red\", \"showlegend\": true, \"type\": \"scattergeo\"}], \"name\": \"2016\"}, {\"data\": [{\"geo\": \"geo\", \"hovertemplate\": \"<b>%{hovertext}</b><br><br>color=Blue<br>Year=2017<br>Total=%{marker.size}<br>iso_alpha=%{location}<extra></extra>\", \"hovertext\": [\"United States\", \"Japan\", \"Brazil\", \"Canada\", \"Ireland\", \"Australia\", \"United Arab Emirates\", \"China\", \"Singapore\", \"Mexico\", \"Philippines\", \"South Korea\", \"Netherlands\", \"Chile\", \"Argentina\"], \"legendgroup\": \"Blue\", \"locations\": [\"USA\", \"JPN\", \"BRA\", \"CAN\", \"IRL\", \"AUS\", null, \"CHN\", \"SGP\", \"MEX\", \"PHL\", null, \"NLD\", \"CHL\", \"ARG\"], \"marker\": {\"color\": \"#636efa\", \"size\": [257, 10, 34, 33, 1, 13, 1, 12, 11, 12, 1, 1, 12, 1, 1], \"sizemode\": \"area\", \"sizeref\": 0.7725}, \"name\": \"Blue\", \"showlegend\": true, \"type\": \"scattergeo\"}, {\"geo\": \"geo\", \"hovertemplate\": \"<b>%{hovertext}</b><br><br>color=Red<br>Year=2017<br>Total=%{marker.size}<br>iso_alpha=%{location}<extra></extra>\", \"hovertext\": [\"Puerto Rico\", \"United Kingdom\", \"Germany\", \"Sweden\", \"New Zealand\", \"Poland\", \"Croatia\", \"Czech Republic\"], \"legendgroup\": \"Red\", \"locations\": [\"PRI\", \"GBR\", \"DEU\", \"SWE\", \"NZL\", \"POL\", \"HRV\", \"CZE\"], \"marker\": {\"color\": \"#EF553B\", \"size\": [1, 23, 1, 12, 11, 11, 1, 1], \"sizemode\": \"area\", \"sizeref\": 0.7725}, \"name\": \"Red\", \"showlegend\": true, \"type\": \"scattergeo\"}], \"name\": \"2017\"}, {\"data\": [{\"geo\": \"geo\", \"hovertemplate\": \"<b>%{hovertext}</b><br><br>color=Blue<br>Year=2018<br>Total=%{marker.size}<br>iso_alpha=%{location}<extra></extra>\", \"hovertext\": [\"United States\", \"Puerto Rico\", \"Brazil\", \"United Kingdom\", \"Ireland\", \"Germany\", \"United Arab Emirates\", \"Sweden\", \"Singapore\", \"New Zealand\", \"Philippines\", \"Poland\", \"Netherlands\", \"Croatia\", \"Argentina\", \"Czech Republic\"], \"legendgroup\": \"Blue\", \"locations\": [\"USA\", \"PRI\", \"BRA\", \"GBR\", \"IRL\", \"DEU\", null, \"SWE\", \"SGP\", \"NZL\", \"PHL\", \"POL\", \"NLD\", \"HRV\", \"ARG\", \"CZE\"], \"marker\": {\"color\": \"#636efa\", \"size\": [277, 1, 38, 21, 1, 13, 1, 1, 13, 1, 1, 1, 1, 1, 12, 1], \"sizemode\": \"area\", \"sizeref\": 0.7725}, \"name\": \"Blue\", \"showlegend\": true, \"type\": \"scattergeo\"}, {\"geo\": \"geo\", \"hovertemplate\": \"<b>%{hovertext}</b><br><br>color=Red<br>Year=2018<br>Total=%{marker.size}<br>iso_alpha=%{location}<extra></extra>\", \"hovertext\": [\"Japan\", \"Canada\", \"Australia\", \"China\", \"Mexico\", \"South Korea\", \"Chile\"], \"legendgroup\": \"Red\", \"locations\": [\"JPN\", \"CAN\", \"AUS\", \"CHN\", \"MEX\", null, \"CHL\"], \"marker\": {\"color\": \"#EF553B\", \"size\": [1, 39, 24, 12, 1, 1, 13], \"sizemode\": \"area\", \"sizeref\": 0.7725}, \"name\": \"Red\", \"showlegend\": true, \"type\": \"scattergeo\"}], \"name\": \"2018\"}, {\"data\": [{\"geo\": \"geo\", \"hovertemplate\": \"<b>%{hovertext}</b><br><br>color=Blue<br>Year=2019<br>Total=%{marker.size}<br>iso_alpha=%{location}<extra></extra>\", \"hovertext\": [\"Puerto Rico\", \"Japan\", \"United Kingdom\", \"Canada\", \"Germany\", \"Australia\", \"Sweden\", \"China\", \"New Zealand\", \"Mexico\", \"Poland\", \"South Korea\", \"Croatia\", \"Chile\", \"Czech Republic\"], \"legendgroup\": \"Blue\", \"locations\": [\"PRI\", \"JPN\", \"GBR\", \"CAN\", \"DEU\", \"AUS\", \"SWE\", \"CHN\", \"NZL\", \"MEX\", \"POL\", null, \"HRV\", \"CHL\", \"CZE\"], \"marker\": {\"color\": \"#636efa\", \"size\": [1, 1, 12, 12, 1, 11, 12, 1, 1, 1, 1, 1, 1, 1, 13], \"sizemode\": \"area\", \"sizeref\": 0.7725}, \"name\": \"Blue\", \"showlegend\": true, \"type\": \"scattergeo\"}, {\"geo\": \"geo\", \"hovertemplate\": \"<b>%{hovertext}</b><br><br>color=Red<br>Year=2019<br>Total=%{marker.size}<br>iso_alpha=%{location}<extra></extra>\", \"hovertext\": [\"United States\", \"Brazil\", \"Ireland\", \"United Arab Emirates\", \"Singapore\", \"Philippines\", \"Netherlands\", \"Argentina\"], \"legendgroup\": \"Red\", \"locations\": [\"USA\", \"BRA\", \"IRL\", null, \"SGP\", \"PHL\", \"NLD\", \"ARG\"], \"marker\": {\"color\": \"#EF553B\", \"size\": [127, 25, 1, 1, 1, 1, 1, 1], \"sizemode\": \"area\", \"sizeref\": 0.7725}, \"name\": \"Red\", \"showlegend\": true, \"type\": \"scattergeo\"}], \"name\": \"2019\"}]);\n",
       "                        }).then(function(){\n",
       "                            \n",
       "var gd = document.getElementById('a0ccfdfb-94a9-419a-80b5-ac4fbd7bfb93');\n",
       "var x = new MutationObserver(function (mutations, observer) {{\n",
       "        var display = window.getComputedStyle(gd).display;\n",
       "        if (!display || display === 'none') {{\n",
       "            console.log([gd, 'removed!']);\n",
       "            Plotly.purge(gd);\n",
       "            observer.disconnect();\n",
       "        }}\n",
       "}});\n",
       "\n",
       "// Listen for the removal of the full notebook cells\n",
       "var notebookContainer = gd.closest('#notebook-container');\n",
       "if (notebookContainer) {{\n",
       "    x.observe(notebookContainer, {childList: true});\n",
       "}}\n",
       "\n",
       "// Listen for the clearing of the current output cell\n",
       "var outputEl = gd.closest('.output');\n",
       "if (outputEl) {{\n",
       "    x.observe(outputEl, {childList: true});\n",
       "}}\n",
       "\n",
       "                        })\n",
       "                };\n",
       "                });\n",
       "            </script>\n",
       "        </div>"
      ]
     },
     "metadata": {},
     "output_type": "display_data"
    }
   ],
   "source": [
    "colors3 = ['Blue','Red','Blue'] * 207\n",
    "fig = px.scatter_geo(df3, locations=\"iso_alpha\",color=colors3,\n",
    "                     hover_name=\"Country\", size=\"Total\",\n",
    "                     #text=\"continent\",\n",
    "                    animation_frame=\"Year\"\n",
    "                    )\n",
    "fig.update_layout(title_text='Total Fights by Country ',geo = dict(\n",
    "            landcolor = 'rgb(3, 0,0)',  bgcolor = 'rgb(64, 64, 64)',\n",
    "        ))\n",
    "fig.show()"
   ]
  }
 ],
 "metadata": {
  "kernelspec": {
   "display_name": "Python 3",
   "language": "python",
   "name": "python3"
  },
  "language_info": {
   "codemirror_mode": {
    "name": "ipython",
    "version": 3
   },
   "file_extension": ".py",
   "mimetype": "text/x-python",
   "name": "python",
   "nbconvert_exporter": "python",
   "pygments_lexer": "ipython3",
   "version": "3.7.7"
  }
 },
 "nbformat": 4,
 "nbformat_minor": 4
}
